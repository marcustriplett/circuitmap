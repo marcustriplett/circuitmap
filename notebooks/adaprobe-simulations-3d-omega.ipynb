{
 "cells": [
  {
   "cell_type": "code",
   "execution_count": 1,
   "metadata": {},
   "outputs": [
    {
     "name": "stderr",
     "output_type": "stream",
     "text": [
      "In C:\\Users\\Marcus\\anaconda3\\lib\\site-packages\\matplotlib\\mpl-data\\stylelib\\_classic_test.mplstyle: \n",
      "The text.latex.preview rcparam was deprecated in Matplotlib 3.3 and will be removed two minor releases later.\n",
      "In C:\\Users\\Marcus\\anaconda3\\lib\\site-packages\\matplotlib\\mpl-data\\stylelib\\_classic_test.mplstyle: \n",
      "The mathtext.fallback_to_cm rcparam was deprecated in Matplotlib 3.3 and will be removed two minor releases later.\n",
      "In C:\\Users\\Marcus\\anaconda3\\lib\\site-packages\\matplotlib\\mpl-data\\stylelib\\_classic_test.mplstyle: Support for setting the 'mathtext.fallback_to_cm' rcParam is deprecated since 3.3 and will be removed two minor releases later; use 'mathtext.fallback : 'cm' instead.\n",
      "In C:\\Users\\Marcus\\anaconda3\\lib\\site-packages\\matplotlib\\mpl-data\\stylelib\\_classic_test.mplstyle: \n",
      "The validate_bool_maybe_none function was deprecated in Matplotlib 3.3 and will be removed two minor releases later.\n",
      "In C:\\Users\\Marcus\\anaconda3\\lib\\site-packages\\matplotlib\\mpl-data\\stylelib\\_classic_test.mplstyle: \n",
      "The savefig.jpeg_quality rcparam was deprecated in Matplotlib 3.3 and will be removed two minor releases later.\n",
      "In C:\\Users\\Marcus\\anaconda3\\lib\\site-packages\\matplotlib\\mpl-data\\stylelib\\_classic_test.mplstyle: \n",
      "The keymap.all_axes rcparam was deprecated in Matplotlib 3.3 and will be removed two minor releases later.\n",
      "In C:\\Users\\Marcus\\anaconda3\\lib\\site-packages\\matplotlib\\mpl-data\\stylelib\\_classic_test.mplstyle: \n",
      "The animation.avconv_path rcparam was deprecated in Matplotlib 3.3 and will be removed two minor releases later.\n",
      "In C:\\Users\\Marcus\\anaconda3\\lib\\site-packages\\matplotlib\\mpl-data\\stylelib\\_classic_test.mplstyle: \n",
      "The animation.avconv_args rcparam was deprecated in Matplotlib 3.3 and will be removed two minor releases later.\n"
     ]
    }
   ],
   "source": [
    "import numpy as np\n",
    "import matplotlib\n",
    "import matplotlib.pyplot as plt\n",
    "import sys\n",
    "sys.path.append('../Code/')\n",
    "from importlib import reload\n",
    "import adaprobe\n",
    "from numba import njit\n",
    "EPS = 1e-13\n",
    "import time\n",
    "import torch\n",
    "import os\n",
    "from scipy.stats import gaussian_kde\n",
    "import seaborn as sns"
   ]
  },
  {
   "cell_type": "code",
   "execution_count": 13,
   "metadata": {},
   "outputs": [],
   "source": [
    "N = 16\n",
    "layout = 'random'"
   ]
  },
  {
   "cell_type": "code",
   "execution_count": 86,
   "metadata": {},
   "outputs": [],
   "source": [
    "true_phi_0 = np.random.uniform(0.1, 0.2, N)\n",
    "true_phi_1 = np.random.uniform(5, 10, N)"
   ]
  },
  {
   "cell_type": "code",
   "execution_count": 98,
   "metadata": {},
   "outputs": [],
   "source": [
    "sim = adaprobe.Simulation2d(layout=layout, dim2d=128, sigma=3, spacing=10, N=N, a=0.15, max_w=15, phi_1=true_phi_1, phi_0=true_phi_0, mode='online')"
   ]
  },
  {
   "cell_type": "code",
   "execution_count": 99,
   "metadata": {},
   "outputs": [],
   "source": [
    "# sim.w = np.random.rand(sim.N)"
   ]
  },
  {
   "cell_type": "code",
   "execution_count": 100,
   "metadata": {},
   "outputs": [],
   "source": [
    "if np.all(sim.w == 0):\n",
    "    connected_cell = np.random.randint(sim.N)\n",
    "    sim.z[connected_cell] = True\n",
    "    sim.w[connected_cell] = np.random.uniform()"
   ]
  },
  {
   "cell_type": "code",
   "execution_count": 101,
   "metadata": {},
   "outputs": [
    {
     "data": {
      "text/plain": [
       "array([False,  True, False, False, False, False, False, False, False,\n",
       "       False, False, False,  True, False,  True, False])"
      ]
     },
     "execution_count": 101,
     "metadata": {},
     "output_type": "execute_result"
    }
   ],
   "source": [
    "sim.z"
   ]
  },
  {
   "cell_type": "code",
   "execution_count": 97,
   "metadata": {},
   "outputs": [
    {
     "data": {
      "text/plain": [
       "array([-0.        , -0.        , -0.        , -0.        , -0.        ,\n",
       "       -0.        , -0.        , -0.        , -0.        , -0.        ,\n",
       "       -9.48144099, -0.        , -0.        , -4.7650616 , -0.        ,\n",
       "       -0.        ])"
      ]
     },
     "execution_count": 97,
     "metadata": {},
     "output_type": "execute_result"
    }
   ],
   "source": [
    "sim.w"
   ]
  },
  {
   "cell_type": "code",
   "execution_count": null,
   "metadata": {},
   "outputs": [],
   "source": []
  },
  {
   "cell_type": "code",
   "execution_count": null,
   "metadata": {},
   "outputs": [],
   "source": [
    "for n in range(int(np.min([N, 3]))):\n",
    "    sim.view_spike_prob_map(n, power=70)"
   ]
  },
  {
   "cell_type": "code",
   "execution_count": null,
   "metadata": {},
   "outputs": [],
   "source": []
  },
  {
   "cell_type": "code",
   "execution_count": null,
   "metadata": {},
   "outputs": [],
   "source": [
    "# Set-up neural net \n",
    "num_chans = 7\n",
    "dim = 128\n",
    "power = 70\n",
    "\n",
    "def get_indx(grid, loc):\n",
    "    return np.argmin(np.sqrt(np.sum(np.square(grid - loc), 1)))\n",
    "grid = np.c_[sim.gridx.flatten(), sim.gridy.flatten()]\n",
    "\n",
    "neuron_indices = [get_indx(grid, sim.cell_locs[n]) for n in range(N)]\n",
    "neuron_indices_on_grid = grid[neuron_indices]\n"
   ]
  },
  {
   "cell_type": "code",
   "execution_count": null,
   "metadata": {},
   "outputs": [],
   "source": [
    "def init_hist_dict(n_dicts=1, descriptors=[]):\n",
    "    lsd = [{} for _ in range(n_dicts)]\n",
    "    for d in lsd:\n",
    "        d['utility'] = []\n",
    "        for descr in descriptors:\n",
    "            d[descr] = []\n",
    "    if n_dicts == 1:\n",
    "        return lsd[0]\n",
    "    else:\n",
    "        return lsd\n",
    "        \n",
    "def record_hist(d, umap, model, descriptors=[]):\n",
    "    d['utility'] += [umap]\n",
    "    for descr in descriptors:\n",
    "        d[descr] += [model.state[descr]]\n",
    "        \n",
    "def hist_to_errs(d, sim):\n",
    "    errs = {}\n",
    "    w_est = (np.array(d['mu']) * np.array(d['alpha'])).T\n",
    "    sigma_est = np.sqrt(np.array(d['rate'])/np.array(d['shape']))\n",
    "    phi_est = np.moveaxis(np.array(d['phi_map']), 0, -1)\n",
    "    \n",
    "    errs['w'] = np.abs(sim.w[:, None] - w_est)\n",
    "    errs['sigma'] = np.abs(sim.sigma - sigma_est)\n",
    "    errs['phi_0'] = np.abs(sim.phi_0[:, None] - phi_est[:, 0, :])\n",
    "    errs['phi_1'] = np.abs(sim.phi_1[:, None] - phi_est[:, 1, :])\n",
    "    \n",
    "    return errs\n",
    "\n",
    "descriptors = ['mu', 'beta', 'alpha', 'lam', 'phi_map', 'phi_cov', 'shape', 'rate']"
   ]
  },
  {
   "cell_type": "code",
   "execution_count": null,
   "metadata": {},
   "outputs": [],
   "source": [
    "K = 1000\n",
    "N = sim.N\n",
    "interp = 0.5\n",
    "\n",
    "priors = {\n",
    "    'alpha': 0.5 * np.ones(N),\n",
    "    'omega': 1e-2 * np.ones(N),\n",
    "    'mu': np.zeros(N),\n",
    "    'beta': 1e1 * np.ones(N),\n",
    "    'shape': 1,\n",
    "    'rate': 1,\n",
    "    'phi_map': np.c_[1e-1 * np.ones(N), 1e1 * np.ones(N)],\n",
    "    'phi_cov': np.array([np.array([[1e-1, 0], [0, 1e1]]) for _ in range(N)])\n",
    "}\n",
    "\n",
    "fit_options = {\n",
    "    'iters': 15,\n",
    "    'newton_steps': 15, # default 10\n",
    "    'lam_update': 'monte-carlo',\n",
    "    'num_mc_samples': 10, # default 5\n",
    "    'verbose': False,\n",
    "    'init_t': 1e1,\n",
    "    't_loops': 3, # default 3\n",
    "    't_mult': 15,\n",
    "    'interp': interp\n",
    "}\n",
    "\n",
    "model_cnn = adaprobe.Model(sim.cell_locs, priors=priors)\n",
    "ensemble_size = 5\n",
    "model_soma_ls = [adaprobe.Model(sim.cell_locs, priors=priors) for _ in range(ensemble_size)]"
   ]
  },
  {
   "cell_type": "code",
   "execution_count": null,
   "metadata": {},
   "outputs": [],
   "source": [
    "sim.simulate(trials=K, powers=[70], design='ordered')\n",
    "# powers = np.arange(60, 91, 10)"
   ]
  },
  {
   "cell_type": "code",
   "execution_count": null,
   "metadata": {},
   "outputs": [],
   "source": [
    "# # Set-up hist dicts\n",
    "# hist_cnn = init_hist_dict(1, descriptors=descriptors)\n",
    "\n",
    "# sim.reset()\n",
    "# state_maps = torch.tensor(np.zeros((1, num_chans, dim, dim))).float()\n",
    "\n",
    "# # CNN TARGETING TRIALS\n",
    "# t1 = time.time()\n",
    "# for k in range(K):\n",
    "#     print('trial %i/%i'%(k + 1, K), end='\\r')\n",
    "#     state_maps = update_state_maps(state_maps, neuron_indices_on_grid, model_cnn, power, metadata['state_means'], metadata['state_sdevs'])\n",
    "#     target, umap = get_cnn_target(cnn, state_maps, grid)\n",
    "#     sim.next_trial(target, power)\n",
    "#     model_cnn.update(sim.y[k], (sim.L[k], sim.I[k]), fit_options=fit_options, method='cavi_online_spike_and_slab')\n",
    "#     record_hist(hist_cnn, umap, model_cnn, descriptors=descriptors)\n",
    "    \n",
    "# t2 = time.time()\n",
    "# print('elapsed time %.2f'%(t2 - t1))\n",
    "# L_cnn = np.array(sim.L)\n",
    "# spks_cnn = np.array(sim.spks).T\n",
    "# fr_cnn = np.array(sim.fr).T"
   ]
  },
  {
   "cell_type": "code",
   "execution_count": null,
   "metadata": {},
   "outputs": [],
   "source": [
    "hist_ls = init_hist_dict(ensemble_size, descriptors=descriptors)\n",
    "\n",
    "# RESET SIM\n",
    "for i in range(ensemble_size):\n",
    "    t1 = time.time()\n",
    "    for k in range(K):\n",
    "        print('trial %i/%i'%(k + 1, K), end='\\r')\n",
    "        model_soma_ls[i].update(sim.y[k], (sim.L[k], sim.I[k]), fit_options=fit_options, method='cavi_online_spike_and_slab')\n",
    "        record_hist(hist_ls[i], None, model_soma_ls[i], descriptors=descriptors)\n",
    "\n",
    "    t2 = time.time()\n",
    "    print('run %i: elapsed time %.2f'%(i, t2 - t1))"
   ]
  },
  {
   "cell_type": "code",
   "execution_count": null,
   "metadata": {},
   "outputs": [],
   "source": [
    "errs_soma_ls = [hist_to_errs(hist_ls[i], sim) for i in range(ensemble_size)]"
   ]
  },
  {
   "cell_type": "code",
   "execution_count": null,
   "metadata": {},
   "outputs": [],
   "source": [
    "L, I = np.array(sim.L), np.array(sim.I)"
   ]
  },
  {
   "cell_type": "code",
   "execution_count": null,
   "metadata": {},
   "outputs": [],
   "source": []
  },
  {
   "cell_type": "code",
   "execution_count": null,
   "metadata": {},
   "outputs": [],
   "source": [
    "plt.figure(figsize=(8, 8))\n",
    "for indx, key in enumerate(errs_soma_ls[0]):\n",
    "    plt.subplot(2, 2, indx + 1)\n",
    "    plt.title(key)\n",
    "    if key == 'sigma':\n",
    "        for i in range(ensemble_size):\n",
    "            plt.plot(errs_soma_ls[i][key])\n",
    "    else:\n",
    "        for i in range(ensemble_size):\n",
    "            plt.plot(np.mean(errs_soma_ls[i][key], 0))\n",
    "    plt.xlim([0, 1000])\n",
    "# plt.savefig('figs/model_ensemble_interp_0.25_mc_samps_5k.png', format='png', dpi=250, bbox_inches='tight')\n",
    "plt.show()"
   ]
  },
  {
   "cell_type": "code",
   "execution_count": null,
   "metadata": {},
   "outputs": [],
   "source": []
  },
  {
   "cell_type": "code",
   "execution_count": null,
   "metadata": {},
   "outputs": [],
   "source": []
  },
  {
   "cell_type": "code",
   "execution_count": null,
   "metadata": {},
   "outputs": [],
   "source": []
  },
  {
   "cell_type": "code",
   "execution_count": null,
   "metadata": {},
   "outputs": [],
   "source": [
    "xrange = np.arange(-20, 5, 0.1)\n",
    "def gaussf(mean, sdev):\n",
    "    return 1/(np.sqrt(2 * np.pi * sdev**2)) * np.exp(-1/(2 * sdev**2) * (xrange - mean)**2)\n",
    "\n",
    "connection_cols = ['firebrick', 'C0']\n",
    "\n",
    "def plot_connections(models, sim, legend=[], save=None):\n",
    "    plt.figure(figsize=(15, 3*(N/4)))\n",
    "    gaussf_pop = [gaussf(model.state['mu'][n], model.state['beta'][n]) for n in range(N) for model in models]\n",
    "    postmax = np.max(np.array(gaussf_pop))\n",
    "    for n in range(N):\n",
    "        plt.subplot(int(np.ceil(N/4)), 4, n + 1)\n",
    "        for indx, model in enumerate(models):\n",
    "            post = model.state['alpha'][n] * gaussf(model.state['mu'][n], model.state['beta'][n])\n",
    "            plt.plot(xrange, post)\n",
    "            \n",
    "        true_col = 'gray' if sim.w[n] == 0 else 'black'\n",
    "        plt.plot([sim.w[n], sim.w[n]], [0, postmax], '--', color=true_col)\n",
    "        plt.xlim(np.min(xrange), np.max(xrange))\n",
    "        plt.ylim([0, postmax])\n",
    "        if n == 0:\n",
    "            plt.legend(legend, loc='upper left', frameon=False)\n",
    "    if save is not None:\n",
    "        plt.savefig('figs/' + save + '.png', format='png', dpi=200, bbox_inches='tight')\n",
    "    else:\n",
    "        plt.show()"
   ]
  },
  {
   "cell_type": "code",
   "execution_count": null,
   "metadata": {},
   "outputs": [],
   "source": [
    "plot_connections(model_soma_ls, sim, save=None)"
   ]
  },
  {
   "cell_type": "code",
   "execution_count": null,
   "metadata": {},
   "outputs": [],
   "source": []
  },
  {
   "cell_type": "code",
   "execution_count": null,
   "metadata": {},
   "outputs": [],
   "source": [
    "def plot_spike_pred(model, sim, fr, spks):\n",
    "    lam = np.array(model.state['lam']).T\n",
    "    s_pred = (lam >= 0.5).astype(float)\n",
    "    for n in range(N):\n",
    "        plt.figure(figsize=(25, 0.75))\n",
    "        if sim.w[n] == 0:\n",
    "            plt.plot(fr[n], color='gray')\n",
    "        else:\n",
    "            plt.plot(fr[n], color='k')\n",
    "        plt.plot(lam[n], '--', color='r')\n",
    "        plt.scatter(np.arange(K), spks[n], color='gray')\n",
    "        plt.scatter(np.arange(s_pred[0].shape[0]), s_pred[n], 50, marker='x', color='r')\n",
    "        plt.xlim([0, lam.shape[1]])\n",
    "        plt.ylim([0, 1.1])\n",
    "        plt.show()"
   ]
  },
  {
   "cell_type": "code",
   "execution_count": null,
   "metadata": {},
   "outputs": [],
   "source": [
    "plot_spike_pred(model_soma_ls[0], sim, fr_cnn, spks_cnn)"
   ]
  },
  {
   "cell_type": "code",
   "execution_count": null,
   "metadata": {},
   "outputs": [],
   "source": [
    "plot_spike_pred(model_soma, sim, fr_soma, spks_soma)"
   ]
  },
  {
   "cell_type": "code",
   "execution_count": null,
   "metadata": {},
   "outputs": [],
   "source": []
  },
  {
   "cell_type": "code",
   "execution_count": null,
   "metadata": {},
   "outputs": [],
   "source": []
  },
  {
   "cell_type": "code",
   "execution_count": null,
   "metadata": {},
   "outputs": [],
   "source": [
    "xrange = np.arange(-0.5, 0.5, 0.01)\n",
    "\n",
    "plt.figure(figsize=(16, 3*(N/5)))\n",
    "for n in range(N):\n",
    "    plt.subplot(int(np.ceil(N/5)), 5, n + 1)\n",
    "    post = gaussf(phi_map[n, 0], phi_cov[n][0, 0])\n",
    "    if np.max(post) == 0:\n",
    "        plt.plot([phi_map[n, 0], phi_map[n, 0]], [0, 1], '-', color='r')\n",
    "        plt.plot([np.min(xrange), np.max(xrange)], [0, 0], color='r')\n",
    "    else:\n",
    "        plt.plot(xrange, post/np.max(post), color='r')\n",
    "    plt.plot([model.priors['phi_map'][n, 0], model.priors['phi_map'][n, 0]], [0, 1], '-.', color='b')\n",
    "    plt.plot([sim.phi_0[n], sim.phi_0[n]], [0, 1], '--', color='k')\n",
    "    plt.xlim(np.min(xrange), np.max(xrange))\n",
    "plt.tight_layout()\n",
    "plt.show()"
   ]
  },
  {
   "cell_type": "code",
   "execution_count": null,
   "metadata": {},
   "outputs": [],
   "source": []
  },
  {
   "cell_type": "code",
   "execution_count": null,
   "metadata": {},
   "outputs": [],
   "source": [
    "xrange = np.arange(0, 20, 0.01)\n",
    "\n",
    "plt.figure(figsize=(16, 3*(N/5)))\n",
    "for n in range(N):\n",
    "    plt.subplot(int(np.ceil(N/5)), 5, n + 1)\n",
    "    post = gaussf(phi_map[n, 1], phi_cov[n][1, 1])\n",
    "    if np.max(post) == 0:\n",
    "        plt.plot([phi_map[n, 0], phi_map[n, 0]], [0, 1], '-', color='r')\n",
    "        plt.plot([np.min(xrange), np.max(xrange)], [0, 0], color='r')\n",
    "    else:\n",
    "        plt.plot(xrange, post, color='r')\n",
    "    plt.plot([model.priors['phi_map'][n, 1], model.priors['phi_map'][n, 1]], [0, np.max(post)], '-.', color='b')\n",
    "    plt.plot([sim.phi_1[n], sim.phi_1[n]], [0, np.max(post)], '--', color='k')\n",
    "        \n",
    "    plt.xlim(np.min(xrange), np.max(xrange))\n",
    "plt.tight_layout()\n",
    "# plt.savefig('figs/connection_strength_posterior_inference_spikes_latent_40um_spacing.pdf', format='pdf', bbox_inches='tight')\n",
    "plt.show()"
   ]
  },
  {
   "cell_type": "code",
   "execution_count": null,
   "metadata": {},
   "outputs": [],
   "source": [
    "@njit\n",
    "def sigmoid(x):\n",
    "    return 1./(1. + np.exp(-x))"
   ]
  },
  {
   "cell_type": "code",
   "execution_count": null,
   "metadata": {},
   "outputs": [],
   "source": [
    "_power = 70\n",
    "plt.figure(figsize=(16, 3*(N/5)))\n",
    "for i in range(N):\n",
    "    plt.subplot(int(np.ceil(N/5)), 5, i + 1)\n",
    "    xran = np.arange(0, 50, 0.01)\n",
    "    fn = sigmoid(phi_map[i, 0] * _power * np.exp(-model.state['omega'][i] * xran) - phi_map[i, 1])\n",
    "    fn_lower = sigmoid((phi_map[i, 0] - np.sqrt(phi_cov[i][0, 0])) * _power * np.exp(-model.state['omega'][i] * xran) - (phi_map[i, 1] - np.sqrt(phi_cov[i][1, 1])))\n",
    "    fn_upper = sigmoid((phi_map[i, 0] + np.sqrt(phi_cov[i][0, 0])) * _power * np.exp(-model.state['omega'][i] * xran) - (phi_map[i, 1] + np.sqrt(phi_cov[i][1, 1])))\n",
    "    \n",
    "    if sim.z[i]:\n",
    "        plt.plot(xran, sigmoid(sim.phi_0[i] * _power * np.exp(-sim.omega[i] * xran) - sim.phi_1[i]), 'k--')\n",
    "        \n",
    "        plt.plot(xran, fn, 'r')\n",
    "        plt.fill_between(xran, fn_lower, fn_upper, alpha=0.35, facecolor='firebrick', edgecolor='None')\n",
    "        plt.ylim([-0.5e-1, 1 + 0.5e-1])\n",
    "        \n",
    "#         plt.plot(xran, sigmoid(phi_map[i, 0] * _power * np.exp(-model.state['omega'][i] * xran) - phi_map[i, 1]), 'r--')\n",
    "        plt.ylim([-0.5e-1, 1 + 0.5e-1])\n",
    "    else:\n",
    "        plt.plot(xran, sigmoid(sim.phi_0[i] * _power * np.exp(-sim.omega[i] * xran) - sim.phi_1[i]), color='b')\n",
    "        plt.plot(xran, sigmoid(phi_map[i, 0] * _power * np.exp(-model.state['omega'][i] * xran) - phi_map[i, 1]), 'b--')\n",
    "        plt.ylim([-0.5e-1, 1 + 0.5e-1])\n",
    "plt.tight_layout()\n",
    "plt.show()"
   ]
  },
  {
   "cell_type": "code",
   "execution_count": null,
   "metadata": {},
   "outputs": [],
   "source": [
    "_power = 70\n",
    "plt.figure(figsize=(3, 3))\n",
    "for i in range(N):\n",
    "    xran = np.arange(0, 50, 0.01)\n",
    "    plt.plot(xran, sigmoid(sim.phi_0[i] * _power * np.exp(-sim.omega[i] * xran) - sim.phi_1[i]), color='k')\n",
    "    plt.ylim([-0.5e-1, 1 + 0.5e-1])\n",
    "plt.show()"
   ]
  },
  {
   "cell_type": "code",
   "execution_count": null,
   "metadata": {},
   "outputs": [],
   "source": []
  },
  {
   "cell_type": "code",
   "execution_count": null,
   "metadata": {},
   "outputs": [],
   "source": []
  },
  {
   "cell_type": "code",
   "execution_count": null,
   "metadata": {},
   "outputs": [],
   "source": []
  },
  {
   "cell_type": "code",
   "execution_count": null,
   "metadata": {},
   "outputs": [],
   "source": []
  },
  {
   "cell_type": "code",
   "execution_count": null,
   "metadata": {},
   "outputs": [],
   "source": []
  },
  {
   "cell_type": "code",
   "execution_count": null,
   "metadata": {},
   "outputs": [],
   "source": []
  },
  {
   "cell_type": "code",
   "execution_count": null,
   "metadata": {},
   "outputs": [],
   "source": []
  },
  {
   "cell_type": "code",
   "execution_count": null,
   "metadata": {},
   "outputs": [],
   "source": []
  },
  {
   "cell_type": "code",
   "execution_count": null,
   "metadata": {},
   "outputs": [],
   "source": []
  }
 ],
 "metadata": {
  "kernelspec": {
   "display_name": "Python 3",
   "language": "python",
   "name": "python3"
  },
  "language_info": {
   "codemirror_mode": {
    "name": "ipython",
    "version": 3
   },
   "file_extension": ".py",
   "mimetype": "text/x-python",
   "name": "python",
   "nbconvert_exporter": "python",
   "pygments_lexer": "ipython3",
   "version": "3.7.6"
  }
 },
 "nbformat": 4,
 "nbformat_minor": 4
}
