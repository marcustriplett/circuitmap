{
 "cells": [
  {
   "cell_type": "code",
   "execution_count": 15,
   "id": "ed49ec1c-b1e3-4743-add5-6e67886ab8ff",
   "metadata": {},
   "outputs": [],
   "source": [
    "import matplotlib.pyplot as plt\n",
    "import numpy as np\n",
    "import jax.numpy as jnp\n",
    "from jax import jit, vmap\n",
    "import jax\n",
    "from jax.ops import index_update"
   ]
  },
  {
   "cell_type": "code",
   "execution_count": 9,
   "id": "edd292bb-8243-4261-8648-a708cb653317",
   "metadata": {},
   "outputs": [],
   "source": [
    "from jax.nn import sigmoid"
   ]
  },
  {
   "cell_type": "code",
   "execution_count": 10,
   "id": "8c098936-ca26-4999-95ab-850261b5dc46",
   "metadata": {},
   "outputs": [],
   "source": [
    "EPS = 1e-10"
   ]
  },
  {
   "cell_type": "markdown",
   "id": "0c7beb17-af41-4f3f-86cc-a067e0580977",
   "metadata": {},
   "source": [
    "# Jax updates"
   ]
  },
  {
   "cell_type": "code",
   "execution_count": 4,
   "id": "21adf7c5-a656-4413-be42-374fb062841a",
   "metadata": {},
   "outputs": [],
   "source": [
    "@jit\n",
    "def update_beta(alpha, lamk, shape, rate, beta_prev):\n",
    "    return 1/jnp.sqrt(shape/rate * alpha * lamk + 1/(beta_prev**2))"
   ]
  },
  {
   "cell_type": "code",
   "execution_count": 5,
   "id": "6eb27bb1-fed8-43a9-9077-187a180325f3",
   "metadata": {},
   "outputs": [],
   "source": [
    "@jit # in-place index_updates fast enough?\n",
    "def update_mu(yk, mu, beta, alpha, lamk, shape, rate, mu_prev, beta_prev, mask):\n",
    "    N = mu.shape[0]\n",
    "    sig = shape/rate\n",
    "    for n in range(N):\n",
    "        index_update(mu, n, (beta[n]**2) * (sig * alpha[n] * yk * lamk[n] - sig * alpha[n] * lamk[n] * jnp.sum(mu[mask[n]] * alpha[mask[n]] * lamk[mask[n]]) + mu_prev[n]/(beta_prev[n]**2)))\n",
    "    return mu"
   ]
  },
  {
   "cell_type": "code",
   "execution_count": 16,
   "id": "d18d9dc4-c6c1-4049-b5a9-1c5d5c018632",
   "metadata": {},
   "outputs": [],
   "source": [
    "@jit\n",
    "def update_alpha(yk, mu, beta, alpha, lamk, shape, rate, alpha_prev, mask):\n",
    "    N = mu.shape[0]\n",
    "    for n in range(N):\n",
    "        arg = -2 * mu[n] * yk * lamk[n] + 2 * mu[n] * lamk[n] * jnp.sum(mu[mask[n]] * alpha[mask[n]] * lamk[mask[n]]) + (mu[n]**2 + beta[n]**2) * lamk[n]\n",
    "        index_update(alpha, n, sigmoid(jnp.log((alpha_prev[n] + EPS)/(1 - alpha_prev[n] + EPS)) - shape/(2 * rate) * arg))\n",
    "    return alpha"
   ]
  },
  {
   "cell_type": "code",
   "execution_count": null,
   "id": "01e20963-f9b2-4cc6-b64d-183252a191c4",
   "metadata": {},
   "outputs": [],
   "source": []
  },
  {
   "cell_type": "code",
   "execution_count": 20,
   "id": "1d0b79cc-c401-4b06-ba25-3a881044428e",
   "metadata": {},
   "outputs": [],
   "source": [
    "# sample independent truncated normals"
   ]
  },
  {
   "cell_type": "code",
   "execution_count": null,
   "id": "3225094a-8c48-44ab-8c07-169be3ecd12e",
   "metadata": {},
   "outputs": [],
   "source": []
  },
  {
   "cell_type": "code",
   "execution_count": 17,
   "id": "b35ab64f-5711-48e1-873f-f07c8e2b6ecd",
   "metadata": {},
   "outputs": [],
   "source": [
    "@jit\n",
    "def update_lamk_monte_carlo(yk, mu, beta, alpha, lamk, shape, rate, phi_map, phi_cov, mask, omega, tark, Ik, C, num_mc_samples=5):\n",
    "    \"\"\"Infer latent spike rates using Monte Carlo samples of the sigmoid coefficients.\n",
    "    \"\"\"\n",
    "    N = mu.shape[0]\n",
    "    vtark = jnp.zeros(N)\n",
    "    index_update(vtark, tark, 1)\n",
    "    for n in range(N):\n",
    "        arg = -2 * yk * mu[n] * alpha[n] + 2 * mu[n] * alpha[n] * jnp.sum(mu[mask[n]] * alpha[mask[n]] * lamk[mask[n]]) + (mu[n]**2 + beta[n]**2) * alpha[n]\n",
    "        mc_samps = _sample_phi_independent_truncated_normals(phi_map[n], phi_cov[n], num_mc_samples=num_mc_samples) # samples of phi for neuron n\n",
    "        mcE = 0 # monte carlo approximation of expectation\n",
    "        for indx in range(num_mc_samples):\n",
    "            fn = sigmoid(mc_samps[indx, 0] * Ik * vtark[n] - mc_samps[indx, 1])\n",
    "            mcE = mcE + jnp.log(fn/(1 - fn))\n",
    "        mcE = mcE/num_mc_samples\n",
    "        index_update(lamk, n, sigmoid(mcE - shape/(2 * rate) * arg))\n",
    "    return lamk\t"
   ]
  },
  {
   "cell_type": "code",
   "execution_count": 19,
   "id": "65bb600f-2ea4-464f-bdd9-c362584f6510",
   "metadata": {},
   "outputs": [],
   "source": [
    "@jit\n",
    "def update_sigma(yk, mu, beta, alpha, lamk, prev_shape, prev_rate):\n",
    "    shape = prev_shape + 1/2\n",
    "    rate = prev_rate + 1/2 * (jnp.square(yk - jnp.sum(mu * alpha * lamk)) \\\n",
    "        - jnp.sum(jnp.square(mu * alpha * lamk)) + jnp.sum((mu**2 + beta**2) * lamk * alpha))\n",
    "    return shape, rate"
   ]
  },
  {
   "cell_type": "code",
   "execution_count": null,
   "id": "d4a25d1f-37b4-48d6-92e8-a79f646a4d4e",
   "metadata": {},
   "outputs": [],
   "source": []
  },
  {
   "cell_type": "code",
   "execution_count": null,
   "id": "cc6f73df-a147-4497-a3c3-db3d819b684a",
   "metadata": {},
   "outputs": [],
   "source": []
  },
  {
   "cell_type": "code",
   "execution_count": null,
   "id": "d51fd1ee-7704-4853-853a-8eceb06b4989",
   "metadata": {},
   "outputs": [],
   "source": [
    "\n",
    "@jit\n",
    "def _laplace_approx(y, phi_prior, phi_cov, I, newton_steps=15, t=1e1, backtrack_alpha=0.25, backtrack_beta=0.5, max_backtrack_iters=40):\n",
    "    \"\"\"Laplace approximation to sigmoid coefficient posteriors $phi$.\n",
    "    \"\"\"\n",
    "\n",
    "    def backtrack_cond(carry):\n",
    "        it, _, lhs, rhs, _, _, _ = carry\n",
    "        return jnp.logical_and(it < max_backtrack_iters, jnp.logical_or(jnp.isnan(lhs), lhs > rhs))\n",
    "\n",
    "    def backtrack(carry):\n",
    "        it, step, lhs, rhs, v, J, phi = carry\n",
    "        it += 1\n",
    "        step *= backtrack_beta\n",
    "        lhs, rhs = get_ineq(y, phi, step, v, t, J, backtrack_alpha)\n",
    "        return (it, step, lhs, rhs, v, J, phi)\n",
    "\n",
    "    def get_ineq(y, phi, step, v, t, J, backtrack_alpha):\n",
    "        return negloglik_with_barrier(y, phi + step * v, phi_prior, prior_prec, t), negloglik_with_barrier(y, phi, phi_prior, prior_prec, t) + backtrack_alpha * step * J @ v\n",
    "\n",
    "    def get_stepv(phi, t):\n",
    "        lam = jax.nn.sigmoid(psfc @ filt)\n",
    "        J = (lam - y) @ psfc - 1/(t * filt) + prior_prec @ (filt - filt_prior) \n",
    "        H = jnp.einsum('ij,ik->jk', (lam * (1 - lam))[:, None] * psfc, psfc) + jnp.diag(1/(t*filt**2)) + prior_prec\n",
    "        H_inv = jnp.linalg.inv(H)\n",
    "        v = -H_inv @ J\n",
    "        return v, J, H_inv\n",
    "\n",
    "    def newton_step(phi_carry, _):\n",
    "        phi, _ = phi_carry\n",
    "        v, J, cov = get_stepv(phi, t)  \n",
    "        step = 1.\n",
    "        lhs, rhs = get_ineq(y, phi, step, v, t, J, backtrack_alpha)\n",
    "        init_carry = (0, step, lhs, rhs, v, J, phi)\n",
    "        carry = while_loop(backtrack_cond, backtrack, init_carry)\n",
    "        _, step, lhs, _, _, _, _ = carry\n",
    "        filt += step * v\n",
    "        return (filt, cov), lhs\n",
    "\n",
    "    key = jax.random.PRNGKey(1)\n",
    "    phi = phi_prior.copy()\n",
    "    prior_prec = jnp.linalg.inv(phi_cov)\n",
    "    newton_steps = 30 # hard-coded for now\n",
    "    phi_carry = (phi, jnp.zeros((phi.shape[0], phi.shape[0])))\n",
    "    return scan(newton_step, phi_carry, jnp.arange(newton_steps))\n",
    "\n",
    "    laplace_approx = jit(vmap(_laplace_approx, (0, 0, 0, 0))) # parallel LAs across all cells\n",
    "\n",
    "@jit\n",
    "def negloglik_with_barrier(y, phi, phi_prior, I, prec, t):\n",
    "    lam = jax.nn.sigmoid(phi[0] * I - phi[1])\n",
    "    return -jnp.sum(jnp.nan_to_num(y * jnp.log(lam) + (1 - y) * jnp.log(1 - lam))) - jnp.sum(jnp.log(phi))/t + 1/2 * (phi - phi_prior) @ prec @ (phi - phi_prior)\n"
   ]
  },
  {
   "cell_type": "code",
   "execution_count": null,
   "id": "eea18b86-17b7-4da9-a215-d99a3509e5d4",
   "metadata": {},
   "outputs": [],
   "source": []
  },
  {
   "cell_type": "code",
   "execution_count": null,
   "id": "5e8be93e-04cd-4154-92ed-016f61526588",
   "metadata": {},
   "outputs": [],
   "source": []
  },
  {
   "cell_type": "code",
   "execution_count": null,
   "id": "30bd4d4e-e6a0-4e01-8854-9628dc8c25dd",
   "metadata": {},
   "outputs": [],
   "source": []
  },
  {
   "cell_type": "code",
   "execution_count": null,
   "id": "0ec42b0b-1f93-42e1-ab2f-a8c6be6ff1d2",
   "metadata": {},
   "outputs": [],
   "source": []
  }
 ],
 "metadata": {
  "kernelspec": {
   "display_name": "Python 3",
   "language": "python",
   "name": "python3"
  },
  "language_info": {
   "codemirror_mode": {
    "name": "ipython",
    "version": 3
   },
   "file_extension": ".py",
   "mimetype": "text/x-python",
   "name": "python",
   "nbconvert_exporter": "python",
   "pygments_lexer": "ipython3",
   "version": "3.8.8"
  }
 },
 "nbformat": 4,
 "nbformat_minor": 5
}
