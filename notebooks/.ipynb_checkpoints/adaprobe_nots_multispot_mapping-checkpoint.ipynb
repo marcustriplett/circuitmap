{
 "cells": [
  {
   "cell_type": "code",
   "execution_count": 1,
   "metadata": {},
   "outputs": [],
   "source": [
    "import matplotlib.pyplot as plt\n",
    "import numpy as np\n",
    "\n",
    "import sklearn\n",
    "from sklearn.mixture import GaussianMixture\n",
    "\n",
    "import os\n",
    "os.environ['CUDA_VISIBLE_DEVICES'] = '3'\n",
    "\n",
    "import jax\n",
    "import jax.numpy as jnp\n",
    "from jax import jit, vmap\n",
    "from jax.nn import sigmoid\n",
    "\n",
    "import time"
   ]
  },
  {
   "cell_type": "code",
   "execution_count": 2,
   "metadata": {},
   "outputs": [
    {
     "data": {
      "text/plain": [
       "[GpuDevice(id=0, process_index=0)]"
      ]
     },
     "execution_count": 2,
     "metadata": {},
     "output_type": "execute_result"
    }
   ],
   "source": [
    "jax.devices()"
   ]
  },
  {
   "cell_type": "code",
   "execution_count": 3,
   "metadata": {},
   "outputs": [],
   "source": [
    "EPS = 1e-10\n",
    "fontsize=13"
   ]
  },
  {
   "cell_type": "code",
   "execution_count": 4,
   "metadata": {},
   "outputs": [],
   "source": [
    "import sys\n",
    "sys.path.append('../')\n",
    "import adaprobe"
   ]
  },
  {
   "cell_type": "markdown",
   "metadata": {},
   "source": [
    "# Vary number of stimuli"
   ]
  },
  {
   "cell_type": "code",
   "execution_count": 5,
   "metadata": {},
   "outputs": [],
   "source": [
    "test_Ns = [2, 4, 8, 16, 32, 64]\n",
    "test_num_targets = [1, 2, 4, 8, 16, 32, 64]\n",
    "test_Ks = [500, 1000, 2000, 4000]\n",
    "test_sigmas = [1, 3, 5]"
   ]
  },
  {
   "cell_type": "code",
   "execution_count": 6,
   "metadata": {},
   "outputs": [],
   "source": [
    "fit_options = {\n",
    "    'iters': 100,\n",
    "    'num_mc_samples': 20\n",
    "}"
   ]
  },
  {
   "cell_type": "code",
   "execution_count": null,
   "metadata": {},
   "outputs": [
    {
     "name": "stdout",
     "output_type": "stream",
     "text": [
      "pop size: 64,  num_targets: 64,  run: 19\t\n",
      "Total elapsed time 14.55 min\n",
      "pop size: 64,  num_targets: 64,  run: 19\t\n",
      "Total elapsed time 14.85 min\n",
      "pop size: 64,  num_targets: 64,  run: 19\t\n",
      "Total elapsed time 16.43 min\n",
      "pop size: 64,  num_targets: 64,  run: 19\t\n",
      "Total elapsed time 19.19 min\n",
      "pop size: 64,  num_targets: 64,  run: 19\t\n",
      "Total elapsed time 13.75 min\n",
      "pop size: 64,  num_targets: 64,  run: 19\t\n",
      "Total elapsed time 14.13 min\n",
      "pop size: 64,  num_targets: 64,  run: 19\t\n",
      "Total elapsed time 15.88 min\n",
      "pop size: 64,  num_targets: 64,  run: 19\t\n",
      "Total elapsed time 18.52 min\n",
      "pop size: 64,  num_targets: 8,  run: 15\t\t\r"
     ]
    }
   ],
   "source": [
    "# sigma = 1\n",
    "# K = 500\n",
    "powers = np.arange(10, 51, 10)\n",
    "a = 0.5\n",
    "num_repeats = 20\n",
    "\n",
    "\n",
    "for sigma in test_sigmas:\n",
    "    for K in test_Ks:\n",
    "\n",
    "        error_matrix = -1 * np.ones((len(test_Ns), len(test_num_targets), num_repeats))\n",
    "\n",
    "        tstart = time.time()\n",
    "        for idxn, N in enumerate(test_Ns):\n",
    "            for idxs, num_targets in enumerate(test_num_targets):\n",
    "                if num_targets > N:\n",
    "                    continue\n",
    "                for rep in range(num_repeats):\n",
    "                    print('pop size: %i,  num_targets: %i,  run: %i\\t'%(N, num_targets, rep), end='\\r')\n",
    "\n",
    "                    # generate simulation\n",
    "                    phi_1 = np.random.uniform(2.5, 5.5, N)\n",
    "                    sim = adaprobe.Simulation3d(N=N, phi_1=phi_1, a=a, sigma=sigma)\n",
    "                    sim.simulate_multistim(trials=K, num_targets=np.min([num_targets, N]), powers=powers)\n",
    "\n",
    "                    # configure priors\n",
    "                    phi_prior = np.c_[0.1 * np.ones(N), 5 * np.ones(N)]\n",
    "                    phi_cov_prior = np.array([np.array([[1e-1, 0], [0, 1e0]]) for _ in range(N)])\n",
    "                    beta_prior = 7e0 * np.ones(N)\n",
    "                    mu_prior = np.zeros(N)\n",
    "\n",
    "                    priors = {\n",
    "                        'beta': beta_prior,\n",
    "                        'mu': mu_prior,\n",
    "                        'phi': phi_prior,\n",
    "                        'phi_cov': phi_cov_prior\n",
    "                    }\n",
    "\n",
    "                    stimulus_matrix = np.zeros((N, K))\n",
    "                    for n in range(N):\n",
    "                        locs = np.where(sim.tars == n)[0]\n",
    "                        stimulus_matrix[n, locs] = sim.I[locs]\n",
    "\n",
    "                    model = adaprobe.Model(sim.cell_locs, priors=priors)\n",
    "                    model.fit(sim.y, stimulus_matrix, fit_options=fit_options, method='cavi_offline_spike_and_slab_NOTS_jax')\n",
    "\n",
    "                    error_matrix[idxn, idxs, rep] = np.mean(np.abs(sim.w - model.state['mu'] * model.state['alpha']))\n",
    "        tend = time.time()\n",
    "        np.save('multispot_mapping_error_matrix_K%i_sigma%.1f.npy'%(K, sigma), error_matrix)\n",
    "        print('\\nTotal elapsed time %.2f min'%((tend-tstart)/60))"
   ]
  },
  {
   "cell_type": "code",
   "execution_count": null,
   "metadata": {},
   "outputs": [],
   "source": []
  },
  {
   "cell_type": "code",
   "execution_count": null,
   "metadata": {},
   "outputs": [],
   "source": [
    "means = np.mean(error_matrix, axis=-1)\n",
    "sdevs = np.std(error_matrix, axis=-1)\n",
    "\n",
    "fontsize=13"
   ]
  },
  {
   "cell_type": "code",
   "execution_count": null,
   "metadata": {},
   "outputs": [],
   "source": [
    "plt.figure(figsize=(12, 4))\n",
    "for N in range(len(Ns)):\n",
    "    num_pts = len(np.where(means[N] > -1)[0])\n",
    "    plt.plot(num_targets_all[:num_pts], means[N][:num_pts], 'o-', color='C%i'%N)\n",
    "#     plt.fill_between(num_targets_all[:num_pts], means[N][:num_pts] - sdevs[N][:num_pts], means[N][:num_pts] + sdevs[N][:num_pts], facecolor='C%i'%N, edgecolor='None', alpha=0.2)\n",
    "plt.xticks(num_targets_all)\n",
    "plt.legend(Ns, frameon=False, title='Population size', fontsize=fontsize, title_fontsize=fontsize)\n",
    "plt.ylabel('Mean absolute error\\n$|\\mathbb{E}[w_n] - w_n|$', fontsize=fontsize)\n",
    "plt.xlabel('Number of simultaneous holograms', fontsize=fontsize)\n",
    "plt.title('Noise: $\\sigma$=%.1f\\nNumber of trials: K=%i'%(sigma, K))\n",
    "plt.grid(linestyle='--', alpha=0.5)\n",
    "# for loc in ['top', 'right']:\n",
    "#     plt.gca().spines[loc].set_visible(False)\n",
    "plt.xticks(fontsize=fontsize)\n",
    "plt.yticks(fontsize=fontsize)\n",
    "\n",
    "# plt.savefig('figs/multi_spot_mapping_offline_err_vs_nstim_K%i_with_errbars.png'%K, format='png', bbox_inches='tight', dpi=200, facecolor='white')\n",
    "plt.show()"
   ]
  },
  {
   "cell_type": "code",
   "execution_count": null,
   "metadata": {},
   "outputs": [],
   "source": []
  },
  {
   "cell_type": "code",
   "execution_count": null,
   "metadata": {},
   "outputs": [],
   "source": []
  },
  {
   "cell_type": "code",
   "execution_count": null,
   "metadata": {},
   "outputs": [],
   "source": []
  }
 ],
 "metadata": {
  "kernelspec": {
   "display_name": "Python 3",
   "language": "python",
   "name": "python3"
  },
  "language_info": {
   "codemirror_mode": {
    "name": "ipython",
    "version": 3
   },
   "file_extension": ".py",
   "mimetype": "text/x-python",
   "name": "python",
   "nbconvert_exporter": "python",
   "pygments_lexer": "ipython3",
   "version": "3.9.4"
  }
 },
 "nbformat": 4,
 "nbformat_minor": 4
}
