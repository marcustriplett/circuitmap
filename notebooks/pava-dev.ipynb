{
 "cells": [
  {
   "cell_type": "code",
   "execution_count": 30,
   "metadata": {},
   "outputs": [],
   "source": [
    "import jax\n",
    "import jax.numpy as jnp\n",
    "import numpy as np\n",
    "\n",
    "from jax import vmap, jit\n",
    "from jax.experimental import loops\n",
    "from jax.ops import index_update, index_add\n",
    "import matplotlib.pyplot as plt\n",
    "from functools import partial"
   ]
  },
  {
   "cell_type": "code",
   "execution_count": 55,
   "metadata": {},
   "outputs": [],
   "source": [
    "def simultaneous_isotonic_regression(X, Ys, y_min=0, y_max=1):\n",
    "    \"\"\"\n",
    "    Run PAVA simultaneously on many problem instances. \n",
    "    Each problem must have the same independent variables, but we parallelize\n",
    "    over different observations.\n",
    "    \n",
    "    Args\n",
    "        X: (num_measurements)\n",
    "        Ys: (num_problems x num_measurements)\n",
    "        \n",
    "    Returns\n",
    "    \n",
    "        Y_hats: (num_problems x num_measurements) where each row is the result of running an isotonic\n",
    "                 regression.\n",
    "    \n",
    "    \"\"\"\n",
    "    \n",
    "    \n",
    "    idx = jnp.argsort(X)\n",
    "    X_s = X[idx]\n",
    "    Y_s = Ys[:,idx]\n",
    "    \n",
    "    \n",
    "    \n",
    "    X_unique = jnp.unique(X_s)\n",
    "    num_unique = len(X_unique)\n",
    "    \n",
    "    assert num_unique == X.shape[0], \"Repeated values in X not yet supported\"\n",
    "    \n",
    "    X_unique, Ys_unique = vmap(make_unique_fixed,\n",
    "        in_axes=(None, 0, None, None))(X_s, Y_s, X_unique, num_unique)\n",
    "    Y_preds = vmap(_pava, in_axes=(None, 0))(X_unique, Ys_unique)\n",
    "    return jnp.clip(Y_preds, a_min=y_min, a_max=y_max)\n",
    "    \n",
    "@jit\n",
    "def _pava(X_unique, Y_unique):\n",
    "\n",
    "    with loops.Scope() as s:\n",
    "        \n",
    "        s.lhs = 0\n",
    "        s.rhs = 0\n",
    "        s.block_assignments = jnp.zeros_like(Y_unique, dtype=int)\n",
    "        s.block_vals = jnp.zeros_like(Y_unique, dtype=float)\n",
    "        s.curr_block_size = 0\n",
    "        s.curr_block_sum = 0.0\n",
    "        s.block_idx = 0\n",
    "        n = len(Y_unique)\n",
    "\n",
    "        # equivalent:\n",
    "        # while rhs < n:\n",
    "        for _ in s.while_range(lambda: s.rhs < n):\n",
    "            s.curr_block_size = 0\n",
    "            s.curr_block_sum = 0.0\n",
    "            \n",
    "            # equivalent:\n",
    "            # while rhs < n and y[rhs] <= y[lhs]\n",
    "            for _ in s.while_range(lambda: \n",
    "                    jnp.logical_and(s.rhs < n, Y_unique[s.rhs] <= Y_unique[s.lhs])):\n",
    "                #block_assignments[rhs] = block_idx\n",
    "                s.block_assignments = index_update(s.block_assignments, s.rhs, s.block_idx)\n",
    "                \n",
    "                s.curr_block_size += 1\n",
    "                s.curr_block_sum += Y_unique[s.rhs]\n",
    "                s.rhs += 1\n",
    "\n",
    "\n",
    "            # done with decreasing subsequence\n",
    "            # equivalent: block_vals[block_idx] = curr_block_sum / curr_block_size\n",
    "            s.block_vals = index_update(s.block_vals, s.block_idx,\n",
    "                s.curr_block_sum.astype(float) / s.curr_block_size.astype(float))\n",
    "            s.lhs = s.rhs\n",
    "            s.block_idx += 1\n",
    "\n",
    "        # pass through the data to create the prediction \\hat y\n",
    "        s.Y_out = jnp.zeros_like(Y_unique)\n",
    "        s.idx = 0\n",
    "        for i in s.range(n):\n",
    "            s.idx = s.block_assignments[i]\n",
    "            s.Y_out = index_update(s.Y_out, i, s.block_vals[s.idx])\n",
    "    \n",
    "        return s.Y_out\n",
    "    \n",
    "@partial(jit, static_argnums=(3,))\n",
    "def make_unique_fixed(X, Y, X_unique, num_unique):\n",
    "    # vmap-friendly version of make_unique_flexible.\n",
    "    # Gets rid of duplicate independent variables in X,\n",
    "    # and averages the corresponding obervations in Y.\n",
    "    # NOTE: Assumes X and Y are sorted.\n",
    "    \n",
    "    with loops.Scope() as s:\n",
    "        s.Y_out = jnp.empty(num_unique)\n",
    "        \n",
    "        for i in s.range(num_unique):\n",
    "            curr_val = X_unique[i]\n",
    "            avg_y = jnp.nanmean(jnp.where(X == curr_val, Y, jnp.nan))\n",
    "            s.Y_out = index_update(s.Y_out, i, avg_y)\n",
    "            \n",
    "        return X_unique, s.Y_out\n",
    "    \n",
    "def make_unique_flexible(X, Y, eps=1e-8):\n",
    "    # Get rid of duplicate independent variables and associated observations\n",
    "    # by averaging. In this case, we consider independent vars. X within some\n",
    "    # tolerance to be the same.\n",
    "    # \n",
    "    # This is a direct copy of the implementation from sklearn here:\n",
    "    # https://github.com/scikit-learn/scikit-learn/blob/7e1e6d09bcc2eaeba98f7e737aac2ac782f0e5f1/sklearn/_isotonic.pyx#L66\n",
    "    # but modified to assume that all weights are equal 1\n",
    "    n_unique = len(jnp.unique(X))\n",
    "    n_samples = X.shape[0]\n",
    "    \n",
    "    \n",
    "    with loops.Scope() as s:\n",
    "        \n",
    "        s.X_out = jnp.empty(n_unique)\n",
    "        s.Y_out = jnp.empty_like(s.X_out)\n",
    "\n",
    "        s.w_cur = 0\n",
    "        s.x_cur = X[0]\n",
    "        s.y_cur = 0\n",
    "        s.i = 0\n",
    "        s.x = 0\n",
    "        \n",
    "        def true_fun(args):\n",
    "            i, w_cur, j, X_out, Y_out, x, x_cur, y_cur = args\n",
    "            X_out = index_update(X_out, i, x_cur)\n",
    "            Y_out = index_update(Y_out, i, y_cur / w_cur)\n",
    "            x_cur = x\n",
    "            y_cur = Y[j]\n",
    "            i += 1\n",
    "            w_cur = 1\n",
    "            return i, w_cur, X_out, Y_out, x_cur, y_cur\n",
    "            \n",
    "        def false_fun(args):\n",
    "            i, w_cur, j, X_out, Y_out, x, x_cur, y_cur = args\n",
    "            y_cur += Y[j]\n",
    "            w_cur += 1\n",
    "            return i, w_cur, X_out, Y_out, x_cur, y_cur\n",
    "    \n",
    "        for j in s.range(n_samples):\n",
    "            s.x = X[j]\n",
    "            \n",
    "            s.i, s.w_cur, s.X_out, s.Y_out, s.x_cur, s.y_cur = jax.lax.cond(\n",
    "                s.x - s.x_cur >= eps,\n",
    "                true_fun,\n",
    "                false_fun,\n",
    "                (s.i, s.w_cur, j, s.X_out, s.Y_out, s.x, s.x_cur, s.y_cur),\n",
    "            )\n",
    "        \n",
    "        s.X_out = index_update(s.X_out, s.i, s.x_cur)\n",
    "        s.Y_out = index_update(s.Y_out, s.i, s.y_cur / s.w_cur)\n",
    "        \n",
    "        return s.X_out[:s.i+1], s.Y_out[:s.i+1]\n",
    "    \n",
    "\n",
    "    "
   ]
  },
  {
   "cell_type": "code",
   "execution_count": 56,
   "metadata": {},
   "outputs": [
    {
     "data": {
      "text/plain": [
       "[<matplotlib.lines.Line2D at 0x2b68b0326dc0>,\n",
       " <matplotlib.lines.Line2D at 0x2b68b0326fd0>,\n",
       " <matplotlib.lines.Line2D at 0x2b68b0326eb0>,\n",
       " <matplotlib.lines.Line2D at 0x2b68b02ba3a0>,\n",
       " <matplotlib.lines.Line2D at 0x2b68b02ba580>,\n",
       " <matplotlib.lines.Line2D at 0x2b68b02ba7f0>]"
      ]
     },
     "execution_count": 56,
     "metadata": {},
     "output_type": "execute_result"
    },
    {
     "data": {
      "image/png": "[encoded data removed]",
      "text/plain": [
       "<Figure size 432x288 with 2 Axes>"
      ]
     },
     "metadata": {
      "needs_background": "light"
     },
     "output_type": "display_data"
    }
   ],
   "source": [
    "num_problems = 6\n",
    "X = jnp.array([0,25,30,35]) # 3 unique powers\n",
    "num_powers = X.shape[0]\n",
    "Ys = jnp.array(np.random.randint(0,high=10, size=(num_problems,num_powers)) + np.arange(num_powers))\n",
    "\n",
    "Y_preds = simultaneous_isotonic_regression(X, Ys, y_min=0, y_max=10)\n",
    "\n",
    "fig, axs = plt.subplots(1,2,)\n",
    "axs[0].plot(Ys.T)\n",
    "axs[1].plot(Y_preds.T)"
   ]
  },
  {
   "cell_type": "code",
   "execution_count": 57,
   "metadata": {},
   "outputs": [
    {
     "data": {
      "text/plain": [
       "[<matplotlib.lines.Line2D at 0x2b68b024c190>,\n",
       " <matplotlib.lines.Line2D at 0x2b68b024c1c0>,\n",
       " <matplotlib.lines.Line2D at 0x2b68b024c2e0>,\n",
       " <matplotlib.lines.Line2D at 0x2b68b024c400>,\n",
       " <matplotlib.lines.Line2D at 0x2b68b024c520>,\n",
       " <matplotlib.lines.Line2D at 0x2b68b024c640>]"
      ]
     },
     "execution_count": 57,
     "metadata": {},
     "output_type": "execute_result"
    },
    {
     "data": {
      "image/png": "[encoded data removed]",
      "text/plain": [
       "<Figure size 432x288 with 1 Axes>"
      ]
     },
     "metadata": {
      "needs_background": "light"
     },
     "output_type": "display_data"
    }
   ],
   "source": [
    "# Compare results to sklearn.isotonic\n",
    "from sklearn.isotonic import IsotonicRegression\n",
    "isotonic_regressor = IsotonicRegression(y_min=0, y_max=10, increasing=True)\n",
    "\n",
    "Y_preds_sklearn = np.stack([isotonic_regressor.fit_transform(X,y)for y in Ys], axis=0)\n",
    "plt.plot(Y_pred_sklearn.T)"
   ]
  },
  {
   "cell_type": "code",
   "execution_count": 58,
   "metadata": {},
   "outputs": [
    {
     "data": {
      "text/plain": [
       "True"
      ]
     },
     "execution_count": 58,
     "metadata": {},
     "output_type": "execute_result"
    }
   ],
   "source": [
    "np.allclose(Y_preds, Y_preds_sklearn)"
   ]
  },
  {
   "cell_type": "code",
   "execution_count": null,
   "metadata": {},
   "outputs": [],
   "source": []
  }
 ],
 "metadata": {
  "kernelspec": {
   "display_name": "Python 3.9.6 64-bit ('jax_env': conda)",
   "language": "python",
   "name": "python396jvsc74a57bd0bf2a8a0602723b6f6bf75f7b057b09dddaa477c9cedb90d2312da845fb0d2a08"
  },
  "language_info": {
   "codemirror_mode": {
    "name": "ipython",
    "version": 3
   },
   "file_extension": ".py",
   "mimetype": "text/x-python",
   "name": "python",
   "nbconvert_exporter": "python",
   "pygments_lexer": "ipython3",
   "version": "3.9.6"
  }
 },
 "nbformat": 4,
 "nbformat_minor": 5
}
