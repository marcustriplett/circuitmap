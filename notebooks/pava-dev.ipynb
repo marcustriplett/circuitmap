{
 "cells": [
  {
   "cell_type": "code",
   "execution_count": 20,
   "id": "529fab10",
   "metadata": {},
   "outputs": [],
   "source": [
    "import jax\n",
    "import jax.numpy as jnp\n",
    "import numpy as np\n",
    "\n",
    "from jax.experimental import loops\n",
    "from jax.ops import index_update, index_add"
   ]
  },
  {
   "cell_type": "code",
   "execution_count": 65,
   "id": "f5c0fd4c",
   "metadata": {},
   "outputs": [],
   "source": [
    "def pava(X, Y):\n",
    "    # maybe add shape checking here...\n",
    "    idx = jnp.argsort(X)\n",
    "    X_s = X[idx]\n",
    "    Y_s = Y[idx]\n",
    "    \n",
    "    X_unique, Y_unique = make_unique(X_s, Y_s)\n",
    "    return X_unique, Y_unique\n",
    "    \n",
    "\n",
    "def make_unique(X, Y, eps=1e-8):\n",
    "    # Get rid of duplicate independent variables and associated observations\n",
    "    # by averaging.\n",
    "    # \n",
    "    # This is a direct copy of the implementation from sklearn here:\n",
    "    # https://github.com/scikit-learn/scikit-learn/blob/7e1e6d09bcc2eaeba98f7e737aac2ac782f0e5f1/sklearn/_isotonic.pyx#L66\n",
    "    # but modified to assume that all weights are equal 1\n",
    "    n_unique = len(np.unique(X))\n",
    "    n_samples = X.shape[0]\n",
    "    \n",
    "    \n",
    "    with loops.Scope() as s:\n",
    "        \n",
    "        s.X_out = jnp.empty(n_unique)\n",
    "        s.Y_out = jnp.empty_like(s.X_out)\n",
    "\n",
    "        s.w_cur = 0\n",
    "        s.x_cur = X[0]\n",
    "        s.y_cur = 0\n",
    "        s.i = 0\n",
    "        s.x = 0\n",
    "        \n",
    "        def true_fun(args):\n",
    "            i, w_cur, j, X_out, Y_out, x, x_cur, y_cur = args\n",
    "            X_out = index_update(X_out, i, x_cur)\n",
    "            Y_out = index_update(Y_out, i, y_cur / w_cur)\n",
    "            x_cur = x\n",
    "            y_cur = Y[j]\n",
    "            i += 1\n",
    "            w_cur = 1\n",
    "            return i, w_cur, X_out, Y_out, x_cur, y_cur\n",
    "            \n",
    "        def false_fun(args):\n",
    "            i, w_cur, j, X_out, Y_out, x, x_cur, y_cur = args\n",
    "            y_cur += Y[j]\n",
    "            w_cur += 1\n",
    "            return i, w_cur, X_out, Y_out, x_cur, y_cur\n",
    "    \n",
    "        for j in s.range(n_samples):\n",
    "            s.x = X[j]\n",
    "            \n",
    "            s.i, s.w_cur, s.X_out, s.Y_out, s.x_cur, s.y_cur = jax.lax.cond(\n",
    "                s.x - s.x_cur >= eps,\n",
    "                true_fun,\n",
    "                false_fun,\n",
    "                (s.i, s.w_cur, j, s.X_out, s.Y_out, s.x, s.x_cur, s.y_cur),\n",
    "            )\n",
    "        \n",
    "        s.X_out = index_update(s.X_out, s.i, s.x_cur)\n",
    "        s.Y_out = index_update(s.Y_out, s.i, s.y_cur / s.w_cur)\n",
    "        \n",
    "        return s.X_out[:s.i+1], s.Y_out[:s.i+1]\n",
    "    \n",
    "\n",
    "    "
   ]
  },
  {
   "cell_type": "code",
   "execution_count": 66,
   "id": "fe517826",
   "metadata": {},
   "outputs": [
    {
     "data": {
      "text/plain": [
       "(DeviceArray([25., 30.], dtype=float32),\n",
       " DeviceArray([ 7.6666665, 16.333334 ], dtype=float32))"
      ]
     },
     "execution_count": 66,
     "metadata": {},
     "output_type": "execute_result"
    }
   ],
   "source": [
    "x = jnp.array([25,25,25,30,30,30])\n",
    "y = jnp.array([10,12,1,23, 19, 7])\n",
    "\n",
    "pava(x, y)"
   ]
  },
  {
   "cell_type": "code",
   "execution_count": 62,
   "id": "bd427d1b",
   "metadata": {},
   "outputs": [
    {
     "data": {
      "text/plain": [
       "DeviceArray(1, dtype=int32)"
      ]
     },
     "execution_count": 62,
     "metadata": {},
     "output_type": "execute_result"
    }
   ],
   "source": [
    "def f1(args):\n",
    "    a,b,c = args\n",
    "    return c\n",
    "\n",
    "def f2(args):\n",
    "    a,b,c = args\n",
    "    return a\n",
    "\n",
    "a = 1\n",
    "b = 3\n",
    "c = 1\n",
    "jax.lax.cond(\n",
    "    a > b,\n",
    "    f1,\n",
    "    f2,\n",
    "    (a,b,c)\n",
    ")"
   ]
  },
  {
   "cell_type": "code",
   "execution_count": null,
   "id": "9850cd9c",
   "metadata": {},
   "outputs": [],
   "source": []
  }
 ],
 "metadata": {
  "kernelspec": {
   "display_name": "Python 3.9.6 64-bit ('jax_env': conda)",
   "language": "python",
   "name": "python396jvsc74a57bd0bf2a8a0602723b6f6bf75f7b057b09dddaa477c9cedb90d2312da845fb0d2a08"
  },
  "language_info": {
   "codemirror_mode": {
    "name": "ipython",
    "version": 3
   },
   "file_extension": ".py",
   "mimetype": "text/x-python",
   "name": "python",
   "nbconvert_exporter": "python",
   "pygments_lexer": "ipython3",
   "version": "3.9.6"
  }
 },
 "nbformat": 4,
 "nbformat_minor": 5
}
