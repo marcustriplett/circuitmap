{
 "cells": [
  {
   "cell_type": "code",
   "execution_count": 1,
   "id": "043f9d50-87b5-4edf-a36c-ed4a67ad06cf",
   "metadata": {},
   "outputs": [],
   "source": [
    "import torch\n",
    "from torch.utils.data import DataLoader\n",
    "import torch.nn as nn\n",
    "import numpy as np\n",
    "import matplotlib.pyplot as plt\n",
    "import scipy.signal as sg\n",
    "fontsize=14"
   ]
  },
  {
   "cell_type": "code",
   "execution_count": 2,
   "id": "b9af87b4-5fa5-413b-b50d-9f0842906899",
   "metadata": {},
   "outputs": [],
   "source": [
    "import os\n",
    "os.environ['CUDA_VISIBLE_DEVICES'] = '3'"
   ]
  },
  {
   "cell_type": "code",
   "execution_count": 3,
   "id": "e3be8743-eda1-4d4b-9290-7bb99fd92e17",
   "metadata": {},
   "outputs": [],
   "source": [
    "import sys\n",
    "sys.path.append('..')\n",
    "# sys.path.append('../adaprobe/')\n",
    "import adaprobe\n",
    "from adaprobe.psc_denoiser import NeuralDenoiser, DenoisingNetwork\n",
    "fontsize=14"
   ]
  },
  {
   "cell_type": "code",
   "execution_count": null,
   "id": "7a2d3caa-f883-4634-8c32-8fbdb055406d",
   "metadata": {},
   "outputs": [],
   "source": []
  },
  {
   "cell_type": "code",
   "execution_count": 4,
   "id": "5f748afc-20d0-4d54-8018-7747a44ee631",
   "metadata": {},
   "outputs": [],
   "source": [
    "denoiser = NeuralDenoiser(path='denoisers/nl3_ch8_4_1_ks599_pad299_epochs_7k/nl3_ch8_4_1_ks599_pad299_chkpt_7000.pt') # pretty good, some over-estimation\n",
    "# denoiser = NeuralDenoiser(path='denoisers/nl3_ch16_8_1_ks399_pad199/_chkpt_2950.pt') # some weird multi-modal shapes\n",
    "# denoiser = NeuralDenoiser(path='denoisers/nl3_ch8_4_1_ks399_pad199/_chkpt_2950.pt') # similar weird multi-modality\n",
    "# denoiser = NeuralDenoiser(path='denoisers/nl4_ch16_8_4_1_ks399_pad199/_chkpt_2950.pt')\n",
    "# denoiser = NeuralDenoiser(path='denoisers/waveform_isolator/nl3_ch16_8_1_ks399_pd199_chkpt_950_chkpt_150_chkpt_1000.pt')\n",
    "# denoiser = NeuralDenoiser(kernel_size=399, padding=199)"
   ]
  },
  {
   "cell_type": "code",
   "execution_count": 5,
   "id": "6313b0ad-4ad8-4537-9f2a-b44187163920",
   "metadata": {},
   "outputs": [
    {
     "name": "stderr",
     "output_type": "stream",
     "text": [
      "../adaprobe/psc_denoiser.py:171: RuntimeWarning: overflow encountered in exp\n",
      "  return lambda x: (np.exp(-(x - delta)/tau_d) - np.exp(-(x - delta)/tau_r)) * (x >= delta)\n",
      "../adaprobe/psc_denoiser.py:171: RuntimeWarning: invalid value encountered in multiply\n",
      "  return lambda x: (np.exp(-(x - delta)/tau_d) - np.exp(-(x - delta)/tau_r)) * (x >= delta)\n"
     ]
    },
    {
     "ename": "ValueError",
     "evalue": "operands could not be broadcast together with shapes (5000,900) (5000,) ",
     "output_type": "error",
     "traceback": [
      "\u001b[0;31m---------------------------------------------------------------------------\u001b[0m",
      "\u001b[0;31mValueError\u001b[0m                                Traceback (most recent call last)",
      "\u001b[0;32m<ipython-input-5-53f41fb00b34>\u001b[0m in \u001b[0;36m<module>\u001b[0;34m\u001b[0m\n\u001b[0;32m----> 1\u001b[0;31m denoiser.generate_training_data(trial_dur=900, size=5000, gp_scale=0.03, delta_lower=160, \n\u001b[0m\u001b[1;32m      2\u001b[0m                                 \u001b[0mdelta_upper\u001b[0m\u001b[0;34m=\u001b[0m\u001b[0;36m240\u001b[0m\u001b[0;34m,\u001b[0m \u001b[0mnext_delta_lower\u001b[0m\u001b[0;34m=\u001b[0m\u001b[0;36m400\u001b[0m\u001b[0;34m,\u001b[0m \u001b[0mnext_delta_upper\u001b[0m\u001b[0;34m=\u001b[0m\u001b[0;36m899\u001b[0m\u001b[0;34m,\u001b[0m\u001b[0;34m\u001b[0m\u001b[0;34m\u001b[0m\u001b[0m\n\u001b[1;32m      3\u001b[0m                                tau_diff_lower=1, tau_diff_upper=150, tau_r_lower=1, tau_r_upper=80)\n\u001b[1;32m      4\u001b[0m \u001b[0;34m\u001b[0m\u001b[0m\n\u001b[1;32m      5\u001b[0m \u001b[0minputs\u001b[0m\u001b[0;34m,\u001b[0m \u001b[0mtargets\u001b[0m \u001b[0;34m=\u001b[0m \u001b[0mdenoiser\u001b[0m\u001b[0;34m.\u001b[0m\u001b[0mtraining_data\u001b[0m\u001b[0;34m\u001b[0m\u001b[0;34m\u001b[0m\u001b[0m\n",
      "\u001b[0;32m~/circuit_mapping/Dev/circuit_mapping/adaprobe/psc_denoiser.py\u001b[0m in \u001b[0;36mgenerate_training_data\u001b[0;34m(self, trial_dur, size, training_fraction, lp_cutoff, srate, tau_r_lower, tau_r_upper, tau_diff_lower, tau_diff_upper, delta_lower, delta_upper, next_delta_lower, next_delta_upper, mode_probs, noise_std_lower, noise_std_upper, gp_lengthscale, gp_scale, max_modes, observed_amplitude_lower, observed_amplitude_upper, save_path)\u001b[0m\n\u001b[1;32m    111\u001b[0m                 \u001b[0mampl\u001b[0m \u001b[0;34m=\u001b[0m \u001b[0mnp\u001b[0m\u001b[0;34m.\u001b[0m\u001b[0mrandom\u001b[0m\u001b[0;34m.\u001b[0m\u001b[0muniform\u001b[0m\u001b[0;34m(\u001b[0m\u001b[0mobserved_amplitude_lower\u001b[0m\u001b[0;34m,\u001b[0m \u001b[0mobserved_amplitude_upper\u001b[0m\u001b[0;34m,\u001b[0m \u001b[0msize\u001b[0m\u001b[0;34m)\u001b[0m\u001b[0;34m\u001b[0m\u001b[0;34m\u001b[0m\u001b[0m\n\u001b[1;32m    112\u001b[0m                 \u001b[0mmaxv\u001b[0m \u001b[0;34m=\u001b[0m \u001b[0mnp\u001b[0m\u001b[0;34m.\u001b[0m\u001b[0mmax\u001b[0m\u001b[0;34m(\u001b[0m\u001b[0minputs\u001b[0m\u001b[0;34m,\u001b[0m \u001b[0;36m1\u001b[0m\u001b[0;34m)\u001b[0m\u001b[0;34m[\u001b[0m\u001b[0;34m:\u001b[0m\u001b[0;34m,\u001b[0m \u001b[0;32mNone\u001b[0m\u001b[0;34m]\u001b[0m\u001b[0;34m\u001b[0m\u001b[0;34m\u001b[0m\u001b[0m\n\u001b[0;32m--> 113\u001b[0;31m                 \u001b[0minputs\u001b[0m \u001b[0;34m=\u001b[0m \u001b[0minputs\u001b[0m\u001b[0;34m/\u001b[0m\u001b[0mmaxv\u001b[0m \u001b[0;34m*\u001b[0m \u001b[0mampl\u001b[0m\u001b[0;34m\u001b[0m\u001b[0;34m\u001b[0m\u001b[0m\n\u001b[0m\u001b[1;32m    114\u001b[0m                 \u001b[0mtargets\u001b[0m \u001b[0;34m=\u001b[0m \u001b[0mtargets\u001b[0m\u001b[0;34m/\u001b[0m\u001b[0mmaxv\u001b[0m \u001b[0;34m*\u001b[0m \u001b[0mampl\u001b[0m\u001b[0;34m\u001b[0m\u001b[0;34m\u001b[0m\u001b[0m\n\u001b[1;32m    115\u001b[0m \u001b[0;34m\u001b[0m\u001b[0m\n",
      "\u001b[0;31mValueError\u001b[0m: operands could not be broadcast together with shapes (5000,900) (5000,) "
     ]
    }
   ],
   "source": [
    "denoiser.generate_training_data(trial_dur=900, size=5000, gp_scale=0.03, delta_lower=160, \n",
    "                                delta_upper=240, next_delta_lower=400, next_delta_upper=899,\n",
    "                               tau_diff_lower=1, tau_diff_upper=150, tau_r_lower=1, tau_r_upper=80)\n",
    "\n",
    "inputs, targets = denoiser.training_data\n",
    "test_inputs, test_targets = denoiser.test_data"
   ]
  },
  {
   "cell_type": "code",
   "execution_count": null,
   "id": "97dcd32d-8ef4-4785-adb4-de8a84d44855",
   "metadata": {},
   "outputs": [],
   "source": [
    "np.where(np.all(np.isnan(inputs), 1))"
   ]
  },
  {
   "cell_type": "code",
   "execution_count": null,
   "id": "304d4e9c-4cf3-48b6-b74a-bf386fd8bd67",
   "metadata": {},
   "outputs": [],
   "source": [
    "plt.plot(inputs[2545])\n",
    "plt.plot(targets[2545])"
   ]
  },
  {
   "cell_type": "code",
   "execution_count": null,
   "id": "aceba3d3-5b03-427d-8963-5b9a17b4df0f",
   "metadata": {},
   "outputs": [],
   "source": []
  },
  {
   "cell_type": "code",
   "execution_count": null,
   "id": "1cf6aeae-8d13-4575-95de-4a43aaa82cf6",
   "metadata": {},
   "outputs": [],
   "source": [
    "nplots = 50\n",
    "plt.figure(figsize=(10, nplots * 1))\n",
    "plot_cntr = 1\n",
    "for n in range(nplots):\n",
    "    plt.subplot(nplots, 6, plot_cntr)\n",
    "    plt.plot(test_inputs[n], color='k', linewidth=0.75)\n",
    "    plt.plot(test_targets[n], color='r')\n",
    "    plot_cntr += 1\n",
    "    plt.ylim(top=np.max(test_targets))\n",
    "plt.suptitle('Test data', fontsize=fontsize, y=1)\n",
    "plt.tight_layout()\n",
    "# plt.savefig('waveform_denoising_example_test_data.png', format='png', dpi=200, bbox_inches='tight', facecolor='white')\n",
    "plt.show()"
   ]
  },
  {
   "cell_type": "code",
   "execution_count": null,
   "id": "184b7f4c-5487-4ea2-9b54-4c179bee87ea",
   "metadata": {},
   "outputs": [],
   "source": []
  },
  {
   "cell_type": "code",
   "execution_count": null,
   "id": "675898af-5bf7-433d-b54c-fcadd5a4a8f6",
   "metadata": {},
   "outputs": [],
   "source": [
    "from adaprobe.psc_denoiser import _sample_psc_kernel"
   ]
  },
  {
   "cell_type": "code",
   "execution_count": null,
   "id": "28de6afd-5124-4e09-893c-07d4a2757afa",
   "metadata": {},
   "outputs": [],
   "source": [
    "n_samples = 1000\n",
    "_samps = _sample_psc_kernel(n_samples=n_samples, trial_dur=900, tau_diff_lower=1, tau_diff_upper=150, tau_r_lower=1, tau_r_upper=80)"
   ]
  },
  {
   "cell_type": "code",
   "execution_count": null,
   "id": "6bda8298-939c-4c84-bdbe-f765826c3325",
   "metadata": {},
   "outputs": [],
   "source": []
  },
  {
   "cell_type": "code",
   "execution_count": null,
   "id": "479b8acf-2a10-44a2-9c4e-c649ba657d57",
   "metadata": {},
   "outputs": [],
   "source": [
    "_max = np.max(_samps, 1)[:, None]\n",
    "amps = np.random.uniform(0.1, 1.5, n_samples)[:, None]"
   ]
  },
  {
   "cell_type": "code",
   "execution_count": null,
   "id": "ab683dd3-42b3-4606-af00-20f47bee4447",
   "metadata": {},
   "outputs": [],
   "source": [
    "%time scaled_samps = _samps/_max * amps"
   ]
  },
  {
   "cell_type": "code",
   "execution_count": null,
   "id": "87961e8b-6c75-4528-b356-c3f05bf36198",
   "metadata": {},
   "outputs": [],
   "source": [
    "trange = np.arange(-5, 41, 5)"
   ]
  },
  {
   "cell_type": "code",
   "execution_count": null,
   "id": "629701ac-d3cd-4c4d-9471-fb88ba6ed74c",
   "metadata": {},
   "outputs": [],
   "source": [
    "trange"
   ]
  },
  {
   "cell_type": "code",
   "execution_count": null,
   "id": "af7c29ae-e36b-4417-9eb8-d93f4346e931",
   "metadata": {},
   "outputs": [],
   "source": [
    "np.arange(0, 901, 100)"
   ]
  },
  {
   "cell_type": "code",
   "execution_count": null,
   "id": "3901eda6-19c7-4777-9bcc-99987d2acd6e",
   "metadata": {},
   "outputs": [],
   "source": [
    "plt.plot(scaled_samps.T)\n",
    "plt.xticks(np.arange(0, 901, 100))\n",
    "plt.gca().set_xticklabels(trange)\n",
    "plt.show()"
   ]
  },
  {
   "cell_type": "code",
   "execution_count": null,
   "id": "9d0ea074-3867-422e-89bd-1aa9d617e09b",
   "metadata": {},
   "outputs": [],
   "source": [
    "scaled_samps.shape"
   ]
  },
  {
   "cell_type": "code",
   "execution_count": null,
   "id": "0e0b5a27-4873-4e1d-80bc-0cd52ec5c6cc",
   "metadata": {},
   "outputs": [],
   "source": [
    "len(trange)"
   ]
  },
  {
   "cell_type": "code",
   "execution_count": null,
   "id": "261d4436-6513-4646-a26d-8c826980ba2c",
   "metadata": {},
   "outputs": [],
   "source": [
    "len(np.arange(0, 901, 100))"
   ]
  },
  {
   "cell_type": "code",
   "execution_count": null,
   "id": "fb068d23-4ac3-40a2-a99b-2000d15e974a",
   "metadata": {},
   "outputs": [],
   "source": [
    "45 * 20"
   ]
  },
  {
   "cell_type": "code",
   "execution_count": null,
   "id": "dbcf6dcb-5f76-4f6e-bb2f-d440f070494b",
   "metadata": {},
   "outputs": [],
   "source": []
  },
  {
   "cell_type": "code",
   "execution_count": null,
   "id": "8f449c1e-bfeb-42f2-b568-5f03e6634a3c",
   "metadata": {},
   "outputs": [],
   "source": [
    "# torch.save(denoiser.denoiser, 'denoisers/waveform_isolator/nl3_ch16_8_1_ks399_pd199_chkpt_950_chkpt_150_chkpt_1000.pt')"
   ]
  },
  {
   "cell_type": "code",
   "execution_count": null,
   "id": "c144455a-c2da-4c89-9a6a-fe8825989898",
   "metadata": {},
   "outputs": [],
   "source": [
    "pred_test = denoiser(test_targets)"
   ]
  },
  {
   "cell_type": "code",
   "execution_count": null,
   "id": "5a2768da-f54d-4d30-835a-153c93010ab1",
   "metadata": {},
   "outputs": [],
   "source": [
    "nplots = 50\n",
    "plt.figure(figsize=(15, nplots * 2))\n",
    "plot_cntr = 1\n",
    "for n in range(nplots):\n",
    "    plt.subplot(nplots, 6, plot_cntr)\n",
    "    plt.plot(test_inputs[n], color='k', linewidth=0.75)\n",
    "    plt.plot(test_targets[n], color='r')\n",
    "    plt.plot(pred_test[n], color='b')\n",
    "    plot_cntr += 1\n",
    "#     plt.ylim(top=np.max(test_targets))\n",
    "plt.suptitle('Test data', fontsize=fontsize, y=1)\n",
    "plt.tight_layout()\n",
    "# plt.savefig('waveform_denoising_example_test_data.png', format='png', dpi=200, bbox_inches='tight', facecolor='white')\n",
    "plt.show()"
   ]
  },
  {
   "cell_type": "code",
   "execution_count": null,
   "id": "a9c4f5f7-1df0-4cce-9012-228932e0acc9",
   "metadata": {},
   "outputs": [],
   "source": []
  },
  {
   "cell_type": "code",
   "execution_count": null,
   "id": "805978b8-1330-4ba5-a5a3-269965a115d5",
   "metadata": {},
   "outputs": [],
   "source": [
    "weights2 = denoiser.denoiser.layers[2].weight.detach().numpy().squeeze()\n",
    "\n",
    "for i in range(weights2.shape[0]):\n",
    "    plt.figure(figsize=(10, 3))\n",
    "    plt.imshow(weights2[i], aspect='auto')#, interpolation='nearest')\n",
    "    plt.show()"
   ]
  },
  {
   "cell_type": "code",
   "execution_count": null,
   "id": "faf38221-5d97-4342-b5ae-3085fac86e33",
   "metadata": {},
   "outputs": [],
   "source": []
  },
  {
   "cell_type": "code",
   "execution_count": null,
   "id": "51111377-b242-4e0f-8a6e-8da6abe4b050",
   "metadata": {},
   "outputs": [],
   "source": [
    "fname = 'SST_210608_cell1_map_A_45ms_trial'\n",
    "data = np.load('data/%s.npz'%fname)\n",
    "\n",
    "psc, L, I, sigma = 20 * data['psc'], data['L'], data['I'], data['sigma']\n",
    "K = psc.shape[0]\n",
    "\n",
    "denoised_psc = denoiser(psc)"
   ]
  },
  {
   "cell_type": "code",
   "execution_count": null,
   "id": "72cc36c6-fc71-417e-882b-fa6bbf64f2a5",
   "metadata": {},
   "outputs": [],
   "source": [
    "nplots = 100\n",
    "plot_start = 500\n",
    "plt.figure(figsize=(18, nplots * 1.5))\n",
    "plot_cntr = 1\n",
    "for n in range(plot_start, plot_start + nplots):\n",
    "    plt.subplot(nplots, 8, plot_cntr)\n",
    "    plt.plot(psc[n], color='k', linewidth=0.75)\n",
    "    plt.plot(denoised_psc[n], color='b')\n",
    "    plot_cntr += 1\n",
    "#     plt.ylim(top=1.05 * np.max(psc[plot_start:plot_start + nplots]))\n",
    "plt.tight_layout()\n",
    "plt.show()"
   ]
  },
  {
   "cell_type": "code",
   "execution_count": null,
   "id": "516a2750-d402-4e2f-90e5-5008a669c669",
   "metadata": {},
   "outputs": [],
   "source": [
    "def _build_stimulus_matrix(L, I):\n",
    "    targets = np.unique(L, axis=0)\n",
    "    N, K = targets.shape[0], L.shape[0]\n",
    "    stimulus_matrix = np.zeros((N, K))\n",
    "    for n in range(N):\n",
    "        locs = np.where((L == targets[n]).all(axis=1))[0]\n",
    "        stimulus_matrix[n, locs] = I[locs]\n",
    "    return stimulus_matrix\n",
    "\n",
    "stimulus_matrix = _build_stimulus_matrix(L, I)"
   ]
  },
  {
   "cell_type": "code",
   "execution_count": null,
   "id": "412984c3-ade0-4cdc-b720-200b11c82300",
   "metadata": {},
   "outputs": [],
   "source": [
    "trial_dur = 900\n",
    "n_repeats = 30\n",
    "N = stimulus_matrix.shape[0]"
   ]
  },
  {
   "cell_type": "code",
   "execution_count": null,
   "id": "a607cec3-c624-47e1-b532-50aaf9e98ff0",
   "metadata": {},
   "outputs": [],
   "source": [
    "trial_breaks = np.arange(0, trial_dur * n_repeats + 1, trial_dur)\n",
    "n_plots = N\n",
    "row_height = 0.5\n",
    "col_width = 7.5\n",
    "ncols = 3\n",
    "\n",
    "print(fname)\n",
    "plt.figure(figsize=(col_width * ncols, row_height * n_plots))\n",
    "\n",
    "pmax = np.max(np.abs(denoised_psc))\n",
    "\n",
    "for n in range(N):\n",
    "    # Spike predictions\n",
    "    plt.subplot(n_plots, ncols, n+1)\n",
    "    stim_locs = np.where(stimulus_matrix[n] > 0)[0]\n",
    "    this_y_psc = psc[stim_locs].flatten()/pmax\n",
    "    this_denoised_psc = denoised_psc[stim_locs].flatten()/pmax\n",
    "\n",
    "    plt.xlim([0, trial_dur*n_repeats])\n",
    "    for tb in range(len(trial_breaks) - 1):\n",
    "        plt.plot([trial_breaks[tb], trial_breaks[tb]], [-0.05, 1.05], '--', color='k')\n",
    "    plt.plot(this_y_psc, color='k', linewidth=0.8)\n",
    "    plt.plot(this_denoised_psc, color='b', linewidth=0.5)\n",
    "    for loc in ['top', 'right']:\n",
    "        plt.gca().spines[loc].set_visible(False)\n",
    "    plt.xticks([])\n",
    "    plt.yticks([])\n",
    "    plt.ylabel(n+1, fontsize=fontsize-1, rotation=0, labelpad=15, va='center')\n",
    "#     plt.ylim([-0.03, 0.4])\n",
    "    \n",
    "plt.suptitle('Waveform denoising ' + fname, y=0.885, fontsize=fontsize)\n",
    "plt.subplots_adjust(wspace=0.1)\n",
    "# plt.savefig('figs/waveform_denoising/%s_denoised.png'%fname, format='png', bbox_inches='tight', dpi=600, facecolor='white')\n",
    "plt.show()"
   ]
  },
  {
   "cell_type": "code",
   "execution_count": null,
   "id": "a0d4c64a-faf1-4b90-a4a2-d9bece2661bb",
   "metadata": {},
   "outputs": [],
   "source": [
    "5 * 20"
   ]
  },
  {
   "cell_type": "code",
   "execution_count": null,
   "id": "c15c3440-3f6e-4ca3-8781-15eafcd3b1db",
   "metadata": {},
   "outputs": [],
   "source": [
    "nplots = 12\n",
    "plt.figure(figsize=(12, nplots * 1.75))\n",
    "plot_cntr = 1\n",
    "leg_nrn = 4\n",
    "\n",
    "for n in range(nplots):\n",
    "    plt.subplot(nplots, 4, plot_cntr)\n",
    "    locs = np.where(stimulus_matrix[n] > 0)[0]\n",
    "    for indx, loc in enumerate(locs):\n",
    "        if indx == 0 and n == leg_nrn:\n",
    "            label_raw = 'Raw'\n",
    "            label_den = 'Demixed'\n",
    "        else:\n",
    "            label_raw = None\n",
    "            label_den = None\n",
    "        plt.plot(psc[loc], color='gray', linewidth=0.75, label=label_raw)\n",
    "        plt.plot(denoised_psc[loc], color='b', alpha=0.85, label=label_den)\n",
    "\n",
    "    if n == leg_nrn:\n",
    "        plt.legend(fontsize=fontsize, frameon=True)\n",
    "    \n",
    "    plt.xticks(np.arange(0, trial_dur + 1, 5*20), fontsize=fontsize-2)\n",
    "    plt.yticks(fontsize=fontsize-2)\n",
    "    if n >= nplots - 4:\n",
    "        plt.gca().set_xticklabels(np.arange(-5, 41, 5))\n",
    "        plt.xlabel('Time (ms)', fontsize=fontsize-2)\n",
    "    else:\n",
    "        plt.gca().set_xticklabels([])\n",
    "    if n % 4 == 0:\n",
    "        plt.ylabel('Current (pA)', fontsize=fontsize-2)\n",
    "    plot_cntr += 1\n",
    "# plt.suptitle('Neural network-based overlapping PSC demixing', fontsize=fontsize, y=0.9)\n",
    "# plt.savefig('figs/waveform_denoising/waveform_denoising_overlay_example_%s.pdf'%fname, format='pdf', bbox_inches='tight', backend='pgf')\n",
    "plt.show()"
   ]
  },
  {
   "cell_type": "code",
   "execution_count": null,
   "id": "3a46e803-4ccf-4439-979b-188f3acae094",
   "metadata": {},
   "outputs": [],
   "source": []
  },
  {
   "cell_type": "code",
   "execution_count": null,
   "id": "df35f295-9cd5-4864-b9fd-88abae7ae7ce",
   "metadata": {},
   "outputs": [],
   "source": []
  },
  {
   "cell_type": "code",
   "execution_count": null,
   "id": "c60f0795-1bb8-4150-9eed-c1ab2fa59f8a",
   "metadata": {},
   "outputs": [],
   "source": []
  },
  {
   "cell_type": "code",
   "execution_count": null,
   "id": "e209daff-455d-404c-9717-428ad667f3e7",
   "metadata": {},
   "outputs": [],
   "source": [
    "noise_stds = [1e-2, 1e-1, 1e0]\n",
    "noise_samples = np.array([np.random.normal(0, std, trial_dur) for std in noise_stds])\n",
    "n_samples = len(noise_stds)\n",
    "den_noise = denoiser(noise_samples)\n",
    "\n",
    "D = np.array([[i - j for i in range(trial_dur)] for j in range(trial_dur)])\n",
    "lengthscale = 25\n",
    "K = np.exp(-D**2/(2 * lengthscale**2))\n",
    "\n",
    "gp_scales = np.array([1e-2, 1e-1, 1e0])\n",
    "\n",
    "gp_samples = np.random.multivariate_normal(np.zeros(trial_dur), K, n_samples) * gp_scales[:, None]\n",
    "den_gp = denoiser(gp_samples)\n",
    "\n",
    "ylim = [-1, 1]\n",
    "ncols = 8"
   ]
  },
  {
   "cell_type": "code",
   "execution_count": null,
   "id": "b2c2209b-649a-4725-92ab-7533a2af7656",
   "metadata": {},
   "outputs": [],
   "source": [
    "plt.figure(figsize=(21, 6))\n",
    "plot_cntr = 1\n",
    "for i in range(n_samples):\n",
    "    plt.subplot(n_samples, ncols, plot_cntr)\n",
    "    plt.plot(noise_samples[i], color='k')\n",
    "    plt.title('IID noise ($\\sigma$ = %.2f)'%noise_stds[i])\n",
    "    plt.ylim(ylim)\n",
    "#     plt.legend(fontsize=fontsize, frameon=False)\n",
    "    plot_cntr += 1\n",
    "    \n",
    "    plt.subplot(n_samples, ncols, plot_cntr)\n",
    "    plt.plot(den_noise[i], color='b')\n",
    "    plt.title('Denoised')\n",
    "    plt.ylim(ylim)\n",
    "    plot_cntr += 1\n",
    "    \n",
    "    plt.subplot(n_samples, ncols, plot_cntr)\n",
    "    plt.plot(gp_samples[i], color='k')\n",
    "    plt.title('Correlated noise (scale = %.2f)'%gp_scales[i])\n",
    "    plt.ylim(ylim)\n",
    "    plot_cntr += 1\n",
    "    \n",
    "    plt.subplot(n_samples, ncols, plot_cntr)\n",
    "    plt.plot(den_gp[i], color='b')\n",
    "    plt.ylim(ylim)\n",
    "    plot_cntr += 1\n",
    "    \n",
    "    plt.subplot(n_samples, ncols, plot_cntr)\n",
    "    plt.plot(test_inputs[i], color='k')\n",
    "    plt.title('Test input (simulated)')\n",
    "    plt.ylim(ylim)\n",
    "    plot_cntr += 1\n",
    "    \n",
    "    plt.subplot(n_samples, ncols, plot_cntr)\n",
    "    plt.plot(test_targets[i], color='r')\n",
    "    plt.plot(pred_test[i], color='b')\n",
    "    plt.title('Denoised')\n",
    "    plt.ylim(ylim)\n",
    "    plt.legend(['Target', 'Prediction'], frameon=False)\n",
    "    plot_cntr += 1\n",
    "    \n",
    "    plt.subplot(n_samples, ncols, plot_cntr)\n",
    "    plt.plot(psc[i], color='k')\n",
    "    plt.ylim(ylim)\n",
    "    plt.title('Expt data')\n",
    "    plot_cntr += 1\n",
    "        \n",
    "    plt.subplot(n_samples, ncols, plot_cntr)\n",
    "    plt.plot(denoised_psc[i], color='b')\n",
    "    plt.title('Denoised')\n",
    "    plt.ylim(ylim)\n",
    "    plot_cntr += 1\n",
    "    \n",
    "plt.tight_layout()\n",
    "# plt.savefig('figs/waveform_denoising/denoiser_vs_various_noise_types.pdf', format='pdf', bbox_inches='tight')\n",
    "\n",
    "\n",
    "plt.show()"
   ]
  },
  {
   "cell_type": "code",
   "execution_count": null,
   "id": "74ac4691-5d6f-4846-ac75-21250c8b1456",
   "metadata": {},
   "outputs": [],
   "source": []
  },
  {
   "cell_type": "code",
   "execution_count": null,
   "id": "d8a579c6-e32e-4298-a566-d1e3ea6d311f",
   "metadata": {},
   "outputs": [],
   "source": []
  },
  {
   "cell_type": "code",
   "execution_count": null,
   "id": "9be54689-fd9d-4dc1-b02b-a0456739fb35",
   "metadata": {},
   "outputs": [],
   "source": [
    "col_reset = 8"
   ]
  },
  {
   "cell_type": "code",
   "execution_count": null,
   "id": "702b5108-f816-413f-b4ff-502d09860d1d",
   "metadata": {},
   "outputs": [],
   "source": [
    "ncols = 8\n",
    "cells_per_row = int((ncols-2)/2)\n",
    "xticks = np.arange(0, 801, 400)\n",
    "xticklabels = np.arange(0, 41, 20)"
   ]
  },
  {
   "cell_type": "code",
   "execution_count": null,
   "id": "0e34c0b7-dd92-4040-8802-a301f14cd982",
   "metadata": {},
   "outputs": [],
   "source": [
    "example_nrn = 28\n",
    "locs = np.where(stimulus_matrix[example_nrn] > 0)[0]\n",
    "\n",
    "plt.figure(figsize=(2, 2))\n",
    "plt.plot(psc[locs].T, color='k')\n",
    "# plt.axis('off')\n",
    "# plt.savefig('figs/diagrams/psc_example_raw_%s_%i.pdf'%(fname, example_nrn), format='pdf', bbox_inches='tight')\n",
    "ylim = plt.gca().get_ylim()\n",
    "plt.show()\n",
    "\n",
    "plt.figure(figsize=(2, 2))\n",
    "plt.plot(denoised_psc[locs].T, color='b', alpha=1)\n",
    "plt.axis('off')\n",
    "plt.ylim(ylim)\n",
    "# plt.savefig('figs/diagrams/psc_example_denoised_%s_%i.pdf'%(fname, example_nrn), format='pdf', bbox_inches='tight')\n",
    "plt.show()"
   ]
  },
  {
   "cell_type": "code",
   "execution_count": null,
   "id": "8b2bf421-8c4d-433d-a483-447b6173d7a4",
   "metadata": {},
   "outputs": [],
   "source": [
    "import matplotlib\n",
    "import colorcet\n",
    "# cmap = matplotlib.cm.get_cmap('tab20')"
   ]
  },
  {
   "cell_type": "code",
   "execution_count": null,
   "id": "e21548cf-5ca0-4279-a462-9ee08e318d50",
   "metadata": {},
   "outputs": [],
   "source": [
    "fontsize = 14"
   ]
  },
  {
   "cell_type": "code",
   "execution_count": null,
   "id": "9d103286-a59b-4859-ae91-25872a2f32df",
   "metadata": {},
   "outputs": [],
   "source": [
    "cmap = colorcet.cm.glasbey"
   ]
  },
  {
   "cell_type": "code",
   "execution_count": null,
   "id": "5654a887-c7b6-43b2-b082-54fa5b8ee840",
   "metadata": {},
   "outputs": [],
   "source": []
  },
  {
   "cell_type": "code",
   "execution_count": null,
   "id": "d3ee7023-1543-4da8-bfd4-6897bbe4097d",
   "metadata": {},
   "outputs": [],
   "source": [
    "fnames = [f for f in os.listdir('data') if 'SST' in f and '45ms' in f]"
   ]
  },
  {
   "cell_type": "code",
   "execution_count": null,
   "id": "d69e0f11-a102-4f3b-9791-2ce25f548ea1",
   "metadata": {},
   "outputs": [],
   "source": [
    "fnames"
   ]
  },
  {
   "cell_type": "code",
   "execution_count": null,
   "id": "d7a7ec5d-1aa0-4a33-bce4-784d8ff8656d",
   "metadata": {},
   "outputs": [],
   "source": [
    "trial_dur = 900\n",
    "n_repeats = 30\n",
    "widths = [1.5, 1.5, 0.25, 1.5, 1.5, 0.25, 1.5, 1.5]\n",
    "ms = 20\n",
    "nplots = 12\n",
    "nrows = int(np.ceil(nplots/cells_per_row))\n",
    "\n",
    "for i in range(len(fnames)):\n",
    "    # Load data\n",
    "    fname = fnames[i][:-4]\n",
    "    data = np.load('data/%s.npz'%fname)\n",
    "\n",
    "    psc, L, I, sigma = 20 * data['psc'], data['L'], data['I'], data['sigma']\n",
    "    K = psc.shape[0]\n",
    "    stimulus_matrix = _build_stimulus_matrix(L, I)\n",
    "    \n",
    "    # Denoise\n",
    "    %time denoised_psc = denoiser(psc)\n",
    "\n",
    "    # Plot fig\n",
    "    fig = plt.figure(figsize=(10.5, 1.2 * nrows))\n",
    "    g = fig.add_gridspec(ncols=ncols, nrows=nrows, width_ratios=widths)\n",
    "    row_counter = 0\n",
    "    col_counter = 0\n",
    "    for n in range(nplots):\n",
    "        locs = np.where(stimulus_matrix[n] > 0)[0]\n",
    "        ymin = np.min([np.min(psc[locs]), np.min(denoised_psc[locs])])\n",
    "        ymax = 1.05 * np.max([np.max(psc[locs]), np.max(denoised_psc[locs])])\n",
    "        norm = matplotlib.colors.Normalize(vmin=0, vmax=len(locs))\n",
    "        rord = np.random.choice(len(locs), len(locs), replace=False)\n",
    "\n",
    "        fig.add_subplot(g[row_counter, col_counter])\n",
    "        for indx, loc in enumerate(locs):\n",
    "            plt.plot(np.arange(-5*ms, 40*ms), psc[loc], color=cmap(norm(rord[indx])))\n",
    "        plt.ylim([ymin, ymax])\n",
    "        plt.xticks(xticks)\n",
    "        plt.gca().set_xticklabels(xticklabels, fontsize=fontsize)\n",
    "        if row_counter == 0:\n",
    "            plt.title('Raw', fontsize=fontsize)\n",
    "        col_counter +=1\n",
    "\n",
    "        if row_counter == nrows - 1:\n",
    "            for l in ['top', 'right', 'left']:\n",
    "                plt.gca().spines[l].set_visible(False)\n",
    "                plt.xticks(np.arange(-5*ms, 41*ms, 5*ms))\n",
    "                plt.xlabel('Time (ms)', fontsize=fontsize)\n",
    "        else:\n",
    "            for l in ['top', 'right', 'bottom', 'left']:\n",
    "                plt.gca().spines[l].set_visible(False)\n",
    "                plt.xticks([])\n",
    "        plt.yticks([])\n",
    "        plt.xlim([-5*ms, 40*ms])\n",
    "\n",
    "        fig.add_subplot(g[row_counter, col_counter])\n",
    "        for indx, loc in enumerate(locs):\n",
    "            plt.plot(np.arange(-5*ms, 40*ms), denoised_psc[loc], color=cmap(norm(rord[indx])))\n",
    "        plt.ylim([ymin, ymax])\n",
    "        plt.gca().set_yticklabels([])\n",
    "        plt.xticks(xticks)\n",
    "        plt.gca().set_xticklabels(xticklabels)\n",
    "\n",
    "        if row_counter == 0:\n",
    "            plt.title('Denoised', fontsize=fontsize)\n",
    "        col_counter += 1\n",
    "\n",
    "        if row_counter == nrows - 1:\n",
    "            for l in ['top', 'right', 'left']:\n",
    "                plt.gca().spines[l].set_visible(False)\n",
    "                plt.xticks(np.arange(-5*ms, 41*ms, 5*ms), fontsize=fontsize)\n",
    "                plt.xlabel('Time (ms)', fontsize=fontsize)\n",
    "        else:\n",
    "            for l in ['top', 'right', 'bottom', 'left']:\n",
    "                plt.gca().spines[l].set_visible(False)\n",
    "                plt.xticks([])\n",
    "        plt.yticks([])\n",
    "        plt.xlim([-5*ms, 40*ms])\n",
    "\n",
    "        if col_counter == col_reset:\n",
    "            row_counter += 1\n",
    "            col_counter = 0\n",
    "        else:\n",
    "            fig.add_subplot(g[row_counter, col_counter])\n",
    "            plt.axis('off')\n",
    "            col_counter += 1\n",
    "\n",
    "\n",
    "#     plt.savefig('figs/waveform_denoising/multicolour_examples/waveform_denoised_PSCs_sample_%s_multicolour.pdf'%fname, format='pdf', bbox_inches='tight', backend='pgf')\n",
    "#     plt.savefig('figs/waveform_denoising/multicolour_examples/waveform_denoised_PSCs_sample_%s_multicolour_tab20.png'%fname, \n",
    "#                 format='png', facecolor='white', bbox_inches='tight')\n",
    "    plt.show()"
   ]
  },
  {
   "cell_type": "code",
   "execution_count": null,
   "id": "f29151f6-02e6-40d7-81ff-1d973114a192",
   "metadata": {},
   "outputs": [],
   "source": []
  },
  {
   "cell_type": "code",
   "execution_count": null,
   "id": "03f15d00-950c-422f-99eb-3cfc75667f8a",
   "metadata": {},
   "outputs": [],
   "source": []
  },
  {
   "cell_type": "code",
   "execution_count": null,
   "id": "49eed9f3-3948-4cc7-b696-40e6ae4dd511",
   "metadata": {},
   "outputs": [],
   "source": []
  },
  {
   "cell_type": "code",
   "execution_count": null,
   "id": "dffd616f-333b-44ab-917e-f2bf841f7ffc",
   "metadata": {},
   "outputs": [],
   "source": []
  },
  {
   "cell_type": "markdown",
   "id": "59a56dee-6991-4bfb-90c7-35ff5f84ae0e",
   "metadata": {},
   "source": [
    "# Example input + target"
   ]
  },
  {
   "cell_type": "code",
   "execution_count": null,
   "id": "6d071682-9892-480f-ae33-e962ac54ae30",
   "metadata": {},
   "outputs": [],
   "source": [
    "trial_dur = 800\n",
    "xrange = np.arange(trial_dur)\n",
    "\n",
    "tau_r = 80\n",
    "tau_d = 100\n",
    "delta = 150\n",
    "\n",
    "sigma = 0.01"
   ]
  },
  {
   "cell_type": "code",
   "execution_count": null,
   "id": "52722ea1-6ae3-4fff-95ef-0b96ee395470",
   "metadata": {},
   "outputs": [],
   "source": [
    "def kernel_func(tau_r, tau_d, delta):\n",
    "    return lambda x: (np.exp(-(x - delta)/tau_d) - np.exp(-(x - delta)/tau_r)) * (x >= delta)"
   ]
  },
  {
   "cell_type": "code",
   "execution_count": null,
   "id": "f3afed00-ec55-471d-8da0-f655f90c51c1",
   "metadata": {},
   "outputs": [],
   "source": [
    "psc = kernel_func(tau_r, tau_d, delta)(xrange)\n",
    "\n",
    "noise_psc = kernel_func(tau_r, tau_d, -200)(xrange) + np.random.normal(0, sigma, len(xrange))\n",
    "\n",
    "lp_cutoff = 500\n",
    "srate = 2000\n",
    "b_lp, a_lp = sg.butter(4, lp_cutoff, btype='low', fs=srate)\n",
    "\n",
    "psc, noise_psc = [sg.filtfilt(b_lp, a_lp, trace, axis=-1) for trace in [psc, noise_psc]]"
   ]
  },
  {
   "cell_type": "code",
   "execution_count": null,
   "id": "c5c9a902-7971-4031-8be7-d803812de5e6",
   "metadata": {},
   "outputs": [],
   "source": []
  },
  {
   "cell_type": "code",
   "execution_count": null,
   "id": "750b7588-b2a6-4865-96e5-a8481c412e33",
   "metadata": {},
   "outputs": [],
   "source": [
    "plt.figure(figsize=(9, 4))\n",
    "plt.subplot(1, 2, 1)\n",
    "plt.title('Input')\n",
    "plt.plot(psc + noise_psc)\n",
    "plt.ylim(top=0.125)\n",
    "plt.subplot(1, 2, 2)\n",
    "plt.title('Target')\n",
    "plt.plot(psc)\n",
    "plt.ylim(top=0.125)\n",
    "plt.show()"
   ]
  },
  {
   "cell_type": "code",
   "execution_count": null,
   "id": "a7a5ebc2-d228-4107-8f11-f1c379240e88",
   "metadata": {},
   "outputs": [],
   "source": []
  },
  {
   "cell_type": "markdown",
   "id": "fd877aad-2288-4a85-8aad-53575ef52406",
   "metadata": {},
   "source": [
    "# Sample training data"
   ]
  },
  {
   "cell_type": "code",
   "execution_count": null,
   "id": "08c93311-9a99-453c-a527-0287ea53a48d",
   "metadata": {},
   "outputs": [],
   "source": [
    "D = np.array([[i - j for i in range(trial_dur)] for j in range(trial_dur)])\n",
    "\n",
    "def sample_gp(lengthscale=25, scale=0.01, trial_dur=800, n_samples=1):\n",
    "    K = np.exp(-D**2/(2*lengthscale**2))\n",
    "    mean = np.zeros(trial_dur)\n",
    "    return scale * np.random.multivariate_normal(mean, K, size=n_samples)"
   ]
  },
  {
   "cell_type": "code",
   "execution_count": null,
   "id": "2e5900d1-6ff1-467f-9f7b-f4a4ae673e21",
   "metadata": {},
   "outputs": [],
   "source": [
    "def sample_kern(tau_r_lower=10, tau_r_upper=80, tau_diff_lower=50, tau_diff_upper=150, min_delta=100, delta_lower=0, \n",
    "                delta_upper=200, trial_dur=800, n_samples=1):\n",
    "    tau_r_samples = np.random.uniform(tau_r_lower, tau_r_upper, n_samples)\n",
    "    tau_diff_samples = np.random.uniform(tau_diff_lower, tau_diff_upper, n_samples)\n",
    "    tau_d_samples = tau_r_samples + tau_diff_samples\n",
    "    delta_samples = min_delta + np.random.uniform(delta_lower, delta_upper, n_samples)\n",
    "    xrange = np.arange(trial_dur)\n",
    "    return np.array([kernel_func(tau_r_samples[i], tau_d_samples[i], delta_samples[i])(xrange) for i in range(n_samples)])"
   ]
  },
  {
   "cell_type": "code",
   "execution_count": null,
   "id": "58015e7a-dc66-4b9c-9685-754d15143a4c",
   "metadata": {},
   "outputs": [],
   "source": [
    "plt.plot(sample_kern(n_samples=30).T)\n",
    "plt.show()"
   ]
  },
  {
   "cell_type": "code",
   "execution_count": null,
   "id": "d03c1861-c77f-4374-a5f0-8c5eecb801e0",
   "metadata": {},
   "outputs": [],
   "source": [
    "plt.plot(sample_kern(n_samples=30).T + sample_gp(n_samples=30, scale=0.02).T)\n",
    "plt.show()"
   ]
  },
  {
   "cell_type": "code",
   "execution_count": null,
   "id": "d7af8201-d6d1-4d31-9e0d-873eae5b0b41",
   "metadata": {},
   "outputs": [],
   "source": [
    "plt.plot(sample_gp(n_samples=30, scale=0.02).T)\n",
    "plt.show()"
   ]
  },
  {
   "cell_type": "code",
   "execution_count": null,
   "id": "95b8114a-90eb-4b29-a1a2-f5f390bb3508",
   "metadata": {},
   "outputs": [],
   "source": [
    "plt.plot(np.sum(sample_kern(n_samples=3), 0))"
   ]
  },
  {
   "cell_type": "code",
   "execution_count": null,
   "id": "84f7736b-ca64-42f6-afc5-36d46bbb4223",
   "metadata": {},
   "outputs": [],
   "source": [
    "np.random.choice(4, 5, p=[0.25, 0.25, 0.25, 0.25])"
   ]
  },
  {
   "cell_type": "code",
   "execution_count": null,
   "id": "eb651bd0-98b1-44e8-96bd-61ce37170272",
   "metadata": {
    "tags": []
   },
   "outputs": [],
   "source": [
    "mode_probs = [0.3, 0.5, 0.1, 0.1]\n",
    "n_samples = 1000\n",
    "\n",
    "n_modes = np.random.choice(range(4), n_samples, p=mode_probs)\n",
    "n_modes_prev = np.random.choice(range(4), n_samples, p=mode_probs)\n",
    "targets = np.zeros((n_samples, trial_dur))\n",
    "prev_pscs = np.zeros((n_samples, trial_dur))\n",
    "noise_stds = np.random.uniform(0.01, 0.1, n_samples)\n",
    "noise = np.zeros((n_samples, trial_dur))\n",
    "gp_noise = sample_gp(n_samples=n_samples, scale=0.03)\n",
    "for n in range(n_samples):\n",
    "    targets[n] = np.sum(sample_kern(n_samples=n_modes[n], delta_upper=400), 0)\n",
    "    prev_pscs[n] = np.sum(sample_kern(n_samples=n_modes_prev[n], min_delta=0, \n",
    "                          delta_lower=-400, delta_upper=-100), 0)\n",
    "    noise[n] = np.random.normal(0, noise_stds[n], trial_dur)\n",
    "    \n",
    "inputs = sg.filtfilt(b_lp, a_lp, prev_pscs + targets + gp_noise + noise, axis=-1)"
   ]
  },
  {
   "cell_type": "code",
   "execution_count": null,
   "id": "c85915ae-a15f-4da6-a7e2-e6ed2f129bc2",
   "metadata": {},
   "outputs": [],
   "source": [
    "plt.figure()\n",
    "plt.plot(targets[:30].T)\n",
    "plt.show()"
   ]
  },
  {
   "cell_type": "code",
   "execution_count": null,
   "id": "e0f5b323-184e-4394-8521-dda0009c02f9",
   "metadata": {},
   "outputs": [],
   "source": []
  },
  {
   "cell_type": "code",
   "execution_count": null,
   "id": "701c40fa-fb40-437e-a5f8-835de25c947e",
   "metadata": {},
   "outputs": [],
   "source": [
    "plt.figure()\n",
    "plt.plot(prev_pscs[:30].T)\n",
    "plt.show()"
   ]
  },
  {
   "cell_type": "code",
   "execution_count": null,
   "id": "21f3b9f5-b33f-4240-8f25-1a6ad6bb6572",
   "metadata": {},
   "outputs": [],
   "source": [
    "nplots = 60\n",
    "plt.figure(figsize=(20, nplots * 2))\n",
    "for n in range(nplots):\n",
    "    plt.subplot(nplots, 6, n+1)\n",
    "    plt.plot(inputs[n], color='k')\n",
    "    plt.plot(targets[n], color='r')\n",
    "    plt.ylim(top=np.max(targets))\n",
    "# plt.savefig('sample_psc_training_data.png', format='png', dpi=200, facecolor='white', bbox_inches='tight')\n",
    "plt.show()"
   ]
  },
  {
   "cell_type": "code",
   "execution_count": null,
   "id": "dfed5a9e-7664-43dd-9406-e18e38e42b69",
   "metadata": {},
   "outputs": [],
   "source": []
  },
  {
   "cell_type": "markdown",
   "id": "f8831489-68f3-49ab-bcf5-70190a6c878d",
   "metadata": {},
   "source": [
    "# Neural network training"
   ]
  },
  {
   "cell_type": "markdown",
   "id": "d2a1510c-1b7c-462e-ab1f-e160cfc83cec",
   "metadata": {},
   "source": [
    "\n",
    "    o = output\n",
    "    p = padding\n",
    "    k = kernel_size\n",
    "    s = stride\n",
    "    d = dilation\n",
    "\n",
    " o = floor([i + 2*p - d * (k-1) - 1]/s + 1)\n",
    "     floor([800 + 2p - k + 1 - 1]/s + 1)\n",
    "     floor([800 + 2p - k]/s + 1)\n",
    "800 = floor([800 + 2p - k]/s + 1)\n",
    "\n",
    "if k = 99, s = 1\n",
    "800 = floor(800 + 2p - 98)"
   ]
  },
  {
   "cell_type": "markdown",
   "id": "bc883173-e3ef-4587-9e66-55cd40303f53",
   "metadata": {},
   "source": [
    "<!-- (800 + 2p - 100)/2 -->"
   ]
  },
  {
   "cell_type": "code",
   "execution_count": null,
   "id": "c5bbaca7-a339-4cb7-8134-6fa3c3adb6d5",
   "metadata": {},
   "outputs": [],
   "source": [
    "def choose_padding(trial_dur, kernel_size, stride):\n",
    "    return ((trial_dur - 1) * stride + kernel_size - 1 - trial_dur)/2"
   ]
  },
  {
   "cell_type": "code",
   "execution_count": null,
   "id": "347869dd-0b38-4fda-a1ea-9f9ae6480376",
   "metadata": {},
   "outputs": [],
   "source": [
    "choose_padding(800, 100, 1)"
   ]
  },
  {
   "cell_type": "code",
   "execution_count": null,
   "id": "d456d46a-baf7-4ed2-ad35-f3fc01b12664",
   "metadata": {},
   "outputs": [],
   "source": []
  },
  {
   "cell_type": "code",
   "execution_count": null,
   "id": "0fc57caa-3e7e-4509-a8e8-3f8ba8072266",
   "metadata": {},
   "outputs": [],
   "source": [
    "# padding = 49\n",
    "# kernel_size = 99\n",
    "# stride = 2\n",
    "\n",
    "# class PSCDenoiser(torch.nn.Module):\n",
    "#     def __init__(self):\n",
    "#         super(PSCDenoiser, self).__init__()\n",
    "#         self.layer1 = torch.nn.Conv1d(in_channels=1, out_channels=32, kernel_size=kernel_size, stride=stride, padding=padding, dilation=1)\n",
    "#         self.layer2 = torch.nn.Conv1d(in_channels=32, out_channels=16, kernel_size=kernel_size, stride=stride, padding=padding, dilation=1)\n",
    "#         self.layer3 = torch.nn.Conv1d(in_channels=16, out_channels=1, kernel_size=kernel_size, stride=stride, padding=padding, dilation=1)\n",
    "# #         self.layer4 = torch.nn.Conv1d(in_channels=5, out_channels=1, kernel_size=9, stride=1, padding=4, dilation=1)\n",
    "#         self.relu = torch.nn.ReLU()\n",
    "#     def forward(self, x):\n",
    "#         x = self.relu(self.layer1(x))\n",
    "#         x = self.relu(self.layer2(x))\n",
    "#         x = self.relu(self.layer3(x))\n",
    "# #         x = self.relu(self.layer4(x))\n",
    "#         return x"
   ]
  },
  {
   "cell_type": "code",
   "execution_count": null,
   "id": "3dcff05f-9fb9-4693-a093-40738e8270bb",
   "metadata": {},
   "outputs": [],
   "source": [
    "padding = 49\n",
    "kernel_size = 99\n",
    "stride = 2\n",
    "\n",
    "class PSCDenoiser_autoenc(torch.nn.Module):\n",
    "    def __init__(self):\n",
    "        \n",
    "        super(PSCDenoiser_autoenc, self).__init__()\n",
    "        self.maxpool = nn.MaxPool1d(3, stride=2, return_indices=True)\n",
    "        self.conv1 = nn.Conv1d(in_channels=1, out_channels=32, kernel_size=16, stride=2, padding=0, dilation=1)\n",
    "        self.conv2 = nn.Conv1d(in_channels=32, out_channels=64, kernel_size=16, stride=2, padding=0, dilation=1)\n",
    "        self.conv3 = nn.Conv1d(in_channels=64, out_channels=128, kernel_size=16, stride=1, padding=0, dilation=1)\n",
    "        \n",
    "        self.maxunpool = nn.MaxUnpool1d(3, stride=2, padding=0)\n",
    "        self.deconv3 = nn.ConvTranspose1d(in_channels=128, out_channels=64, kernel_size=16, stride=1, padding=0, output_padding=0)\n",
    "        self.deconv2 = nn.ConvTranspose1d(in_channels=64, out_channels=32, kernel_size=16, stride=2, padding=0, output_padding=1)\n",
    "        self.deconv1 = nn.ConvTranspose1d(in_channels=32, out_channels=1, kernel_size=16, stride=2, padding=0, output_padding=0)\n",
    "\n",
    "        self.relu = nn.ReLU()\n",
    "        self.layers = [self.conv1, self.conv2, self.conv3, self.deconv3, self.deconv2, self.deconv1]\n",
    "#         self.layers = [self.conv1, self.conv2, self.deconv2, self.deconv3]\n",
    "        \n",
    "    def forward(self, x, debug=False):\n",
    "        # Encoding\n",
    "        x = self.relu(self.conv1(x))\n",
    "        x, inds1 = self.maxpool(x)\n",
    "        if debug: print('maxpool', x.shape)\n",
    "        x = self.relu(self.conv2(x))\n",
    "        if debug: print('conv', x.shape)\n",
    "#         x, inds2 = self.maxpool(x)\n",
    "#         if debug: print('maxpool', x.shape)\n",
    "        x = self.relu(self.conv3(x))\n",
    "        if debug: print('conv', x.shape)\n",
    "        \n",
    "        if debug: print('')\n",
    "        # Decoding\n",
    "        x = self.relu(self.deconv3(x))\n",
    "        if debug: print('deconv', x.shape)\n",
    "#         x = self.maxunpool(x, inds2)\n",
    "#         if debug: print('unpool', x.shape)\n",
    "        x = self.relu(self.deconv2(x))\n",
    "        if debug: print('deconv', x.shape)\n",
    "        x = self.maxunpool(x, inds1)\n",
    "        if debug: print('unpool', x.shape)\n",
    "        x = self.relu(self.deconv1(x))\n",
    "        \n",
    "#         for layer in self.layers:\n",
    "#             x = self.relu(layer(x))        \n",
    "        return x"
   ]
  },
  {
   "cell_type": "code",
   "execution_count": null,
   "id": "e9574d87-b12d-4ef1-9c2c-8b50da090b5b",
   "metadata": {},
   "outputs": [],
   "source": [
    "_test_inputs = torch.tensor(np.expand_dims(test_inputs, 1).copy()).float()"
   ]
  },
  {
   "cell_type": "code",
   "execution_count": null,
   "id": "c1b35b90-5692-43e2-90fb-4e0545756482",
   "metadata": {},
   "outputs": [],
   "source": [
    "model = PSCDenoiser_autoenc().float()"
   ]
  },
  {
   "cell_type": "code",
   "execution_count": null,
   "id": "028fd06b-cdef-443f-ad57-a11074aa9471",
   "metadata": {},
   "outputs": [],
   "source": [
    "model(_test_inputs).detach().numpy().squeeze()[0].shape"
   ]
  },
  {
   "cell_type": "code",
   "execution_count": null,
   "id": "9cb3b030-e4c1-453b-84ab-f7537274797e",
   "metadata": {},
   "outputs": [],
   "source": [
    "plt.plot(model(_test_inputs).detach().numpy().squeeze()[0])"
   ]
  },
  {
   "cell_type": "code",
   "execution_count": null,
   "id": "d41a298c-cd0c-4d2c-a782-49054e336a19",
   "metadata": {},
   "outputs": [],
   "source": []
  },
  {
   "cell_type": "code",
   "execution_count": null,
   "id": "06db8bd9-1a7e-4196-9de4-8e144c68fc47",
   "metadata": {},
   "outputs": [],
   "source": []
  },
  {
   "cell_type": "code",
   "execution_count": null,
   "id": "d86cb4f7-5650-4c1c-a59f-382c56b65580",
   "metadata": {},
   "outputs": [],
   "source": [
    "# maxpool = nn.MaxPool1d(3, stride=2, return_indices=True)\n",
    "# conv1 = torch.nn.Conv1d(in_channels=1, out_channels=8, kernel_size=16, stride=2, padding=0, dilation=1)\n",
    "# conv2 = torch.nn.Conv1d(in_channels=8, out_channels=16, kernel_size=16, stride=2, padding=0, dilation=1)\n",
    "# conv3 = torch.nn.Conv1d(in_channels=16, out_channels=32, kernel_size=16, stride=1, padding=1, dilation=1)\n",
    "# # conv4 = torch.nn.Conv1d(in_channels=32, out_channels=64, kernel_size=5, stride=2, padding=1, dilation=1)\n",
    "\n",
    "# maxunpool = nn.MaxUnpool1d(3, stride=2, padding=1)\n",
    "# # deconv0 = nn.ConvTranspose1d(in_channels=64, out_channels=32, kernel_size=5, stride=2, padding=0, output_padding=0)\n",
    "# deconv1 = nn.ConvTranspose1d(in_channels=32, out_channels=16, kernel_size=32, stride=2, padding=1, output_padding=0)\n",
    "# deconv2 = nn.ConvTranspose1d(in_channels=16, out_channels=8, kernel_size=32, stride=1, padding=1, output_padding=0)\n",
    "# deconv3 = nn.ConvTranspose1d(in_channels=8, out_channels=1, kernel_size=32, stride=1, padding=1, output_padding=1)"
   ]
  },
  {
   "cell_type": "code",
   "execution_count": null,
   "id": "9a79933b-9286-4e21-9848-8a0b7c422093",
   "metadata": {
    "jupyter": {
     "source_hidden": true
    },
    "tags": []
   },
   "outputs": [],
   "source": [
    "# # Encoding\n",
    "\n",
    "# x = _test_inputs.clone()\n",
    "\n",
    "# x = conv1(x)\n",
    "# print(x.shape)\n",
    "# x, inds = maxpool(x)\n",
    "# print(x.shape)\n",
    "\n",
    "# x = conv2(x)\n",
    "# print(x.shape)\n",
    "# x, inds = maxpool(x)\n",
    "# print(x.shape)\n",
    "\n",
    "# x = conv3(x)\n",
    "# print(x.shape)\n",
    "# x, inds = maxpool(x)\n",
    "# print(x.shape)\n",
    "\n",
    "\n",
    "\n",
    "# # x = conv4(x)\n",
    "# # print(x.shape)\n",
    "\n",
    "# # Decoding\n",
    "\n",
    "# x = deconv0(x)\n",
    "# print(x.shape)\n",
    "# x = deconv1(x)\n",
    "# print(x.shape)\n",
    "# # x = maxunpool(x, inds)\n",
    "# # print(x.shape)\n",
    "# x = deconv2(x)\n",
    "# print(x.shape)\n",
    "# x = deconv3(x)\n",
    "# print(x.shape)"
   ]
  },
  {
   "cell_type": "code",
   "execution_count": null,
   "id": "77853768-33e0-45ae-b52e-c63f00884d26",
   "metadata": {},
   "outputs": [],
   "source": []
  },
  {
   "cell_type": "code",
   "execution_count": null,
   "id": "f253fe06-5312-463f-a724-0f5313981ec8",
   "metadata": {},
   "outputs": [],
   "source": [
    "plt.plot(inputs[0])\n",
    "plt.plot(targets[0])"
   ]
  },
  {
   "cell_type": "code",
   "execution_count": null,
   "id": "10aab519-b46a-476e-a15d-bb04991405f1",
   "metadata": {},
   "outputs": [],
   "source": [
    "# model = PSCDenoiser().double()"
   ]
  },
  {
   "cell_type": "code",
   "execution_count": null,
   "id": "85b7acc8-822d-4ca0-be70-171a2a7a862b",
   "metadata": {},
   "outputs": [],
   "source": [
    "# _inputs = torch.tensor(inputs.reshape([n_samples, 1, trial_dur]).copy())"
   ]
  },
  {
   "cell_type": "code",
   "execution_count": null,
   "id": "3d3cbff5-9e8e-4ede-b3a0-ac1bd0b9d9d2",
   "metadata": {},
   "outputs": [],
   "source": [
    "from torch.utils.data import Dataset, DataLoader\n",
    "\n",
    "class PSCData(Dataset):\n",
    "    \"\"\"The training table dataset.\n",
    "    \"\"\"\n",
    "    def __init__(self, inputs, targets):\n",
    "        n_samples, trial_len = inputs.shape\n",
    "        inputs = inputs.copy().reshape([n_samples, 1, trial_len])\n",
    "        targets = targets.copy().reshape([n_samples, 1, trial_len])\n",
    "        self.x_data = [torch.from_numpy(row) for row in inputs]\n",
    "        self.y_data = [torch.from_numpy(row) for row in targets]\n",
    "        self.len = inputs.shape[0]\n",
    "        \n",
    "    def __getitem__(self, index):\n",
    "        return self.x_data[index], self.y_data[index]\n",
    "        \n",
    "    def __len__(self):\n",
    "        return self.len"
   ]
  },
  {
   "cell_type": "code",
   "execution_count": null,
   "id": "043bbaf7-3229-481d-ac0a-45ce4cc394d7",
   "metadata": {},
   "outputs": [],
   "source": []
  },
  {
   "cell_type": "code",
   "execution_count": null,
   "id": "2c4a0bec-9bb7-42fa-a095-b8071b5db9fc",
   "metadata": {},
   "outputs": [],
   "source": [
    "n_samples = inputs.shape[0]"
   ]
  },
  {
   "cell_type": "code",
   "execution_count": null,
   "id": "8a1d3704-7969-44ba-9407-1d82c3733f9c",
   "metadata": {},
   "outputs": [],
   "source": [
    "n_train = int(0.9 * inputs.shape[0])\n",
    "test_frac = n_samples - n_train\n",
    "\n",
    "# Denoising\n",
    "training_data = PSCData(inputs[:n_train], targets[:n_train])\n",
    "test_data = PSCData(inputs[n_train:], targets[n_train:])\n",
    "\n",
    "# AUTOENCODING\n",
    "# training_data = PSCData(inputs[:n_train], inputs[:n_train])\n",
    "# test_data = PSCData(inputs[n_train:], inputs[n_train:])"
   ]
  },
  {
   "cell_type": "code",
   "execution_count": null,
   "id": "a177fa2a-77a4-45ec-8e8b-e7948ed8aff6",
   "metadata": {},
   "outputs": [],
   "source": [
    "def train_loop(dataloader, model, loss_fn, optimizer):\n",
    "    size = len(dataloader.dataset)\n",
    "    for batch, (X, y) in enumerate(dataloader):\n",
    "        # Compute prediction and loss\n",
    "        pred = model(X)\n",
    "        loss = loss_fn(pred, y)\n",
    "\n",
    "        # Backpropagation\n",
    "        optimizer.zero_grad()\n",
    "        loss.backward()\n",
    "        optimizer.step()\n",
    "            \n",
    "def test_loop(dataloader, model, loss_fn):\n",
    "    size = len(dataloader.dataset)\n",
    "    num_batches = len(dataloader)\n",
    "    test_loss = 0\n",
    "\n",
    "    with torch.no_grad():\n",
    "        for X, y in dataloader:\n",
    "            pred = model(X)\n",
    "            test_loss += loss_fn(pred, y).item()\n",
    "\n",
    "    test_loss /= num_batches\n",
    "    return test_loss"
   ]
  },
  {
   "cell_type": "code",
   "execution_count": null,
   "id": "f72d1e28-0c19-4366-bc32-6c38485625b6",
   "metadata": {},
   "outputs": [],
   "source": [
    "train_dataloader = DataLoader(training_data, batch_size=64)\n",
    "test_dataloader = DataLoader(test_data, batch_size=64)"
   ]
  },
  {
   "cell_type": "code",
   "execution_count": null,
   "id": "877b203c-db3b-4edd-84ef-5264c44e68e6",
   "metadata": {},
   "outputs": [],
   "source": [
    "# model = PSCDenoiser().double()"
   ]
  },
  {
   "cell_type": "code",
   "execution_count": null,
   "id": "70204c19-8b0f-440d-85e0-a27e7c43f342",
   "metadata": {},
   "outputs": [],
   "source": [
    "model = PSCDenoiser_autoenc().double()"
   ]
  },
  {
   "cell_type": "code",
   "execution_count": null,
   "id": "4f89b72c-a1b2-4c11-bd1d-1e85065a040b",
   "metadata": {},
   "outputs": [],
   "source": [
    "plt.plot(model(torch.tensor(np.expand_dims(inputs.copy(), 1))).detach().numpy().squeeze()[0])\n",
    "plt.plot(targets[0])"
   ]
  },
  {
   "cell_type": "code",
   "execution_count": null,
   "id": "c556cddd-891c-4dd3-8610-95296a2137fa",
   "metadata": {},
   "outputs": [],
   "source": []
  },
  {
   "cell_type": "code",
   "execution_count": null,
   "id": "73b80e86-2324-4db4-b7aa-f2319341ffca",
   "metadata": {},
   "outputs": [],
   "source": [
    "learning_rate = 1e-2\n",
    "loss_fn = nn.MSELoss()\n",
    "optimizer = torch.optim.SGD(model.parameters(), lr=learning_rate)"
   ]
  },
  {
   "cell_type": "code",
   "execution_count": null,
   "id": "0946234b-6e4b-484f-8f0f-a8bdc5f2717c",
   "metadata": {},
   "outputs": [],
   "source": [
    "test_loop(test_dataloader, denoiser.denoiser.double(), loss_fn)"
   ]
  },
  {
   "cell_type": "code",
   "execution_count": null,
   "id": "623754d2-d36a-4b31-8dbc-d74e80387317",
   "metadata": {},
   "outputs": [],
   "source": [
    "epochs = 10000\n",
    "loss_ls = np.zeros(epochs)\n",
    "for t in range(epochs):\n",
    "    train_loop(train_dataloader, model, loss_fn, optimizer)\n",
    "    loss_ls[t] = test_loop(test_dataloader, model, loss_fn)\n",
    "    print('Epoch %i/%i Loss: %.10f (delta %.10f)'%(t+1, epochs, loss_ls[t], loss_ls[t] - loss_ls[t-1]), end='\\r')\n",
    "print(\"Done!\")"
   ]
  },
  {
   "cell_type": "code",
   "execution_count": null,
   "id": "8fc32466-49de-43e9-9aa2-de5e5dbd5e18",
   "metadata": {},
   "outputs": [],
   "source": [
    "plt.figure(figsize=(3, 3))\n",
    "plt.plot(loss_ls[:t])\n",
    "plt.yscale('log')\n",
    "plt.show()"
   ]
  },
  {
   "cell_type": "code",
   "execution_count": null,
   "id": "184b68d4-9dc7-4a50-8505-1ae65393ecfd",
   "metadata": {},
   "outputs": [],
   "source": []
  },
  {
   "cell_type": "code",
   "execution_count": null,
   "id": "468684ee-cce6-4024-9c69-09541777f679",
   "metadata": {},
   "outputs": [],
   "source": [
    "pred = denoiser.denoiser(torch.tensor(np.expand_dims(inputs.copy(), 1))).detach().numpy().squeeze()"
   ]
  },
  {
   "cell_type": "code",
   "execution_count": null,
   "id": "bc80a7f1-2b82-439e-97e1-6a031e23f444",
   "metadata": {},
   "outputs": [],
   "source": [
    "plt.figure(figsize=(12, 12))\n",
    "for i in range(16):\n",
    "    plt.subplot(4, 4, i+1)\n",
    "    plt.plot(inputs[i], color='k')\n",
    "    plt.plot(targets[i], color='r')\n",
    "    plt.plot(pred[i], 'b-')\n",
    "    plt.ylim([0, np.max(inputs)])\n",
    "plt.show()"
   ]
  },
  {
   "cell_type": "code",
   "execution_count": null,
   "id": "761dd44c-951d-4040-b7c2-15d49a1fc86f",
   "metadata": {},
   "outputs": [],
   "source": []
  },
  {
   "cell_type": "code",
   "execution_count": null,
   "id": "94020110-5930-406d-b3c5-51b859b5cb84",
   "metadata": {},
   "outputs": [],
   "source": []
  },
  {
   "cell_type": "code",
   "execution_count": null,
   "id": "8b7219ed-e4e5-4920-b7e2-a77eae6a7ec1",
   "metadata": {},
   "outputs": [],
   "source": []
  },
  {
   "cell_type": "code",
   "execution_count": null,
   "id": "54afb3bb-7e5b-4661-9a6f-a46488b47212",
   "metadata": {},
   "outputs": [],
   "source": []
  },
  {
   "cell_type": "code",
   "execution_count": null,
   "id": "f47d6965-cd6d-42e7-b062-6eaaa13f571a",
   "metadata": {},
   "outputs": [],
   "source": [
    "# import copy\n",
    "# model_chkpt = copy.deepcopy(model)"
   ]
  },
  {
   "cell_type": "code",
   "execution_count": null,
   "id": "da153205-f01d-42c7-8759-2860c48137c4",
   "metadata": {},
   "outputs": [],
   "source": [
    "pred = model(_inputs).squeeze().detach().numpy()"
   ]
  },
  {
   "cell_type": "code",
   "execution_count": null,
   "id": "9c1e0425-a0ef-4cf8-8f3e-16acaf874762",
   "metadata": {},
   "outputs": [],
   "source": [
    "nplots = 100\n",
    "plt.figure(figsize=(15, nplots * 2))\n",
    "plot_cntr = 1\n",
    "for n in range(n_train, n_train + nplots):\n",
    "    plt.subplot(nplots, 6, plot_cntr)\n",
    "    plt.plot(inputs[n], color='k', linewidth=0.75)\n",
    "    plt.plot(targets[n], color='r')\n",
    "    plt.plot(pred[n], color='b')\n",
    "    plot_cntr += 1\n",
    "    plt.ylim(top=np.max(targets))\n",
    "plt.suptitle('Test data', fontsize=fontsize, y=1)\n",
    "plt.tight_layout()\n",
    "# plt.savefig('waveform_denoising_example_test_data.png', format='png', dpi=200, bbox_inches='tight', facecolor='white')\n",
    "plt.show()"
   ]
  },
  {
   "cell_type": "code",
   "execution_count": null,
   "id": "7ea700d4-271f-4957-9859-d37f86780e82",
   "metadata": {},
   "outputs": [],
   "source": []
  },
  {
   "cell_type": "code",
   "execution_count": null,
   "id": "98386fc7-b9e4-4305-a101-60ec930b8df3",
   "metadata": {},
   "outputs": [],
   "source": [
    "# Test on real data"
   ]
  },
  {
   "cell_type": "code",
   "execution_count": null,
   "id": "88bffbaa-a8a9-46e8-b0ba-0c5b1eaf4c06",
   "metadata": {},
   "outputs": [],
   "source": [
    "data = np.load('data/SST_210609_cell5_map_A.npz')\n",
    "\n",
    "data.files\n",
    "\n",
    "psc, L, I, sigma = data['psc'], data['L'], data['I'], data['sigma']\n",
    "K = psc.shape[0]\n",
    "raw_data_scale = 10\n",
    "_psc = torch.tensor(raw_data_scale * psc.reshape([K, 1, trial_dur]))\n",
    "denoised_psc = model(_psc[:500]).detach().numpy().squeeze()\n",
    "\n",
    "nplots = 200\n",
    "plot_start = 0\n",
    "plt.figure(figsize=(18, nplots * 1.5))\n",
    "plot_cntr = 1\n",
    "for n in range(plot_start, plot_start + nplots):\n",
    "    plt.subplot(nplots, 8, plot_cntr)\n",
    "    plt.plot(raw_data_scale * psc[n], color='k', linewidth=0.75)\n",
    "    plt.plot(denoised_psc[n], color='b')\n",
    "    plot_cntr += 1\n",
    "    plt.ylim(top=1.05 * np.max(raw_data_scale * psc[plot_start:plot_start + nplots]))\n",
    "plt.tight_layout()\n",
    "plt.show()"
   ]
  },
  {
   "cell_type": "code",
   "execution_count": null,
   "id": "b29b33ad-e5c7-4e49-a296-cd9aa80d561b",
   "metadata": {},
   "outputs": [],
   "source": []
  },
  {
   "cell_type": "code",
   "execution_count": null,
   "id": "f8842241-f400-4a03-9908-a4c38811dba6",
   "metadata": {},
   "outputs": [],
   "source": []
  },
  {
   "cell_type": "code",
   "execution_count": null,
   "id": "22040eef-fa2d-4dc1-a34d-7e6c49045f06",
   "metadata": {},
   "outputs": [],
   "source": []
  },
  {
   "cell_type": "code",
   "execution_count": null,
   "id": "f4078063-3960-4d4d-8b75-c16dbf87ea65",
   "metadata": {},
   "outputs": [],
   "source": []
  },
  {
   "cell_type": "code",
   "execution_count": null,
   "id": "5329ff6d-ff35-46c8-8dc7-eafb9a7e49ac",
   "metadata": {},
   "outputs": [],
   "source": []
  },
  {
   "cell_type": "code",
   "execution_count": null,
   "id": "1b7ebd89-827b-4f30-a5fb-d75af1f4cc54",
   "metadata": {},
   "outputs": [],
   "source": []
  }
 ],
 "metadata": {
  "kernelspec": {
   "display_name": "Python 3",
   "language": "python",
   "name": "python3"
  },
  "language_info": {
   "codemirror_mode": {
    "name": "ipython",
    "version": 3
   },
   "file_extension": ".py",
   "mimetype": "text/x-python",
   "name": "python",
   "nbconvert_exporter": "python",
   "pygments_lexer": "ipython3",
   "version": "3.9.4"
  }
 },
 "nbformat": 4,
 "nbformat_minor": 5
}
