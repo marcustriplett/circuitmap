{
 "cells": [
  {
   "cell_type": "code",
   "execution_count": 1,
   "id": "e7c3e9b3",
   "metadata": {},
   "outputs": [],
   "source": [
    "import matplotlib.pyplot as plt\n",
    "import numpy as np\n",
    "from scipy import stats\n",
    "\n",
    "import sklearn\n",
    "from sklearn.mixture import GaussianMixture\n",
    "from sklearn.linear_model import Lasso\n",
    "\n",
    "import os\n",
    "os.environ['CUDA_VISIBLE_DEVICES'] = '3'\n",
    "\n",
    "import jax\n",
    "import jax.numpy as jnp\n",
    "from jax import jit, vmap, grad\n",
    "from jax.nn import sigmoid"
   ]
  },
  {
   "cell_type": "code",
   "execution_count": 2,
   "id": "a07b0813",
   "metadata": {},
   "outputs": [],
   "source": [
    "# from jax.config import config; config.update(\"jax_enable_x64\", True)"
   ]
  },
  {
   "cell_type": "code",
   "execution_count": 3,
   "id": "99778895",
   "metadata": {},
   "outputs": [],
   "source": [
    "EPS = 1e-10\n",
    "fontsize=13"
   ]
  },
  {
   "cell_type": "markdown",
   "id": "05ea3b29",
   "metadata": {},
   "source": [
    "# Simulation"
   ]
  },
  {
   "cell_type": "code",
   "execution_count": 4,
   "id": "7a090efb",
   "metadata": {},
   "outputs": [],
   "source": [
    "import sys\n",
    "sys.path.append('../')\n",
    "import adaprobe"
   ]
  },
  {
   "cell_type": "code",
   "execution_count": null,
   "id": "b17d82df",
   "metadata": {},
   "outputs": [],
   "source": [
    "N = 16\n",
    "K = 100\n",
    "powers = np.arange(20, 51, 10)\n",
    "phi_1 = np.random.uniform(2.5, 5.5, N)\n",
    "a = 0.2\n",
    "sigma = 1\n",
    "\n",
    "sim = adaprobe.Simulation3d(N=N, phi_1=phi_1, a=a, sigma=sigma)"
   ]
  },
  {
   "cell_type": "code",
   "execution_count": null,
   "id": "be6da2e9",
   "metadata": {},
   "outputs": [],
   "source": [
    "num_targets = 16"
   ]
  },
  {
   "cell_type": "code",
   "execution_count": null,
   "id": "dc50eb50",
   "metadata": {},
   "outputs": [],
   "source": [
    "# sim.simulate(trials=K, powers=powers)\n",
    "sim.simulate_multistim(trials=K, num_targets=num_targets, powers=powers)"
   ]
  },
  {
   "cell_type": "code",
   "execution_count": null,
   "id": "acd62d3a",
   "metadata": {},
   "outputs": [],
   "source": [
    "plt.figure(figsize=(15, 5))\n",
    "plt.imshow(sim.spks, aspect='auto', interpolation='nearest')\n",
    "plt.show()\n",
    "\n",
    "plt.figure(figsize=(15, 1.5))\n",
    "plt.plot(np.sum(sim.spks, 0))\n",
    "plt.xlim([0, K])\n",
    "plt.show()\n",
    "\n",
    "plt.figure(figsize=(15, 1.5))\n",
    "plt.title('postsynaptic response')\n",
    "plt.plot(sim.y, color='k')\n",
    "plt.xlim([0, K])\n",
    "plt.show()"
   ]
  },
  {
   "cell_type": "code",
   "execution_count": null,
   "id": "36a8027a",
   "metadata": {},
   "outputs": [],
   "source": [
    "for n in range(5):\n",
    "    plt.figure(figsize=(20, 0.5))\n",
    "    plt.plot(sim.fr[n], color='k')\n",
    "    plt.xlim([0, K])\n",
    "    plt.show()"
   ]
  },
  {
   "cell_type": "code",
   "execution_count": null,
   "id": "ba6126b8",
   "metadata": {},
   "outputs": [],
   "source": []
  },
  {
   "cell_type": "code",
   "execution_count": null,
   "id": "578f6264",
   "metadata": {},
   "outputs": [],
   "source": [
    "stim = np.zeros((N, K))\n",
    "for n in range(N):\n",
    "    locs = np.where(sim.tars == n)[0]\n",
    "    stim[n, locs] = sim.I[locs]"
   ]
  },
  {
   "cell_type": "code",
   "execution_count": null,
   "id": "12617295",
   "metadata": {},
   "outputs": [],
   "source": [
    "plt.imshow(stim[:, :100], aspect='auto', interpolation='nearest')"
   ]
  },
  {
   "cell_type": "code",
   "execution_count": null,
   "id": "6fdb923a",
   "metadata": {},
   "outputs": [],
   "source": [
    "phi_prior = np.c_[0.1 * np.ones(N), 5 * np.ones(N)]\n",
    "phi_cov_prior = np.array([np.array([[1e-1, 0], [0, 1e0]]) for _ in range(N)])"
   ]
  },
  {
   "cell_type": "code",
   "execution_count": null,
   "id": "2a5da11f-2847-40cf-b189-3aae52f8c21f",
   "metadata": {},
   "outputs": [],
   "source": []
  },
  {
   "cell_type": "code",
   "execution_count": null,
   "id": "dc3a02cb-51cc-4502-be5f-07147684a007",
   "metadata": {},
   "outputs": [],
   "source": []
  },
  {
   "cell_type": "code",
   "execution_count": null,
   "id": "e47d3383-d39b-4eb7-9489-80d1d0c72282",
   "metadata": {},
   "outputs": [],
   "source": []
  },
  {
   "cell_type": "code",
   "execution_count": null,
   "id": "f6881d1e-6776-4f5a-b1a6-ba10abbd89f8",
   "metadata": {},
   "outputs": [],
   "source": []
  },
  {
   "cell_type": "code",
   "execution_count": null,
   "id": "5e3eb473-a5ff-49f6-8936-eb64b9ab3837",
   "metadata": {},
   "outputs": [],
   "source": []
  },
  {
   "cell_type": "code",
   "execution_count": null,
   "id": "ea101140-29a4-4a70-ae9e-84a81421d1f5",
   "metadata": {},
   "outputs": [],
   "source": []
  },
  {
   "cell_type": "markdown",
   "id": "555e2e76-769b-4720-9401-55640a8d42ed",
   "metadata": {},
   "source": [
    "# Comparing LASSO with vs without spike-and-slab"
   ]
  },
  {
   "cell_type": "code",
   "execution_count": null,
   "id": "abfe0269-d048-4787-b342-026164156841",
   "metadata": {},
   "outputs": [],
   "source": []
  },
  {
   "cell_type": "code",
   "execution_count": null,
   "id": "906f07e2",
   "metadata": {},
   "outputs": [],
   "source": [
    "fit_options_with_alpha = {\n",
    "    'iters': 100,\n",
    "    'num_mc_samples': 50,\n",
    "    'seed': 0,\n",
    "    'penalty': 5e-2,\n",
    "    'learn_alpha': True\n",
    "}\n",
    "\n",
    "fit_options_wo_alpha = { \n",
    "    'iters': 100,\n",
    "    'num_mc_samples': 50,\n",
    "    'seed': 0,\n",
    "    'penalty': 1e-1,\n",
    "    'learn_alpha': False\n",
    "}\n",
    "\n",
    "fit_options = [fit_options_with_alpha, fit_options_wo_alpha]\n",
    "\n",
    "priors_with_alpha = {\n",
    "    'alpha': 0.25 * np.ones(N), # 0.05\n",
    "    'beta': 1e1 * np.ones(N),\n",
    "    'mu': np.zeros(N),\n",
    "    'phi': phi_prior,\n",
    "    'phi_cov': phi_cov_prior\n",
    "}\n",
    "\n",
    "priors_without_alpha = {\n",
    "    'alpha': np.ones(N), # 0.05\n",
    "    'beta': 1e1 * np.ones(N),\n",
    "    'mu': np.zeros(N),\n",
    "    'phi': phi_prior,\n",
    "    'phi_cov': phi_cov_prior\n",
    "}\n",
    "\n",
    "priors = [priors_with_alpha, priors_without_alpha]\n",
    "\n",
    "\n",
    "models = [adaprobe.Model(sim.cell_locs, priors=priors[i]) for i in range(2)]"
   ]
  },
  {
   "cell_type": "code",
   "execution_count": null,
   "id": "e7922bfc-5011-449b-8128-7515fd7e0c12",
   "metadata": {},
   "outputs": [],
   "source": [
    "# model.reset()"
   ]
  },
  {
   "cell_type": "code",
   "execution_count": null,
   "id": "980b898c-7b3b-46f0-9677-ed75129421d0",
   "metadata": {},
   "outputs": [],
   "source": [
    "for i in range(2):\n",
    "    %time models[i].fit(sim.y, stim, fit_options=fit_options[i], method='cavi_offline_spike_and_slab_NOTS_jax')"
   ]
  },
  {
   "cell_type": "code",
   "execution_count": null,
   "id": "d073d587-462a-4460-8836-7b53ad6c749b",
   "metadata": {},
   "outputs": [],
   "source": [
    "bin_stimulus_matrix = stim.copy()\n",
    "bin_stimulus_matrix[stim > 0] = 1\n",
    "\n",
    "sparse_lasso = Lasso(alpha=5e-1, fit_intercept=False, max_iter=1000)\n",
    "sparse_lasso.fit(bin_stimulus_matrix.T, sim.y)"
   ]
  },
  {
   "cell_type": "code",
   "execution_count": null,
   "id": "6bd894ce-7ab3-41de-a149-ed7ab58611b9",
   "metadata": {},
   "outputs": [],
   "source": [
    "fontsize=14\n",
    "\n",
    "w_est = [models[i].state['mu'] * models[i].state['alpha'] for i in range(2)]\n",
    "\n",
    "rng = np.arange(N)\n",
    "model_offset = 0.25\n",
    "\n",
    "cols = ['firebrick', 'C1']\n",
    "labels = ['Model with SnS', 'Model w/o SnS']\n",
    "\n",
    "plt.figure(figsize=(30, 5))\n",
    "plt.stem(np.arange(N), sim.w, linefmt='k', markerfmt='ko', basefmt='k-', label='True')\n",
    "for i in range(2):\n",
    "    plt.scatter(rng + (i + 1) * model_offset, w_est[i], marker='x', color=cols[i], label=labels[i])\n",
    "    plt.errorbar(rng + (i + 1) * model_offset + 0.03, w_est[i], yerr = models[i].state['beta'] * (models[i].state['alpha'] >= 0.5), fmt='.', color=cols[i])\n",
    "plt.scatter(rng, sparse_lasso.coef_, marker='x', color='C0', label='L1 CS')\n",
    "plt.xlim([-1, N+1])\n",
    "plt.legend(ncol=4, fontsize=14, loc='lower right')\n",
    "# plt.ylim(top=4)\n",
    "plt.xlabel('Neurons', fontsize=fontsize)\n",
    "plt.xticks(fontsize=fontsize)\n",
    "plt.yticks(fontsize=fontsize)\n",
    "plt.ylabel('Synaptic strength', fontsize=fontsize)\n",
    "# plt.savefig('figs/model_based_cs/model_vs_l1_comparison_N%i_a%.2f_sig%.2f_example_wo_sns.png'%(N, a, sigma), format='png', facecolor='white', bbox_inches='tight', dpi=200)\n",
    "plt.show()"
   ]
  },
  {
   "cell_type": "code",
   "execution_count": null,
   "id": "76e83f44-ffb4-4a3f-91d9-7841600ac6e5",
   "metadata": {},
   "outputs": [],
   "source": [
    "np.corrcoef(w_est[0], sim.w)"
   ]
  },
  {
   "cell_type": "code",
   "execution_count": null,
   "id": "36ca78c6-1065-4844-8db5-7b60a1d39c05",
   "metadata": {},
   "outputs": [],
   "source": [
    "np.corrcoef(w_est[1], sim.w)"
   ]
  },
  {
   "cell_type": "code",
   "execution_count": null,
   "id": "dc4635b0-0903-414a-8091-dfbb6622e0f0",
   "metadata": {},
   "outputs": [],
   "source": [
    "def sigmoid(x):\n",
    "    return 1/(1 + np.exp(-x))\n",
    "\n",
    "def truncnorm_logpdf(x, loc, scale):\n",
    "    return np.log(1/scale) + stats.norm.logpdf((x - loc)/scale) - np.log(1 - ndtr(-loc/scale))"
   ]
  },
  {
   "cell_type": "code",
   "execution_count": null,
   "id": "98eaae87-09e1-44b5-bf0b-89a9009ad5a5",
   "metadata": {},
   "outputs": [],
   "source": [
    "# model = models[1]"
   ]
  },
  {
   "cell_type": "code",
   "execution_count": null,
   "id": "647138ca-f735-4098-a3f4-30d90c179885",
   "metadata": {},
   "outputs": [],
   "source": [
    "from scipy.special import ndtri, ndtr"
   ]
  },
  {
   "cell_type": "code",
   "execution_count": null,
   "id": "4c532b5c",
   "metadata": {},
   "outputs": [],
   "source": []
  },
  {
   "cell_type": "code",
   "execution_count": null,
   "id": "3c3886be-d8ce-40d2-8685-ebff72a7a1ac",
   "metadata": {},
   "outputs": [],
   "source": []
  },
  {
   "cell_type": "code",
   "execution_count": null,
   "id": "8d22e843-f1f5-49e9-a7ab-efbf0d867239",
   "metadata": {},
   "outputs": [],
   "source": [
    "elbo(models[0], with_alpha=True)"
   ]
  },
  {
   "cell_type": "code",
   "execution_count": null,
   "id": "eaad535e-c493-4bc9-a0dc-c93b52766a4d",
   "metadata": {},
   "outputs": [],
   "source": [
    "elbo(models[1], with_alpha=False)"
   ]
  },
  {
   "cell_type": "code",
   "execution_count": null,
   "id": "243ddbd1-ab4a-43da-bf2b-7397df959368",
   "metadata": {},
   "outputs": [],
   "source": []
  },
  {
   "cell_type": "code",
   "execution_count": null,
   "id": "90984c30",
   "metadata": {},
   "outputs": [],
   "source": [
    "# model.reset()"
   ]
  },
  {
   "cell_type": "code",
   "execution_count": null,
   "id": "0ef8a599-8a1f-41ad-86a0-38ce7ba9cca4",
   "metadata": {},
   "outputs": [],
   "source": [
    "# model.fit(np.array(sim.y), stim_online, fit_options=fit_options, method='cavi_offline_spike_and_slab_NOTS_jax')"
   ]
  },
  {
   "cell_type": "code",
   "execution_count": null,
   "id": "4e65e687",
   "metadata": {},
   "outputs": [],
   "source": [
    "xrange = np.arange(-21, 5, 0.1)\n",
    "def gaussf(mean, sdev):\n",
    "    return 1/(np.sqrt(2 * np.pi * sdev**2)) * np.exp(-1/(2 * sdev**2) * (xrange - mean)**2)\n",
    "\n",
    "def plot_connections(model, sim, legend=[]):    \n",
    "    post = [model.state['alpha'][n] * gaussf(model.state['mu'][n], model.state['beta'][n]) for n in range(N)]\n",
    "    postmax = np.max(post)\n",
    "    plt.figure(figsize=(15, 3*(N/4)))\n",
    "    for n in range(N):\n",
    "        plt.subplot(int(np.ceil(N/4)), 4, n + 1)\n",
    "        plt.plot(xrange, post[n], color='firebrick')\n",
    "        true_col = 'gray' if sim.w[n] == 0 else 'black'\n",
    "        plt.plot([sim.w[n], sim.w[n]], [0, postmax], '--', color=true_col)\n",
    "        plt.xlim(np.min(xrange), np.max(xrange))\n",
    "        plt.ylim([0, postmax])\n",
    "        if n == 0:\n",
    "            plt.xlabel('Synaptic strength')\n",
    "            plt.ylabel('Probability density')\n",
    "        if n == 0 and legend is not None:\n",
    "            plt.legend(legend, loc='upper left', frameon=False)\n",
    "    plt.show()\n",
    "\n",
    "plot_connections(models[1], sim)"
   ]
  },
  {
   "cell_type": "code",
   "execution_count": null,
   "id": "ec57b380-1e88-4d7f-b6c3-94e002604773",
   "metadata": {},
   "outputs": [],
   "source": []
  },
  {
   "cell_type": "code",
   "execution_count": null,
   "id": "9267dc4f-d6e9-49f6-8a7d-08f715775358",
   "metadata": {},
   "outputs": [],
   "source": [
    "plt.plot(model.history['alpha'])\n",
    "plt.show()"
   ]
  },
  {
   "cell_type": "code",
   "execution_count": null,
   "id": "93ba6882-9fe7-41bb-9b57-bb606593c149",
   "metadata": {},
   "outputs": [],
   "source": [
    "print(np.round(model.state['mu'], 2))\n",
    "print(np.round(sim.w, 2))"
   ]
  },
  {
   "cell_type": "code",
   "execution_count": null,
   "id": "23550273-26d4-4e3a-8e17-5592eb04acb0",
   "metadata": {},
   "outputs": [],
   "source": []
  },
  {
   "cell_type": "code",
   "execution_count": null,
   "id": "36890a2f",
   "metadata": {},
   "outputs": [],
   "source": [
    "def plot_spike_pred(model, sim, xlim=None):\n",
    "#     spks = np.array(sim.spks).astype(float) # true simulated spikes\n",
    "#     fr = np.array(sim.fr).T # true simulated firing rates\n",
    "    lam = np.array(model.state['lam']).T # inferred firing rate\n",
    "    spks = sim.spks\n",
    "    fr = sim.fr\n",
    "    print(spks.shape)\n",
    "    s_pred = (lam >= 0.5).astype(float) # spike prediction\n",
    "    for n in range(N):\n",
    "        plt.figure(figsize=(25, 0.75))\n",
    "        if sim.w[n] == 0:\n",
    "            plt.plot(fr[n], color='gray') # disconnected cell\n",
    "        else:\n",
    "            plt.plot(fr[n], color='k') # connected cell\n",
    "        plt.plot(lam[n], '--', color='r')\n",
    "        plt.scatter(np.arange(len(spks[n])), spks[n], color='gray')\n",
    "        plt.scatter(np.arange(s_pred[0].shape[0]), s_pred[n], 50, marker='x', color='r')\n",
    "        if xlim is not None:\n",
    "            plt.xlim(xlim)\n",
    "        else:\n",
    "            plt.xlim([0, lam.shape[-1]])\n",
    "        plt.ylim([0, 1.1])\n",
    "        plt.show()"
   ]
  },
  {
   "cell_type": "code",
   "execution_count": null,
   "id": "a184b337-b5ca-4dce-a593-df3acb17acee",
   "metadata": {},
   "outputs": [],
   "source": [
    "plot_spike_pred(models[1], sim)"
   ]
  },
  {
   "cell_type": "code",
   "execution_count": null,
   "id": "0319bcc0-ab15-45cd-a756-69bf5dedc9df",
   "metadata": {},
   "outputs": [],
   "source": [
    "model.state['mu']"
   ]
  },
  {
   "cell_type": "code",
   "execution_count": null,
   "id": "19535a07-4c37-4009-b322-e1b355f44b5b",
   "metadata": {},
   "outputs": [],
   "source": [
    "alpha = model.state['alpha']\n",
    "w_est = model.state['mu'] * alpha\n",
    "beta = model.state['beta']"
   ]
  },
  {
   "cell_type": "code",
   "execution_count": null,
   "id": "c3153503-cb71-4666-90d6-b7d4713e1547",
   "metadata": {},
   "outputs": [],
   "source": [
    "bin_stimulus_matrix = stim.copy()\n",
    "bin_stimulus_matrix[stim > 0] = 1"
   ]
  },
  {
   "cell_type": "code",
   "execution_count": null,
   "id": "4a317ebb-1383-485a-8f5c-39bc98659075",
   "metadata": {},
   "outputs": [],
   "source": [
    "sparse_lasso = Lasso(alpha=1e-1, fit_intercept=False, max_iter=1000)\n",
    "sparse_lasso.fit(bin_stimulus_matrix.T, sim.y)"
   ]
  },
  {
   "cell_type": "code",
   "execution_count": null,
   "id": "7c917728-fc54-4cd2-ba44-b9c18af05f5b",
   "metadata": {},
   "outputs": [],
   "source": [
    "rng = np.arange(N)\n",
    "model_offset = 0.25\n",
    "\n",
    "plt.figure(figsize=(30, 5))\n",
    "plt.stem(np.arange(N), sim.w, linefmt='k', markerfmt='ko', basefmt='k-', label='True')\n",
    "plt.scatter(rng + model_offset, w_est, marker='x', color='firebrick', label='Model')\n",
    "plt.errorbar(rng + model_offset + 0.03, w_est, yerr= beta * (alpha >= 0.5), fmt='.', color='firebrick')\n",
    "plt.scatter(rng, sparse_lasso.coef_, marker='x', color='C0', label='L1 CS')\n",
    "plt.xlim([-1, N+1])\n",
    "\n",
    "plt.ylim(top=4, bottom=-23)"
   ]
  },
  {
   "cell_type": "code",
   "execution_count": null,
   "id": "04c444c4-ebae-4ef8-9a6e-a67e9f6abbf6",
   "metadata": {},
   "outputs": [],
   "source": []
  },
  {
   "cell_type": "code",
   "execution_count": null,
   "id": "bbee9d53-d0fd-4325-90ea-d97805598acd",
   "metadata": {},
   "outputs": [],
   "source": [
    "locs = np.where(w_est < 0)[0]"
   ]
  },
  {
   "cell_type": "code",
   "execution_count": null,
   "id": "a9e68ff3-6ad4-4afe-86d3-f79984b0de18",
   "metadata": {},
   "outputs": [],
   "source": []
  },
  {
   "cell_type": "code",
   "execution_count": null,
   "id": "7702acd0-e553-4e51-bc32-c2ba583bdc40",
   "metadata": {},
   "outputs": [],
   "source": [
    "np.corrcoef(sim.w[locs], w_est[locs])[0, 1]"
   ]
  },
  {
   "cell_type": "code",
   "execution_count": null,
   "id": "b7719f0b-0223-4c58-a0ca-2c23a2171356",
   "metadata": {},
   "outputs": [],
   "source": [
    "np.corrcoef(sim.w, sparse_lasso.coef_)[0, 1]"
   ]
  },
  {
   "cell_type": "code",
   "execution_count": null,
   "id": "6b1177af-193d-4cf7-bb56-83a0fdce6e82",
   "metadata": {},
   "outputs": [],
   "source": [
    "plt.figure(figsize=(4, 4))\n",
    "plt.scatter(sim.w, w_est)\n",
    "plt.scatter(sim.w, sparse_lasso.coef_)\n",
    "plt.xlim([-21, 1])\n",
    "plt.ylim([-21, 1])\n",
    "plt.xlabel('true')\n",
    "plt.ylabel('lasso')\n",
    "plt.show()"
   ]
  },
  {
   "cell_type": "code",
   "execution_count": null,
   "id": "7df16ea2-27b0-44af-8706-4e6800499f9f",
   "metadata": {},
   "outputs": [],
   "source": []
  },
  {
   "cell_type": "code",
   "execution_count": null,
   "id": "a9d8dc9c",
   "metadata": {},
   "outputs": [],
   "source": [
    "def get_gauss_fn(mu, sig):\n",
    "    def func(x):\n",
    "        return 1/np.sqrt(2 * np.pi * sig**2) * np.exp(-(x - mu)**2/(2 * sig**2))\n",
    "    return func"
   ]
  },
  {
   "cell_type": "code",
   "execution_count": null,
   "id": "452b1f6b",
   "metadata": {},
   "outputs": [],
   "source": []
  },
  {
   "cell_type": "code",
   "execution_count": null,
   "id": "2438ed9c",
   "metadata": {},
   "outputs": [],
   "source": []
  },
  {
   "cell_type": "code",
   "execution_count": null,
   "id": "3d7292ba",
   "metadata": {},
   "outputs": [],
   "source": [
    "phi = models[1].state['phi']\n",
    "phi_cov = models[1].state['phi_cov']\n",
    "phi_sdevs = np.sqrt(np.array([np.diag(phi_cov[n]) for n in range(N)]))\n",
    "plow = phi - phi_sdevs\n",
    "phigh = phi + phi_sdevs\n",
    "\n",
    "phi_true = np.c_[sim.phi_0, sim.phi_1]"
   ]
  },
  {
   "cell_type": "code",
   "execution_count": null,
   "id": "4fa859a1",
   "metadata": {},
   "outputs": [],
   "source": [
    "Irng = np.arange(0, 61)"
   ]
  },
  {
   "cell_type": "code",
   "execution_count": null,
   "id": "5fb9c297-e569-4185-8c9f-36f2394fd488",
   "metadata": {},
   "outputs": [],
   "source": [
    "N_sample = 20"
   ]
  },
  {
   "cell_type": "code",
   "execution_count": null,
   "id": "15a65ba5",
   "metadata": {},
   "outputs": [],
   "source": [
    "ncols = 5\n",
    "nrows = int(np.ceil(N_sample/ncols))\n",
    "panel_size = 2.5\n",
    "plt.figure(figsize=(ncols * panel_size, nrows * panel_size))\n",
    "for n in range(N_sample):\n",
    "    plt.subplot(nrows, ncols, n + 1)\n",
    "    if sim.z[n]:\n",
    "        true_col = 'k'\n",
    "        linestyle='-'\n",
    "    else:\n",
    "        true_col = 'gray'\n",
    "        linestyle='--'\n",
    "    plt.plot(sigmoid(phi_true[n, 0] * Irng - phi_true[n, 1]), linestyle=linestyle, color=true_col)\n",
    "    plt.plot(sigmoid(phi[n, 0] * Irng - phi[n, 1]), color='firebrick')\n",
    "    plt.fill_between(Irng, sigmoid(plow[n, 0] * Irng - plow[n, 1]), sigmoid(phigh[n, 0] * Irng - phigh[n, 1]), facecolor='firebrick', edgecolor='None', alpha=0.25)\n",
    "    if n == 0:\n",
    "        plt.xlabel('Power', fontsize=fontsize)\n",
    "        plt.ylabel('Spike probability', fontsize=fontsize)\n",
    "        \n",
    "    plt.tight_layout()\n",
    "plt.show()"
   ]
  },
  {
   "cell_type": "code",
   "execution_count": null,
   "id": "23877f41-116e-4cb4-a81b-901576a615d2",
   "metadata": {},
   "outputs": [],
   "source": []
  },
  {
   "cell_type": "code",
   "execution_count": null,
   "id": "898bff69-d3a5-48d1-9079-956bf59cd3c4",
   "metadata": {},
   "outputs": [],
   "source": [
    "connected_cells = np.where(models[1].state['mu'] < 0)[0]"
   ]
  },
  {
   "cell_type": "code",
   "execution_count": null,
   "id": "58f84155-fb44-4372-83db-a82ae315afe6",
   "metadata": {},
   "outputs": [],
   "source": [
    "plt.figure(figsize=(4, 4))\n",
    "for n in connected_cells:\n",
    "    plt.plot(sigmoid(phi[n, 0] * Irng - phi[n, 1]), color='firebrick')\n",
    "    plt.fill_between(Irng, sigmoid(plow[n, 0] * Irng - plow[n, 1]), sigmoid(phigh[n, 0] * Irng - phigh[n, 1]), facecolor='firebrick', edgecolor='None', alpha=0.25)\n",
    "plt.xlabel('Power (mW)', fontsize=fontsize)\n",
    "plt.ylabel('Spike probability', fontsize=fontsize)\n",
    "plt.show()"
   ]
  },
  {
   "cell_type": "code",
   "execution_count": null,
   "id": "75a70bb4-bd7d-4385-a035-398ae116f3bd",
   "metadata": {},
   "outputs": [],
   "source": []
  },
  {
   "cell_type": "code",
   "execution_count": null,
   "id": "78f9321e-0636-4322-9f4c-272299e6c909",
   "metadata": {},
   "outputs": [],
   "source": []
  },
  {
   "cell_type": "markdown",
   "id": "64b11052-1a28-4485-ab43-7233f8bfc30d",
   "metadata": {},
   "source": [
    "# ELBO comparison b/w variational vs lasso updates"
   ]
  },
  {
   "cell_type": "code",
   "execution_count": null,
   "id": "67aad8c2-35d8-4e8a-b584-f51b5847b0df",
   "metadata": {},
   "outputs": [],
   "source": [
    "from scipy.special import ndtri, ndtr\n",
    "\n",
    "def sigmoid(x):\n",
    "    return 1/(1 + np.exp(-x))\n",
    "\n",
    "def truncnorm_logpdf(x, loc, scale):\n",
    "    return np.log(1/scale) + stats.norm.logpdf((x - loc)/scale) - np.log(1 - ndtr(-loc/scale))"
   ]
  },
  {
   "cell_type": "code",
   "execution_count": null,
   "id": "f73ebbed-7442-4839-846d-7d10e892857c",
   "metadata": {},
   "outputs": [],
   "source": [
    "def _soften(arr):\n",
    "    arr = np.copy(arr)\n",
    "    arr[arr == 1] = 1 - EPS\n",
    "    arr[arr == 0] = EPS\n",
    "    return arr\n",
    "\n",
    "def elbo(model, with_alpha=True, n_samples=500):\n",
    "    \"\"\" E_q[ln p(y | w, s, sigma) + ln p(w) + ln p(s | phi) + ln p(phi) + ln p(sigma) - ln q(w) - ln q(s) - ln q(phi) - ln q(sigma)]\n",
    "    \"\"\" \n",
    "    lam = np.array(model.state['lam']).T\n",
    "    w = np.array([np.random.normal(model.state['mu'][n], model.state['beta'][n], size=n_samples) for n in range(N)])\n",
    "    gam = (np.random.rand(n_samples) <= model.state['alpha'][:, None]).astype(float)\n",
    "\n",
    "    # Sample phi from truncated normals\n",
    "    unif_samples = np.random.uniform(0, 1, [N, 2, n_samples])\n",
    "    mean = model.state['phi']\n",
    "    cov = model.state['phi_cov']\n",
    "    phi = np.array([[ndtri(ndtr(-mean[n][i]/cov[n][i,i]) + unif_samples[n, i] * (1 - ndtr(-mean[n][i]/cov[n][i,i]))) * cov[n][i,i] \\\n",
    "                  + mean[n][i] for i in range(2)] for n in range(N)])\n",
    "\n",
    "    s = (np.random.rand(N, K, n_samples) <= lam[:, :, None]).astype(float)\n",
    "    pre_sig = np.random.gamma(model.state['shape'], scale=1/model.state['rate'], size=n_samples)\n",
    "    sig = 1/np.sqrt(pre_sig)\n",
    "\n",
    "    if with_alpha:\n",
    "        elbo_y = np.sum([stats.norm.logpdf(sim.y, (w[:, i] * gam[:, i]) @ s[:, :, i], sig[i]) for i in range(n_samples)])\n",
    "    else:\n",
    "        elbo_y = np.sum([stats.norm.logpdf(sim.y, w[:, i] @ s[:, :, i], sig[i]) for i in range(n_samples)])\n",
    "    elbo_y = np.sum([stats.norm.logpdf(sim.y, w[:, i] @ s[:, :, i], sig[i]) for i in range(n_samples)])\n",
    "    elbo_w = np.sum([stats.norm.logpdf(w[:, i], model.priors['mu'], model.priors['beta']) \\\n",
    "                     - stats.norm.logpdf(w[:, i], model.state['mu'], model.state['beta']) for i in range(n_samples)])\n",
    "    elbo_s = np.sum([stats.bernoulli.logpmf(s[..., i], sigmoid(phi[:, 0, i][:, None] * stim - phi[:, 1, i][:, None])) \\\n",
    "                     - stats.bernoulli.logpmf(s[..., i], lam) for i in range(n_samples)])\n",
    "    elbo_gam = np.sum([stats.bernoulli.logpmf(gam[:, i], _soften(model.priors['alpha'])) \\\n",
    "                       - stats.bernoulli.logpmf(gam[:, i], _soften(model.state['alpha'])) for i in range(n_samples)])\n",
    "    elbo_phi = np.sum([[truncnorm_logpdf(phi[:, d, i], mean[:, d], cov[:, d, d]) \\\n",
    "                        - truncnorm_logpdf(phi[:, d, i], model.priors['phi'][:, d], model.priors['phi_cov'][:, d, d]) \\\n",
    "                        for d in range(2)] for i in range(n_samples)])\n",
    "    elbo_sig = np.sum(stats.gamma.logpdf(pre_sig, model.priors['shape'], scale=1/model.priors['rate']) \\\n",
    "                      - stats.gamma.logpdf(pre_sig, model.state['shape'], scale=1/model.priors['rate']))\n",
    "\n",
    "    elbo = (elbo_y + elbo_w + elbo_s + elbo_phi + elbo_sig)/n_samples\n",
    "    if with_alpha:\n",
    "        elbo += elbo_gam/n_samples\n",
    "    return elbo"
   ]
  },
  {
   "cell_type": "code",
   "execution_count": null,
   "id": "61a22802-a783-4a5c-8e91-0809b4106c70",
   "metadata": {
    "tags": []
   },
   "outputs": [],
   "source": [
    "fit_options_lasso = {\n",
    "    'iters': 100,\n",
    "    'num_mc_samples': 50,\n",
    "    'seed': 0,\n",
    "    'penalty': 1e-1,\n",
    "    'learn_alpha': False,\n",
    "    'mu_update_method': 'lasso'\n",
    "}\n",
    "\n",
    "fit_options_variational = {\n",
    "    'iters': 100,\n",
    "    'num_mc_samples': 50,\n",
    "    'seed': 0,\n",
    "    'penalty': 5e-2,\n",
    "    'learn_alpha': False,\n",
    "    'mu_update_method': 'variational'\n",
    "}\n",
    "\n",
    "fit_options_variational_sns = {\n",
    "    'iters': 100,\n",
    "    'num_mc_samples': 50,\n",
    "    'seed': 0,\n",
    "    'penalty': 5e-2,\n",
    "    'learn_alpha': True,\n",
    "    'mu_update_method': 'variational'\n",
    "}\n",
    "\n",
    "fit_options = [fit_options_lasso, fit_options_variational, fit_options_variational_sns]\n",
    "\n",
    "priors_lasso = {\n",
    "    'alpha': np.ones(N), # 0.05\n",
    "    'beta': 1e1 * np.ones(N),\n",
    "    'mu': np.zeros(N),\n",
    "    'phi': phi_prior,\n",
    "    'phi_cov': phi_cov_prior\n",
    "}\n",
    "\n",
    "priors_variational = {\n",
    "    'alpha': np.ones(N), # 0.05\n",
    "    'beta': 1e1 * np.ones(N),\n",
    "    'mu': np.zeros(N),\n",
    "    'phi': phi_prior,\n",
    "    'phi_cov': phi_cov_prior\n",
    "}\n",
    "\n",
    "priors_variational_sns = {\n",
    "    'alpha': 0.25 * np.ones(N), # 0.05\n",
    "    'beta': 1e1 * np.ones(N),\n",
    "    'mu': np.zeros(N),\n",
    "    'phi': phi_prior,\n",
    "    'phi_cov': phi_cov_prior\n",
    "}\n",
    "\n",
    "priors = [priors_lasso, priors_variational, priors_variational_sns]\n",
    "\n",
    "models = [adaprobe.Model(sim.cell_locs, priors=priors[i]) for i in range(3)]\n",
    "n_models = len(models)"
   ]
  },
  {
   "cell_type": "code",
   "execution_count": null,
   "id": "ff974b76-1c7f-4d0c-aeca-95ff597c82a7",
   "metadata": {},
   "outputs": [],
   "source": [
    "for i in range(n_models):\n",
    "    %time models[i].fit(sim.y, stim, fit_options=fit_options[i], method='cavi_offline_spike_and_slab_NOTS_jax')"
   ]
  },
  {
   "cell_type": "code",
   "execution_count": null,
   "id": "ce2f1108-26df-4f91-a09b-c4d7130e0b26",
   "metadata": {},
   "outputs": [],
   "source": [
    "# names = ['lasso', 'variational']\n",
    "# with_alpha = [False, False]\n",
    "# for i in range(2):\n",
    "#     print(names[i], elbo(models[i], with_alpha=with_alpha[i], n_samples=1000))"
   ]
  },
  {
   "cell_type": "code",
   "execution_count": null,
   "id": "30f28599-c0ed-4056-aa75-a487b318d655",
   "metadata": {},
   "outputs": [],
   "source": [
    "# bin_stimulus_matrix = stim.copy()\n",
    "# bin_stimulus_matrix[stim > 0] = 1\n",
    "\n",
    "# sparse_lasso = Lasso(alpha=5e-1, fit_intercept=False, max_iter=1000)\n",
    "# sparse_lasso.fit(bin_stimulus_matrix.T, sim.y)"
   ]
  },
  {
   "cell_type": "code",
   "execution_count": null,
   "id": "39030a3d-78c2-428d-b0b5-5642d7972cc6",
   "metadata": {},
   "outputs": [],
   "source": []
  },
  {
   "cell_type": "code",
   "execution_count": null,
   "id": "be5e1f63-aa37-45ef-b0a7-2478408ee11b",
   "metadata": {},
   "outputs": [],
   "source": [
    "fontsize=14\n",
    "\n",
    "w_est = [models[i].state['mu'] * models[i].state['alpha'] for i in range(n_models)]\n",
    "\n",
    "rng = np.arange(N)\n",
    "model_offset = 0.25\n",
    "\n",
    "cols = ['firebrick', 'C1', 'C0']\n",
    "labels = ['Lasso', 'Variational', 'Variational-SnS']\n",
    "\n",
    "plt.figure(figsize=(30, 5))\n",
    "plt.stem(np.arange(N), sim.w, linefmt='k', markerfmt='ko', basefmt='k-', label='True')\n",
    "for i in range(n_models):\n",
    "    plt.scatter(rng + (i + 1) * model_offset, w_est[i], marker='x', color=cols[i], label=labels[i])\n",
    "    plt.errorbar(rng + (i + 1) * model_offset + 0.03, w_est[i], yerr = models[i].state['beta'] * (models[i].state['alpha'] >= 0.5), fmt='.', color=cols[i])\n",
    "# plt.scatter(rng, sparse_lasso.coef_, marker='x', color='C0', label='L1 CS')\n",
    "plt.grid(linestyle='--')\n",
    "plt.xlim([-1, N+1])\n",
    "plt.legend(ncol=4, fontsize=14, loc='lower right')\n",
    "# plt.ylim(top=4)\n",
    "plt.xlabel('Neurons', fontsize=fontsize)\n",
    "plt.xticks(fontsize=fontsize)\n",
    "plt.yticks(fontsize=fontsize)\n",
    "plt.ylabel('Synaptic strength', fontsize=fontsize)\n",
    "# plt.savefig('figs/model_based_cs/mbcs_vs_variational_vs_variational-sns_comparison_N%i_K%i_a%.2f_sig%.2f.png'%(N, K, a, sigma), format='png', facecolor='white', bbox_inches='tight', dpi=200)\n",
    "plt.show()"
   ]
  },
  {
   "cell_type": "code",
   "execution_count": null,
   "id": "1f664d4f-21bb-4b10-81c2-c96b275d8031",
   "metadata": {},
   "outputs": [],
   "source": []
  },
  {
   "cell_type": "code",
   "execution_count": null,
   "id": "926fdf68-8b42-4f32-9018-612320a3e85c",
   "metadata": {},
   "outputs": [],
   "source": [
    "names = ['lasso', 'variational', 'variational-sns']\n",
    "for i in range(n_models):\n",
    "    print(names[i], np.corrcoef(w_est[i], sim.w)[0, 1])"
   ]
  },
  {
   "cell_type": "code",
   "execution_count": null,
   "id": "5fba4745-629c-48ab-ac07-416e4cca670e",
   "metadata": {},
   "outputs": [],
   "source": [
    "plt.bar(np.arange(n_models), [np.mean(np.abs(w_est[i] - sim.w)) for i in range(n_models)])\n",
    "plt.ylabel('Average error', fontsize=fontsize)\n",
    "plt.xlabel('Model', fontsize=fontsize)"
   ]
  },
  {
   "cell_type": "code",
   "execution_count": null,
   "id": "5b6247a2-c1c3-4fad-9a2a-7daa9b1b5633",
   "metadata": {},
   "outputs": [],
   "source": [
    "elbo(models[0], with_alpha=False)"
   ]
  },
  {
   "cell_type": "code",
   "execution_count": null,
   "id": "0b675cd1-fb88-4ff3-8fc5-298366803e66",
   "metadata": {},
   "outputs": [],
   "source": [
    "elbo(models[1], with_alpha=False)"
   ]
  },
  {
   "cell_type": "code",
   "execution_count": null,
   "id": "39d3813e-cdb9-49f0-a796-8b1a8ce96abe",
   "metadata": {},
   "outputs": [],
   "source": []
  },
  {
   "cell_type": "code",
   "execution_count": null,
   "id": "17eec3d1-40d1-44f8-9cbf-2614d2055cb8",
   "metadata": {},
   "outputs": [],
   "source": []
  },
  {
   "cell_type": "markdown",
   "id": "6c26e491-8dd3-4da7-b7b6-1a51fae76c9a",
   "metadata": {},
   "source": [
    "# Testing numerical optimisation of Lambda"
   ]
  },
  {
   "cell_type": "code",
   "execution_count": null,
   "id": "18ed98bb-4719-4713-8267-a97e95aff2ee",
   "metadata": {},
   "outputs": [],
   "source": []
  },
  {
   "cell_type": "code",
   "execution_count": null,
   "id": "335135ea-1723-4050-9faf-950c0777f425",
   "metadata": {},
   "outputs": [],
   "source": [
    "fit_options_variational = {\n",
    "    'iters': 100,\n",
    "    'num_mc_samples': 50,\n",
    "    'seed': 0,\n",
    "    'penalty': 1e-1,\n",
    "    'learn_alpha': False,\n",
    "    'mu_update_method': 'lasso',\n",
    "    'lam_update_method': 'variational'\n",
    "}\n",
    "\n",
    "fit_options_bfgs = {\n",
    "    'iters': 100,\n",
    "    'num_mc_samples': 50,\n",
    "    'seed': 0,\n",
    "    'penalty': 1e-1,\n",
    "    'learn_alpha': False,\n",
    "    'mu_update_method': 'lasso',\n",
    "    'lam_update_method': 'bfgs'\n",
    "}\n",
    "\n",
    "fit_options = [fit_options_variational, fit_options_bfgs]\n",
    "\n",
    "priors = {\n",
    "    'alpha': np.ones(N), # 0.05\n",
    "    'beta': 1e1 * np.ones(N),\n",
    "    'mu': np.zeros(N),\n",
    "    'phi': phi_prior,\n",
    "    'phi_cov': phi_cov_prior\n",
    "}\n",
    "\n",
    "models = [adaprobe.Model(sim.cell_locs, priors=priors) for i in range(2)]\n",
    "n_models = len(models)"
   ]
  },
  {
   "cell_type": "code",
   "execution_count": null,
   "id": "0e03b09c-0436-409f-848e-042440afc321",
   "metadata": {},
   "outputs": [],
   "source": []
  },
  {
   "cell_type": "code",
   "execution_count": null,
   "id": "53a5e0b1-fa23-41e7-9c7d-115301c94295",
   "metadata": {},
   "outputs": [],
   "source": [
    "for i in range(n_models):\n",
    "    %time models[i].fit(sim.y, stim, fit_options=fit_options[i], method='cavi_offline_spike_and_slab_NOTS_jax')"
   ]
  },
  {
   "cell_type": "code",
   "execution_count": null,
   "id": "b0a16851-d5c0-4c57-adf4-212859a0b1bc",
   "metadata": {},
   "outputs": [],
   "source": []
  },
  {
   "cell_type": "code",
   "execution_count": null,
   "id": "8f8e7fcc-fb92-4e12-9bfa-a80bc71255ec",
   "metadata": {},
   "outputs": [],
   "source": []
  },
  {
   "cell_type": "code",
   "execution_count": null,
   "id": "842ea1d7-5de1-4f75-917d-5da23cdfe448",
   "metadata": {},
   "outputs": [],
   "source": []
  },
  {
   "cell_type": "code",
   "execution_count": null,
   "id": "29c5899b-4fe8-42d3-bac9-738f9c6b764d",
   "metadata": {},
   "outputs": [],
   "source": []
  },
  {
   "cell_type": "code",
   "execution_count": null,
   "id": "60257d80-ec23-4f71-984b-e49df55385f2",
   "metadata": {},
   "outputs": [],
   "source": [
    "w = w_est[0]\n",
    "lam = np.array(models[0].state['lam']).T"
   ]
  },
  {
   "cell_type": "code",
   "execution_count": null,
   "id": "dc02d44f-ab6c-46fc-90c5-d8944f3e2b27",
   "metadata": {},
   "outputs": [],
   "source": [
    "lam.shape"
   ]
  },
  {
   "cell_type": "code",
   "execution_count": null,
   "id": "845d705c-4913-409f-934f-85078be20ec0",
   "metadata": {},
   "outputs": [],
   "source": [
    "plt.figure(figsize=(15, 7))\n",
    "plt.imshow(lam, aspect='auto', interpolation='nearest')\n",
    "plt.xlabel('Trials', fontsize=fontsize)\n",
    "plt.ylabel('Neurons', fontsize=fontsize)\n",
    "plt.show()"
   ]
  },
  {
   "cell_type": "code",
   "execution_count": null,
   "id": "1e5588fc-652c-474a-91bd-6ca6028389fb",
   "metadata": {},
   "outputs": [],
   "source": []
  },
  {
   "cell_type": "code",
   "execution_count": null,
   "id": "5328b2ca-dd81-4caf-a3da-c3fea7515348",
   "metadata": {},
   "outputs": [],
   "source": [
    "model = models[0]"
   ]
  },
  {
   "cell_type": "code",
   "execution_count": null,
   "id": "6111bd06-d73c-4293-beec-067e0e35a70b",
   "metadata": {},
   "outputs": [],
   "source": [
    "mean = np.array(model.state['phi'])\n",
    "cov = np.array(model.state['phi_cov'])\n",
    "\n",
    "n_samples = 10\n",
    "unif_samples = np.random.uniform(0, 1, [N, 2, n_samples])\n",
    "phi = np.array([[ndtri(ndtr(-mean[n][i]/cov[n][i,i]) + unif_samples[n, i] * (1 - ndtr(-mean[n][i]/cov[n][i,i]))) * cov[n][i,i] \\\n",
    "                  + mean[n][i] for i in range(2)] for n in range(N)])\n",
    "\n",
    "lam_prior = np.mean([sigmoid(phi[:, 0, i][:, None] * stim - phi[:, 1, i][:, None]) for i in range(n_samples)], axis=0)"
   ]
  },
  {
   "cell_type": "code",
   "execution_count": null,
   "id": "07875bf3-108b-4e72-b03f-cfd3c0d2a736",
   "metadata": {},
   "outputs": [],
   "source": []
  },
  {
   "cell_type": "code",
   "execution_count": null,
   "id": "3b406cc6-b26f-4087-a2e7-b82775d0c9ed",
   "metadata": {},
   "outputs": [],
   "source": [
    "def loss_fn(lam, args):\n",
    "    lam = lam.reshape([K, N])\n",
    "    y, w, lam_prior = args\n",
    "    return np.sum(np.square(y - lam @ w)) - np.sum(lam * np.log(lam_prior) + (1 - lam) * np.log(1 - lam_prior))\n",
    "\n",
    "def loss_fn_jax(lam, args):\n",
    "    lam = lam.reshape([K, N])\n",
    "    y, w, lam_prior = args\n",
    "    return jnp.sum(jnp.square(y - lam @ w)) - jnp.sum(lam * jnp.log(lam_prior) + (1 - lam) * jnp.log(1 - lam_prior))"
   ]
  },
  {
   "cell_type": "code",
   "execution_count": null,
   "id": "9b4ce7d3-11fc-4380-a0ab-78e7c942e00f",
   "metadata": {},
   "outputs": [],
   "source": [
    "loss_fn(lam_prior.T.flatten(), [sim.y, w, lam_prior.T])"
   ]
  },
  {
   "cell_type": "code",
   "execution_count": null,
   "id": "03cfe2e9-4170-45c5-a70c-04cfca0c909d",
   "metadata": {},
   "outputs": [],
   "source": [
    "from scipy.optimize import minimize"
   ]
  },
  {
   "cell_type": "code",
   "execution_count": null,
   "id": "6f959654-7d04-4876-974b-6ff6f8862be4",
   "metadata": {},
   "outputs": [],
   "source": [
    "_gradf = grad(loss_fn_jax)\n",
    "gradf = lambda x, args: np.array(_gradf(x, args))\n",
    "\n",
    "args = [sim.y, w, lam_prior.T]"
   ]
  },
  {
   "cell_type": "code",
   "execution_count": null,
   "id": "cf913706-c5f8-4a40-ac2b-67dc0eea7b72",
   "metadata": {},
   "outputs": [],
   "source": [
    "%time res = minimize(loss_fn, lam_prior.T.flatten(), jac=gradf, args=args, method='L-BFGS-B', bounds=[(0, 1)]*(K*N))"
   ]
  },
  {
   "cell_type": "code",
   "execution_count": null,
   "id": "5bc1f836-cc37-4bba-8745-30ab5cbd20af",
   "metadata": {},
   "outputs": [],
   "source": [
    "res"
   ]
  },
  {
   "cell_type": "code",
   "execution_count": null,
   "id": "70357659-f8ca-4876-a863-c16ae2ace20e",
   "metadata": {},
   "outputs": [],
   "source": [
    "lam_numopt = res.x.reshape([K, N])"
   ]
  },
  {
   "cell_type": "code",
   "execution_count": null,
   "id": "2ee37606-92c2-40dd-a789-f3b0b9844eea",
   "metadata": {},
   "outputs": [],
   "source": []
  },
  {
   "cell_type": "code",
   "execution_count": null,
   "id": "3475a5dd-8ea6-49f9-b593-9a16c1017521",
   "metadata": {},
   "outputs": [],
   "source": [
    "plt.figure(figsize=(15, 7))\n",
    "plt.imshow(sim.spks * (sim.w != 0)[:, None], cmap='gray_r', aspect='auto', interpolation='nearest')\n",
    "plt.show()\n",
    "\n",
    "plt.figure(figsize=(15, 7))\n",
    "plt.imshow(lam_numopt.T * (w != 0)[:, None], cmap='gray_r', aspect='auto', interpolation='nearest')\n",
    "plt.show()\n",
    "\n",
    "plt.figure(figsize=(15, 7))\n",
    "plt.imshow(np.array(models[0].state['lam']).T * (w != 0)[:, None], cmap='gray_r', aspect='auto', interpolation='nearest')\n",
    "plt.show()"
   ]
  },
  {
   "cell_type": "code",
   "execution_count": null,
   "id": "0e9cdca4-21bd-4a52-9966-09594bf0052b",
   "metadata": {},
   "outputs": [],
   "source": []
  },
  {
   "cell_type": "code",
   "execution_count": null,
   "id": "01f2201d-1983-45d6-adcd-2f19de1aaf9f",
   "metadata": {},
   "outputs": [],
   "source": [
    "np.mean(np.abs(sim.spks * (sim.w != 0)[:, None] - lam_numopt.T * (w != 0)[:, None]))"
   ]
  },
  {
   "cell_type": "code",
   "execution_count": null,
   "id": "62e13439-77d3-4562-be53-ba7a862e360c",
   "metadata": {},
   "outputs": [],
   "source": [
    "np.mean(np.abs(sim.spks * (sim.w != 0)[:, None] - np.array(models[0].state['lam']).T * (w != 0)[:, None]))"
   ]
  },
  {
   "cell_type": "code",
   "execution_count": null,
   "id": "b5713086-c3f7-4fbe-a79c-bfe28b2f4417",
   "metadata": {},
   "outputs": [],
   "source": []
  },
  {
   "cell_type": "code",
   "execution_count": null,
   "id": "1dbc9e38-2331-43c2-9303-a9e3f136f329",
   "metadata": {},
   "outputs": [],
   "source": []
  },
  {
   "cell_type": "code",
   "execution_count": null,
   "id": "89879e2c-9224-4d98-a525-83918b9a55a9",
   "metadata": {},
   "outputs": [],
   "source": []
  },
  {
   "cell_type": "code",
   "execution_count": null,
   "id": "68c3c18a-d805-403c-aa9a-8321c09d6851",
   "metadata": {},
   "outputs": [],
   "source": []
  },
  {
   "cell_type": "code",
   "execution_count": null,
   "id": "e799e85a-811c-43a7-929d-aa6b07a79f25",
   "metadata": {},
   "outputs": [],
   "source": []
  },
  {
   "cell_type": "code",
   "execution_count": null,
   "id": "093c6e17-74b7-43fb-a86f-ead9353d712c",
   "metadata": {},
   "outputs": [],
   "source": []
  },
  {
   "cell_type": "code",
   "execution_count": null,
   "id": "ddf9d161-f986-464e-a44f-4f1d5b20dd12",
   "metadata": {},
   "outputs": [],
   "source": []
  },
  {
   "cell_type": "code",
   "execution_count": null,
   "id": "51fe987b-1eb1-44ce-a429-904934c32869",
   "metadata": {},
   "outputs": [],
   "source": []
  },
  {
   "cell_type": "code",
   "execution_count": null,
   "id": "73628a3d-53f9-47b8-90bc-0c39eca2ddd3",
   "metadata": {},
   "outputs": [],
   "source": []
  },
  {
   "cell_type": "code",
   "execution_count": null,
   "id": "8c8d7751-fa1d-4c28-bdc1-dbdada7a6443",
   "metadata": {},
   "outputs": [],
   "source": []
  },
  {
   "cell_type": "markdown",
   "id": "cfb3c9c5",
   "metadata": {},
   "source": [
    "# Jax updates"
   ]
  },
  {
   "cell_type": "code",
   "execution_count": null,
   "id": "bc6e97e8",
   "metadata": {},
   "outputs": [],
   "source": []
  },
  {
   "cell_type": "code",
   "execution_count": null,
   "id": "f2bbe9b6",
   "metadata": {},
   "outputs": [],
   "source": []
  },
  {
   "cell_type": "code",
   "execution_count": null,
   "id": "ced18502",
   "metadata": {},
   "outputs": [],
   "source": [
    "\n",
    "def _eval_lam_update_monte_carlo(I, phi_0, phi_1):\n",
    "    fn = sigmoid(phi_0 * I - phi_1)\n",
    "    return jnp.log(fn/(1 - fn))\n",
    "\n",
    "_vmap_eval_lam_update_monte_carlo = vmap(_eval_lam_update_monte_carlo, in_axes=(None, 0, 0))\n"
   ]
  },
  {
   "cell_type": "code",
   "execution_count": null,
   "id": "ce05d17e",
   "metadata": {},
   "outputs": [],
   "source": []
  },
  {
   "cell_type": "code",
   "execution_count": null,
   "id": "27ff2005",
   "metadata": {},
   "outputs": [],
   "source": []
  },
  {
   "cell_type": "code",
   "execution_count": null,
   "id": "34f33e9a",
   "metadata": {},
   "outputs": [],
   "source": [
    "@jit\n",
    "def update_beta(alpha, lamk, shape, rate, beta_prev):\n",
    "    return 1/jnp.sqrt(shape/rate * alpha * lamk + 1/(beta_prev**2))"
   ]
  },
  {
   "cell_type": "code",
   "execution_count": null,
   "id": "970b5df9",
   "metadata": {},
   "outputs": [],
   "source": [
    "@jit # in-place index_updates fast enough?\n",
    "def update_mu(yk, mu, beta, alpha, lamk, shape, rate, mu_prev, beta_prev, mask):\n",
    "    N = mu.shape[0]\n",
    "    sig = shape/rate\n",
    "    for n in range(N):\n",
    "        index_update(mu, n, (beta[n]**2) * (sig * alpha[n] * yk * lamk[n] - sig * alpha[n] * lamk[n] * jnp.sum(mu[mask[n]] * alpha[mask[n]] * lamk[mask[n]]) + mu_prev[n]/(beta_prev[n]**2)))\n",
    "    return mu"
   ]
  },
  {
   "cell_type": "code",
   "execution_count": null,
   "id": "2fce75e9",
   "metadata": {},
   "outputs": [],
   "source": [
    "@jit\n",
    "def update_alpha(yk, mu, beta, alpha, lamk, shape, rate, alpha_prev, mask):\n",
    "    N = mu.shape[0]\n",
    "    for n in range(N):\n",
    "        arg = -2 * mu[n] * yk * lamk[n] + 2 * mu[n] * lamk[n] * jnp.sum(mu[mask[n]] * alpha[mask[n]] * lamk[mask[n]]) + (mu[n]**2 + beta[n]**2) * lamk[n]\n",
    "        index_update(alpha, n, sigmoid(jnp.log((alpha_prev[n] + EPS)/(1 - alpha_prev[n] + EPS)) - shape/(2 * rate) * arg))\n",
    "    return alpha"
   ]
  },
  {
   "cell_type": "code",
   "execution_count": null,
   "id": "b45025e6",
   "metadata": {},
   "outputs": [],
   "source": []
  },
  {
   "cell_type": "code",
   "execution_count": null,
   "id": "eae4be46",
   "metadata": {},
   "outputs": [],
   "source": [
    "key = jax.random.PRNGKey(0)"
   ]
  },
  {
   "cell_type": "code",
   "execution_count": null,
   "id": "cafde119",
   "metadata": {},
   "outputs": [],
   "source": [
    "plt.figure()\n",
    "plt.hist(jax.random.truncated_normal(key, 0, jnp.inf, [10000]), 20)\n",
    "plt.show()"
   ]
  },
  {
   "cell_type": "code",
   "execution_count": null,
   "id": "58552401",
   "metadata": {},
   "outputs": [],
   "source": []
  },
  {
   "cell_type": "code",
   "execution_count": null,
   "id": "3f1581cd",
   "metadata": {},
   "outputs": [],
   "source": [
    "from jax.scipy.special import ndtr, ndtri"
   ]
  },
  {
   "cell_type": "code",
   "execution_count": null,
   "id": "8756f578",
   "metadata": {},
   "outputs": [],
   "source": [
    "mean = jnp.array([0.037, 2.218])\n",
    "sdev = jnp.diag(posterior[1])"
   ]
  },
  {
   "cell_type": "code",
   "execution_count": null,
   "id": "c1a3bc50",
   "metadata": {},
   "outputs": [],
   "source": [
    "key = jax.random.PRNGKey(0)\n",
    "# key, key_next = jax.random.split(key)"
   ]
  },
  {
   "cell_type": "code",
   "execution_count": null,
   "id": "5ce7ed2b",
   "metadata": {},
   "outputs": [],
   "source": [
    "def get_trunc_norm_sampler(n_samples=100):\n",
    "    def _sample_phi_independent_truncated_normals(key, mean, sdev):\n",
    "        key, key_next = jax.random.split(key)\n",
    "        u = jax.random.uniform(key, [n_samples, 1])\n",
    "        return ndtri(ndtr(-mean/sdev) + u * (1 - ndtr(-mean/sdev))) * sdev + mean\n",
    "    return jit(_sample_phi_independent_truncated_normals)\n",
    "\n",
    "sample_phi_independent_truncated_normals = get_trunc_norm_sampler(200)"
   ]
  },
  {
   "cell_type": "code",
   "execution_count": null,
   "id": "04724c97",
   "metadata": {},
   "outputs": [],
   "source": []
  },
  {
   "cell_type": "code",
   "execution_count": null,
   "id": "8d51e635",
   "metadata": {},
   "outputs": [],
   "source": [
    "np.mean(sample_phi_independent_truncated_normals(key, posterior[0], jnp.diag(posterior[1])), axis=0)"
   ]
  },
  {
   "cell_type": "code",
   "execution_count": null,
   "id": "51162ff1",
   "metadata": {},
   "outputs": [],
   "source": []
  },
  {
   "cell_type": "code",
   "execution_count": null,
   "id": "98feff48",
   "metadata": {},
   "outputs": [],
   "source": []
  },
  {
   "cell_type": "code",
   "execution_count": null,
   "id": "9abe5c9d",
   "metadata": {},
   "outputs": [],
   "source": [
    "@jit\n",
    "def update_lamk_monte_carlo(yk, mu, beta, alpha, lamk, shape, rate, phi_map, phi_cov, mask, omega, tark, Ik, C, num_mc_samples=5):\n",
    "    \"\"\"Infer latent spike rates using Monte Carlo samples of the sigmoid coefficients.\n",
    "    \"\"\"\n",
    "    N = mu.shape[0]\n",
    "    vtark = jnp.zeros(N)\n",
    "    index_update(vtark, tark, 1)\n",
    "    for n in range(N):\n",
    "        arg = -2 * yk * mu[n] * alpha[n] + 2 * mu[n] * alpha[n] * jnp.sum(mu[mask[n]] * alpha[mask[n]] * lamk[mask[n]]) + (mu[n]**2 + beta[n]**2) * alpha[n]\n",
    "        mc_samps = _sample_phi_independent_truncated_normals(phi_map[n], phi_cov[n], num_mc_samples=num_mc_samples) # samples of phi for neuron n\n",
    "        mcE = 0 # monte carlo approximation of expectation\n",
    "        for indx in range(num_mc_samples):\n",
    "            fn = sigmoid(mc_samps[indx, 0] * Ik * vtark[n] - mc_samps[indx, 1])\n",
    "            mcE = mcE + jnp.log(fn/(1 - fn))\n",
    "        mcE = mcE/num_mc_samples\n",
    "        index_update(lamk, n, sigmoid(mcE - shape/(2 * rate) * arg))\n",
    "    return lamk"
   ]
  },
  {
   "cell_type": "code",
   "execution_count": null,
   "id": "257f01f1",
   "metadata": {},
   "outputs": [],
   "source": [
    "@jit\n",
    "def update_sigma(yk, mu, beta, alpha, lamk, prev_shape, prev_rate):\n",
    "    shape = prev_shape + 1/2\n",
    "    rate = prev_rate + 1/2 * (jnp.square(yk - jnp.sum(mu * alpha * lamk)) \\\n",
    "        - jnp.sum(jnp.square(mu * alpha * lamk)) + jnp.sum((mu**2 + beta**2) * lamk * alpha))\n",
    "    return shape, rate"
   ]
  },
  {
   "cell_type": "code",
   "execution_count": null,
   "id": "14d95ac8",
   "metadata": {},
   "outputs": [],
   "source": [
    "from jax.nn import sigmoid"
   ]
  },
  {
   "cell_type": "code",
   "execution_count": null,
   "id": "e8494425",
   "metadata": {},
   "outputs": [],
   "source": [
    "K = 10000\n",
    "I = np.zeros(K)\n",
    "I[np.random.choice([0, 1], K).astype(bool)] = 50\n",
    "phi = np.array([0.03, 2])\n",
    "spk_prob = sigmoid(phi[0] * I - phi[1])\n",
    "y = (np.random.rand(K) < spk_prob).astype(float)\n",
    "# key = 0"
   ]
  },
  {
   "cell_type": "code",
   "execution_count": null,
   "id": "ceb4704d",
   "metadata": {},
   "outputs": [],
   "source": [
    "%time (posterior, logliks), key = _laplace_approx(0, jnp.array(y), jnp.array([0.085, 3]), jnp.array([[0.05, 0], [0, 1]]), jnp.array(I), 5)"
   ]
  },
  {
   "cell_type": "code",
   "execution_count": null,
   "id": "d6c2f5e0",
   "metadata": {},
   "outputs": [],
   "source": [
    "%time _laplace_approx(0, jnp.array(y), jnp.array([0.085, 3]), jnp.array([[0.05, 0], [0, 1]]), jnp.array(I), 5)[1].block_until_ready()"
   ]
  },
  {
   "cell_type": "code",
   "execution_count": null,
   "id": "0182fbf7",
   "metadata": {},
   "outputs": [],
   "source": [
    "nrows = 500\n",
    "ncols = 2000\n",
    "\n",
    "@jit\n",
    "def myfunc_jax():\n",
    "    zero_row = jnp.zeros(ncols)\n",
    "    arr = jnp.array(np.random.rand(nrows, ncols))\n",
    "    for n in range(nrows):\n",
    "        arr = index_update(arr, n, zero_row)\n",
    "    return arr\n",
    "\n",
    "def myfunc_np():\n",
    "    zero_row = np.zeros(ncols)\n",
    "    arr = np.array(np.random.rand(nrows, ncols))\n",
    "    for n in range(nrows):\n",
    "        arr[n] = zero_row\n",
    "    return arr"
   ]
  },
  {
   "cell_type": "code",
   "execution_count": null,
   "id": "0f9a7425",
   "metadata": {},
   "outputs": [],
   "source": []
  },
  {
   "cell_type": "code",
   "execution_count": null,
   "id": "046a2781",
   "metadata": {},
   "outputs": [],
   "source": [
    "%time myfunc_np()"
   ]
  },
  {
   "cell_type": "code",
   "execution_count": null,
   "id": "22d07f5b",
   "metadata": {},
   "outputs": [],
   "source": [
    "%time myfunc_jax().block_until_ready()"
   ]
  },
  {
   "cell_type": "code",
   "execution_count": null,
   "id": "1bc5c226",
   "metadata": {},
   "outputs": [],
   "source": []
  },
  {
   "cell_type": "code",
   "execution_count": null,
   "id": "485a37e7",
   "metadata": {},
   "outputs": [],
   "source": [
    "plt.plot(logliks)"
   ]
  },
  {
   "cell_type": "code",
   "execution_count": null,
   "id": "8a601773",
   "metadata": {},
   "outputs": [],
   "source": []
  },
  {
   "cell_type": "code",
   "execution_count": null,
   "id": "ad9e0778",
   "metadata": {},
   "outputs": [],
   "source": []
  },
  {
   "cell_type": "code",
   "execution_count": null,
   "id": "6b128265",
   "metadata": {},
   "outputs": [],
   "source": []
  },
  {
   "cell_type": "code",
   "execution_count": null,
   "id": "df15421c",
   "metadata": {},
   "outputs": [],
   "source": [
    "def _laplace_approx(y, phi_prior, phi_cov, I, key):\n",
    "    \"\"\"Laplace approximation to sigmoid coefficient posteriors $phi$.\n",
    "    \"\"\"\n",
    "    newton_steps=5\n",
    "    t=1e1\n",
    "    backtrack_alpha=0.25\n",
    "    backtrack_beta=0.5\n",
    "    max_backtrack_iters=40\n",
    "    \n",
    "    def backtrack_cond(carry):\n",
    "        it, _, lhs, rhs, _, _, _ = carry\n",
    "        return jnp.logical_and(it < max_backtrack_iters, jnp.logical_or(jnp.isnan(lhs), lhs > rhs))\n",
    "\n",
    "    def backtrack(carry):\n",
    "        it, step, lhs, rhs, v, J, phi = carry\n",
    "        it += 1\n",
    "        step *= backtrack_beta\n",
    "        lhs, rhs = get_ineq(y, phi, step, v, t, J, backtrack_alpha)\n",
    "        return (it, step, lhs, rhs, v, J, phi)\n",
    "\n",
    "    def get_ineq(y, phi, step, v, t, J, backtrack_alpha):\n",
    "        return negloglik_with_barrier(y, phi + step * v, phi_prior, prior_prec, I, t), negloglik_with_barrier(y, phi, phi_prior, prior_prec, I, t) \\\n",
    "            + backtrack_alpha * step * J @ v\n",
    "\n",
    "    def get_stepv(phi, t):\n",
    "        f = sigmoid(phi[0] * I - phi[1])\n",
    "\n",
    "        # grad of negative log-likelihood\n",
    "        j1 = -jnp.sum(I * (y - f))\n",
    "        j2 = jnp.sum(y - f)\n",
    "        J = jnp.array([j1, j2]) + prior_prec @ (phi - phi_prior) - 1/(t * phi)\n",
    "\n",
    "        # hessian of negative log-likelihood\n",
    "        h11 = jnp.sum(I**2 * f * (1 - f))\n",
    "        h12 = -jnp.sum(I * f * (1 - f))\n",
    "        h21 = h12\n",
    "        h22 = jnp.sum(f * (1 - f))\n",
    "        H = jnp.array([[h11, h12], [h21, h22]]) + prior_prec + jnp.diag(1/(t * phi**2))\n",
    "\n",
    "        H_inv = jnp.linalg.inv(H)\n",
    "        v = -H_inv @ J\n",
    "        return v, J, H_inv\n",
    "\n",
    "    def newton_step(phi_carry, _):\n",
    "        phi, _ = phi_carry\n",
    "        v, J, cov = get_stepv(phi, t)  \n",
    "        step = 1.\n",
    "        lhs, rhs = get_ineq(y, phi, step, v, t, J, backtrack_alpha)\n",
    "        init_carry = (0, step, lhs, rhs, v, J, phi)\n",
    "        carry = while_loop(backtrack_cond, backtrack, init_carry)\n",
    "        _, step, lhs, _, _, _, _ = carry\n",
    "        phi += step * v\n",
    "        return (phi, cov), lhs\n",
    "\n",
    "    key, key_next = jax.random.PRNGKey(key)\n",
    "    phi = jnp.array(phi_prior, copy=True)\n",
    "    prior_prec = jnp.linalg.inv(phi_cov)\n",
    "    phi_carry = (phi, jnp.zeros((phi.shape[0], phi.shape[0])))\n",
    "    return scan(newton_step, phi_carry, jnp.arange(newton_steps)), key_next\n",
    "\n",
    "@jit\n",
    "def negloglik_with_barrier(y, phi, phi_prior, prec, I, t):\n",
    "    lam = sigmoid(phi[0] * I - phi[1])\n",
    "    return -jnp.sum(jnp.nan_to_num(y * jnp.log(lam) + (1 - y) * jnp.log(1 - lam))) - jnp.sum(jnp.log(phi))/t + 1/2 * (phi - phi_prior) @ prec @ (phi - phi_prior)\n"
   ]
  },
  {
   "cell_type": "code",
   "execution_count": null,
   "id": "be5e246c",
   "metadata": {},
   "outputs": [],
   "source": [
    "# _jlaplace_approx = jit(_laplace_approx, static_argnums=0)\n",
    "laplace_approx = jit(vmap(_laplace_approx, (0, 0, 0, 0, None))) # parallel LAs across all cells"
   ]
  },
  {
   "cell_type": "code",
   "execution_count": null,
   "id": "6beecbdf",
   "metadata": {},
   "outputs": [],
   "source": []
  },
  {
   "cell_type": "code",
   "execution_count": null,
   "id": "8d4b0a39",
   "metadata": {},
   "outputs": [],
   "source": [
    "ystack = jnp.array(np.c_[y, y, y].T)\n",
    "\n",
    "Istack = jnp.array(np.c_[I, I, I].T)\n",
    "\n",
    "phi_prior = jnp.array([0.085, 3])\n",
    "phi_prior_stack = jnp.array(np.c_[phi_prior, phi_prior, phi_prior].T)\n",
    "\n",
    "phi_prior_cov = jnp.array([[0.05, 0], [0, 1]])\n",
    "phi_prior_cov_stack = jnp.array([phi_prior_cov]*3)"
   ]
  },
  {
   "cell_type": "code",
   "execution_count": null,
   "id": "378797df",
   "metadata": {},
   "outputs": [],
   "source": [
    "# _laplace_approx(0, jnp.array(y), jnp.array([0.085, 3]), jnp.array([[0.05, 0], [0, 1]]), jnp.array(I), 5)"
   ]
  },
  {
   "cell_type": "code",
   "execution_count": null,
   "id": "651f0d8f",
   "metadata": {},
   "outputs": [],
   "source": [
    "%time laplace_approx(ystack, 10*phi_prior_stack, phi_prior_cov_stack, Istack, 0)[-1].block_until_ready()"
   ]
  },
  {
   "cell_type": "code",
   "execution_count": null,
   "id": "db97c5ae",
   "metadata": {},
   "outputs": [],
   "source": []
  },
  {
   "cell_type": "code",
   "execution_count": null,
   "id": "9cc029ec",
   "metadata": {},
   "outputs": [],
   "source": []
  }
 ],
 "metadata": {
  "kernelspec": {
   "display_name": "Python 3",
   "language": "python",
   "name": "python3"
  },
  "language_info": {
   "codemirror_mode": {
    "name": "ipython",
    "version": 3
   },
   "file_extension": ".py",
   "mimetype": "text/x-python",
   "name": "python",
   "nbconvert_exporter": "python",
   "pygments_lexer": "ipython3",
   "version": "3.8.8"
  }
 },
 "nbformat": 4,
 "nbformat_minor": 5
}
