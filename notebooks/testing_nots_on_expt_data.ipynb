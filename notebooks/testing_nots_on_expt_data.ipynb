{
 "cells": [
  {
   "cell_type": "code",
   "execution_count": 1,
   "id": "d0fda277-4488-400a-ad76-6200a69edf04",
   "metadata": {},
   "outputs": [],
   "source": [
    "import matplotlib.pyplot as plt\n",
    "import matplotlib.gridspec as gridspec\n",
    "import numpy as np\n",
    "import scipy\n",
    "\n",
    "import sklearn\n",
    "from sklearn.mixture import GaussianMixture\n",
    "\n",
    "import os\n",
    "os.environ['CUDA_VISIBLE_DEVICES'] = '3'"
   ]
  },
  {
   "cell_type": "code",
   "execution_count": 2,
   "id": "4f0e910d-44df-46a4-8979-380a74be0c47",
   "metadata": {},
   "outputs": [],
   "source": [
    "import sys\n",
    "sys.path.append('../')\n",
    "import adaprobe"
   ]
  },
  {
   "cell_type": "code",
   "execution_count": 3,
   "id": "674d1339-ad32-4286-a976-9a3033529dba",
   "metadata": {},
   "outputs": [],
   "source": [
    "import jax\n",
    "import jax.numpy as jnp"
   ]
  },
  {
   "cell_type": "code",
   "execution_count": 4,
   "id": "cb148b62-d76a-4a07-864e-32f3eca98019",
   "metadata": {},
   "outputs": [],
   "source": [
    "fontsize=14"
   ]
  },
  {
   "cell_type": "code",
   "execution_count": 5,
   "id": "56545bff-6cd0-4a57-bab4-27f3016afba1",
   "metadata": {},
   "outputs": [
    {
     "name": "stdout",
     "output_type": "stream",
     "text": [
      "['.ipynb_checkpoints', 'one_cell_per_plane_plus_10_random_201119_cell2_A.npz', 'one_cell_per_plane_plus_10_random_201119_cell7_A.npz', 'one_cell_per_plane_sample_data.npz', 'one_cell_per_plane_plus_10_random_201118_cell1_A.npz', 'one_cell_per_plane_plus_10_random_201121_cell1_A.npz']\n"
     ]
    }
   ],
   "source": [
    "print(os.listdir('data'))\n",
    "fname = '201121_cell1_A'"
   ]
  },
  {
   "cell_type": "code",
   "execution_count": 6,
   "id": "e14355f9-9701-4922-b82d-41e451ceea2c",
   "metadata": {},
   "outputs": [],
   "source": [
    "data = np.load('data/one_cell_per_plane_plus_10_random_%s.npz'%fname)"
   ]
  },
  {
   "cell_type": "code",
   "execution_count": null,
   "id": "bed73da8-9767-4cab-8f17-d5f7bb7109cb",
   "metadata": {},
   "outputs": [],
   "source": []
  },
  {
   "cell_type": "code",
   "execution_count": 7,
   "id": "b9b2623d-41d8-4025-8b3e-e518c62f051f",
   "metadata": {},
   "outputs": [],
   "source": [
    "y = data['y']\n",
    "stimulus_matrix = data['stimulus_matrix']\n",
    "y_psc = data['y_psc']\n",
    "N, K = stimulus_matrix.shape\n",
    "trial_length = y_psc.shape[1]\n",
    "n_repeats = K//N"
   ]
  },
  {
   "cell_type": "code",
   "execution_count": 8,
   "id": "e93bc30b-34f1-4cac-b7ab-587af764bb20",
   "metadata": {},
   "outputs": [],
   "source": [
    "ispectra = np.array([np.max(scipy.signal.correlate(y_psc[i], y_psc[i])) for i in range(K)])"
   ]
  },
  {
   "cell_type": "code",
   "execution_count": 9,
   "id": "7dc2ba7c-89c0-4e78-b687-bfcbf7782f50",
   "metadata": {},
   "outputs": [],
   "source": [
    "# configure priors\n",
    "phi_prior = np.c_[0.1 * np.ones(N), 5 * np.ones(N)]\n",
    "phi_cov_prior = np.array([np.array([[1e-1, 0], [0, 1e0]]) for _ in range(N)])\n",
    "beta_prior = 3e0 * np.ones(N)\n",
    "mu_prior = np.zeros(N)\n",
    "\n",
    "priors = {\n",
    "    'beta': beta_prior,\n",
    "    'mu': mu_prior,\n",
    "    'phi': phi_prior,\n",
    "    'phi_cov': phi_cov_prior,\n",
    "    'shape': 1,\n",
    "    'rate': 1e-1\n",
    "}\n",
    "\n",
    "fit_options = { \n",
    "    'iters': 50,\n",
    "    'num_mc_samples': 500,\n",
    "    'seed': 0,\n",
    "    'penalty': 5,\n",
    "    'max_penalty_iters': 15,\n",
    "    'lam_masking': True,\n",
    "    'scale_factor': 0.65,\n",
    "    'warm_start_lasso': False,\n",
    "    'constrain_weights': True,\n",
    "    'verbose': False,\n",
    "}\n",
    "\n",
    "model = adaprobe.Model(N, model_type='mbcs', priors=priors)"
   ]
  },
  {
   "cell_type": "code",
   "execution_count": null,
   "id": "e9c4c2e3-5d0f-4d9e-a6da-db890d0b369d",
   "metadata": {},
   "outputs": [],
   "source": []
  },
  {
   "cell_type": "code",
   "execution_count": null,
   "id": "d42689f4-d251-42ef-bf55-8df1d6fcdba2",
   "metadata": {},
   "outputs": [
    {
     "name": "stderr",
     "output_type": "stream",
     "text": [
      "WARNING:absl:No GPU/TPU found, falling back to CPU. (Set TF_CPP_MIN_LOG_LEVEL=0 and rerun for more info.)\n"
     ]
    }
   ],
   "source": [
    "model.reset()\n",
    "%time model.fit((y, y_psc), stimulus_matrix, fit_options=fit_options, method='mbcs')"
   ]
  },
  {
   "cell_type": "code",
   "execution_count": null,
   "id": "ea14a89d-e40a-462a-85c6-87195808b38b",
   "metadata": {},
   "outputs": [],
   "source": []
  },
  {
   "cell_type": "code",
   "execution_count": null,
   "id": "9922d315-39fd-41ba-a62f-e7f23834ca9b",
   "metadata": {},
   "outputs": [],
   "source": [
    "plt.figure(figsize=(5, 3))\n",
    "plt.plot(model.history['mu'])\n",
    "# plt.legend(range(N))\n",
    "plt.show()"
   ]
  },
  {
   "cell_type": "code",
   "execution_count": null,
   "id": "7a3541ec-4148-4162-a972-e83ddc989b3c",
   "metadata": {},
   "outputs": [],
   "source": []
  },
  {
   "cell_type": "code",
   "execution_count": null,
   "id": "44aeb4ff-5ce9-4288-9657-76358985c5b5",
   "metadata": {},
   "outputs": [],
   "source": [
    "lam = np.array(model.state['lam']).T\n",
    "alpha = np.array(model.state['mu'] != 0).astype(float)\n",
    "\n",
    "phi = model.state['phi']\n",
    "phi_cov = model.state['phi_cov']\n",
    "phi_sdevs = np.sqrt(np.array([np.diag(phi_cov[n]) for n in range(N)]))\n",
    "plow = phi - phi_sdevs\n",
    "phigh = phi + phi_sdevs\n",
    "\n",
    "Irng = np.arange(0, 91)\n",
    "\n",
    "xrange = np.arange(-21, 5, 0.1)\n",
    "def gaussf(mean, sdev):\n",
    "    return 1/(np.sqrt(2 * np.pi * sdev**2)) * np.exp(-1/(2 * sdev**2) * (xrange - mean)**2)\n",
    "\n",
    "post = [gaussf(model.state['mu'][n], model.state['beta'][n]) for n in range(N)]\n",
    "postmax = np.max(post)\n",
    "\n",
    "def sigmoid(x):\n",
    "    return 1/(1 + np.exp(-x))"
   ]
  },
  {
   "cell_type": "code",
   "execution_count": null,
   "id": "2bd48c8a-c11e-482b-9a97-848f51e19679",
   "metadata": {},
   "outputs": [],
   "source": []
  },
  {
   "cell_type": "code",
   "execution_count": null,
   "id": "e3816b08-44dd-4a61-ae4d-45628812b544",
   "metadata": {},
   "outputs": [],
   "source": [
    "trial_breaks = np.arange(0, trial_length * n_repeats + 1, trial_length)\n",
    "\n",
    "plt.figure(figsize=(18, 1.15 * N))\n",
    "gs = gridspec.GridSpec(N, 3, width_ratios=[15, 1.5, 1.5])\n",
    "    \n",
    "for n in range(N):\n",
    "    # Spike predictions\n",
    "    plt.subplot(gs[n, 0])\n",
    "    stim_locs = np.where(stimulus_matrix[n] > 0)[0]\n",
    "    this_y_psc = y_psc[stim_locs].flatten()/np.max(np.abs(y_psc))\n",
    "    fill_lower = -1\n",
    "    fill_upper = 0.15\n",
    "    plt.xlim([0, trial_length*n_repeats])\n",
    "    plt.ylim([-1, 0.15])\n",
    "    for tb in range(len(trial_breaks) - 1):\n",
    "        plt.plot([trial_breaks[tb], trial_breaks[tb]], [-1, 0.15], '--', color='k')\n",
    "        plt.fill_between(np.arange(trial_length * tb, trial_length * (tb + 1)), fill_lower * np.ones(trial_length), fill_upper * np.ones(trial_length), color='firebrick', alpha=lam[n, stim_locs][tb] * alpha[n])\n",
    "        plt.text(trial_breaks[tb] + trial_length/2 - 100, -0.9, '%.2f'%lam[n, stim_locs][tb], fontsize=fontsize-2)\n",
    "    plt.plot(this_y_psc, color='k')\n",
    "    for loc in ['top', 'right']:\n",
    "        plt.gca().spines[loc].set_visible(False)\n",
    "    \n",
    "    if n == N-1:\n",
    "        plt.xticks(trial_breaks[:-1] + trial_length/2, fontsize=fontsize)\n",
    "        plt.gca().set_xticklabels(np.arange(1, n_repeats+1))\n",
    "        plt.gca().set_yticklabels([np.round(np.min(y_psc), 2), 0.])\n",
    "        plt.xlabel('Trial', fontsize=fontsize)\n",
    "        plt.yticks(fontsize=fontsize)\n",
    "    elif n == N//2:\n",
    "        plt.ylabel('Stimulated pixel', fontsize=fontsize)\n",
    "        plt.xticks([])\n",
    "        plt.gca().set_yticklabels([])\n",
    "    else:\n",
    "        plt.xticks([])\n",
    "        plt.gca().set_yticklabels([])\n",
    "        \n",
    "    # Synapses\n",
    "    plt.subplot(gs[n, 1])\n",
    "    syn_col = 'gray' if alpha[n] == 0 else 'firebrick'\n",
    "    plt.plot(xrange, post[n], color=syn_col)\n",
    "    plt.xlim(np.min(xrange), np.max(xrange))\n",
    "    plt.ylim([-0.05, postmax])\n",
    "    if n < N-1:\n",
    "        plt.gca().set_xticklabels([])\n",
    "        plt.gca().set_yticklabels([])\n",
    "    else:\n",
    "        plt.xlabel('Synaptic strength', fontsize=fontsize)\n",
    "        plt.ylabel('Density', fontsize=fontsize)\n",
    "    plt.xticks(np.arange(-20, 1, 10), fontsize=fontsize)\n",
    "    plt.yticks(fontsize=fontsize)\n",
    "    \n",
    "    # Spike-power relationship\n",
    "    plt.subplot(gs[n, 2])\n",
    "    if alpha[n] < 0.5:\n",
    "        sigcol = 'gray'\n",
    "    else:\n",
    "        sigcol = 'firebrick'\n",
    "    plt.plot(sigmoid(phi[n, 0] * Irng - phi[n, 1]), color=sigcol)\n",
    "    plt.fill_between(Irng, sigmoid(plow[n, 0] * Irng - plow[n, 1]), sigmoid(phigh[n, 0] * Irng - phigh[n, 1]), facecolor=sigcol, edgecolor='None', alpha=0.25)\n",
    "    if n == N-1:\n",
    "        plt.xlabel('Power', fontsize=fontsize)\n",
    "        plt.ylabel('Spike prob', fontsize=fontsize)\n",
    "    else:\n",
    "        plt.gca().set_xticklabels([])\n",
    "        plt.gca().set_yticklabels([])\n",
    "    plt.ylim([0, 1.05])\n",
    "    plt.yticks([0, 1], fontsize=fontsize)\n",
    "    plt.xticks([0, 45, 90], fontsize=fontsize)\n",
    "    \n",
    "# plt.savefig('figs/model_based_cs/one_cell_per_plane_plus_10_random_%s.pdf'%fname, format='pdf', bbox_inches='tight', dpi=200, facecolor='white')\n",
    "plt.show()"
   ]
  },
  {
   "cell_type": "code",
   "execution_count": null,
   "id": "afb9fe17-1307-4855-8ed0-12b088f22ce0",
   "metadata": {},
   "outputs": [],
   "source": []
  },
  {
   "cell_type": "markdown",
   "id": "78e1d4b6-9f02-4936-8f5e-5a0bdb9e9bfd",
   "metadata": {},
   "source": [
    "# Simulating multi-spot stimulation"
   ]
  },
  {
   "cell_type": "code",
   "execution_count": null,
   "id": "8da923c8-b7ca-41a2-95b8-614db97faa11",
   "metadata": {},
   "outputs": [],
   "source": []
  },
  {
   "cell_type": "code",
   "execution_count": null,
   "id": "639e3e6c-1ab3-44cd-9851-4157a81b98fa",
   "metadata": {},
   "outputs": [],
   "source": [
    "powers = np.unique(stimulus_matrix[stimulus_matrix > 0])\n",
    "R = 2\n",
    "Kmulti = int(np.ceil(K/R))\n",
    "Kmulti = K\n",
    "trial_len = y_psc.shape[1]"
   ]
  },
  {
   "cell_type": "code",
   "execution_count": null,
   "id": "77f7de32-5246-4fc6-8a59-92f0d1334316",
   "metadata": {},
   "outputs": [],
   "source": [
    "y_psc_multi = np.zeros((Kmulti, trial_len))\n",
    "stimulus_matrix_multi = np.zeros((N, Kmulti))\n",
    "\n",
    "for k in range(Kmulti):\n",
    "    tars = np.random.choice(N, R, replace=False)\n",
    "    power = np.random.choice(powers)\n",
    "    sampled_trials = [np.random.choice(np.where(stimulus_matrix[tar] == power)[0]) for tar in tars]\n",
    "    y_psc_multi[k] = np.sum(y_psc[sampled_trials], 0)\n",
    "    stimulus_matrix_multi[tars, k] = power\n",
    "\n",
    "y_multi = np.trapz(y_psc_multi, axis=1)"
   ]
  },
  {
   "cell_type": "code",
   "execution_count": null,
   "id": "9e34ce06-26f2-4168-a392-aa9ff5bfcdab",
   "metadata": {},
   "outputs": [],
   "source": [
    "plt.figure(figsize=(10, 5))\n",
    "plt.imshow(stimulus_matrix_multi, aspect='auto', interpolation='nearest')\n",
    "plt.axis('off')\n",
    "plt.show()\n",
    "\n",
    "plt.figure(figsize=(10, 1))\n",
    "plt.plot(np.trapz(y_psc_multi, axis=1))\n",
    "plt.xlim([0, Kmulti])\n",
    "plt.axis('off')\n",
    "plt.show()"
   ]
  },
  {
   "cell_type": "code",
   "execution_count": null,
   "id": "0ee9674b-e289-4db9-833b-0fc80ac1c33a",
   "metadata": {},
   "outputs": [],
   "source": []
  },
  {
   "cell_type": "code",
   "execution_count": null,
   "id": "12895ac2-af1e-4003-9474-886002220592",
   "metadata": {},
   "outputs": [],
   "source": [
    "# configure priors\n",
    "phi_prior = np.c_[0.1 * np.ones(N), 5 * np.ones(N)]\n",
    "phi_cov_prior = np.array([np.array([[1e-1, 0], [0, 1e0]]) for _ in range(N)])\n",
    "beta_prior = 3e0 * np.ones(N)\n",
    "mu_prior = np.zeros(N)\n",
    "\n",
    "priors = {\n",
    "    'alpha': np.ones(N),\n",
    "    'beta': beta_prior,\n",
    "    'mu': mu_prior,\n",
    "    'phi': phi_prior,\n",
    "    'phi_cov': phi_cov_prior\n",
    "}\n",
    "\n",
    "fit_options = {\n",
    "    'penalty': 1e-1,\n",
    "    'iters': 100,\n",
    "    'num_mc_samples': 50,\n",
    "    'seed': 0,\n",
    "    'learn_alpha': False\n",
    "#     'lam_mask': \n",
    "}\n",
    "\n",
    "model_ms = adaprobe.Model(np.zeros(N), priors=priors)"
   ]
  },
  {
   "cell_type": "code",
   "execution_count": null,
   "id": "527d687c-0fcb-4b09-81d6-5058f3f3e7e0",
   "metadata": {},
   "outputs": [],
   "source": [
    "model_ms.reset()\n",
    "%time model_ms.fit(y_multi, stimulus_matrix_multi, fit_options=fit_options, method='cavi_offline_spike_and_slab_NOTS_jax')"
   ]
  },
  {
   "cell_type": "code",
   "execution_count": null,
   "id": "3a24d329-bd89-4aed-bda4-cef6a2dd2f2d",
   "metadata": {},
   "outputs": [],
   "source": []
  },
  {
   "cell_type": "code",
   "execution_count": null,
   "id": "8ebeb427-b6d9-4700-ab1a-dddb48ba30ce",
   "metadata": {},
   "outputs": [],
   "source": [
    "Irng = np.arange(0, 91)\n",
    "xrange = np.arange(-16, 5, 0.1)\n",
    "def gaussf(mean, sdev):\n",
    "    return 1/(np.sqrt(2 * np.pi * sdev**2)) * np.exp(-1/(2 * sdev**2) * (xrange - mean)**2)\n",
    "\n",
    "def sigmoid(x):\n",
    "    return 1/(1 + np.exp(-x))"
   ]
  },
  {
   "cell_type": "code",
   "execution_count": null,
   "id": "36c52dd6-2097-4d57-8e13-d6c490a4a341",
   "metadata": {},
   "outputs": [],
   "source": []
  },
  {
   "cell_type": "code",
   "execution_count": null,
   "id": "e5e2da8f-dc37-4a70-932a-9dfc2a4c51c2",
   "metadata": {},
   "outputs": [],
   "source": [
    "def plot_inferred_spikes_multi(y_psc, stimulus_matrix, model):\n",
    "    lam = np.array(model.state['lam']).T\n",
    "#     alpha = np.array(model.state['alpha'])\n",
    "    alpha = np.array((model.state['mu'] != 0).astype(float))\n",
    "    \n",
    "    phi = model.state['phi']\n",
    "    phi_cov = model.state['phi_cov']\n",
    "    phi_sdevs = np.sqrt(np.array([np.diag(phi_cov[n]) for n in range(N)]))\n",
    "    plow = phi - phi_sdevs\n",
    "    phigh = phi + phi_sdevs\n",
    "\n",
    "    post = [model.state['alpha'][n] * gaussf(model.state['mu'][n], model.state['beta'][n]) for n in range(N)]\n",
    "    postmax = np.max(post)\n",
    "\n",
    "    max_trial_breaks = 30\n",
    "    trial_breaks = np.arange(0, trial_length * max_trial_breaks + 1, trial_length)\n",
    "\n",
    "    plt.figure(figsize=(25, 1.15 * N))\n",
    "    gs = gridspec.GridSpec(N, 2, width_ratios=[15, 1.5])\n",
    "\n",
    "    for n in range(N):\n",
    "        # Spike predictions\n",
    "        plt.subplot(gs[n, 0])\n",
    "        stim_locs = np.where(stimulus_matrix[n] > 0)[0]\n",
    "        this_y_psc = y_psc[stim_locs].flatten()/np.max(np.abs(y_psc))\n",
    "        fill_lower = -1\n",
    "        fill_upper = 0.15\n",
    "        plt.ylim([-1, 0.15])\n",
    "        tbmax = np.min([len(trial_breaks) - 1, len(stim_locs)])\n",
    "        plt.xlim([0, trial_length*tbmax])\n",
    "        for tb in range(tbmax):\n",
    "            plt.plot([trial_breaks[tb], trial_breaks[tb]], [-1, 0.15], '--', color='k')\n",
    "            plt.fill_between(np.arange(trial_length * tb, trial_length * (tb + 1)), fill_lower * np.ones(trial_length), fill_upper * np.ones(trial_length), color='firebrick', alpha=lam[n, stim_locs][tb] * alpha[n])\n",
    "            plt.text(trial_breaks[tb] + trial_length/2 - 70, -0.9, '%.2f'%(lam[n, stim_locs][tb]))\n",
    "        plt.plot(this_y_psc[:tbmax*trial_len], color='k')\n",
    "        for loc in ['top', 'right']:\n",
    "            plt.gca().spines[loc].set_visible(False)\n",
    "\n",
    "        if n == N-1:\n",
    "#             plt.xticks(trial_breaks[:-1] + trial_length/2)\n",
    "#             plt.gca().set_xticklabels(np.arange(1, tbmax+1))\n",
    "            plt.gca().set_yticklabels([np.round(np.min(y_psc), 2), 0.])\n",
    "            plt.xlabel('Trial', fontsize=fontsize)\n",
    "        elif n == N//2:\n",
    "            plt.ylabel('PSC', fontsize=fontsize)\n",
    "            plt.xticks([])\n",
    "            plt.gca().set_yticklabels([])\n",
    "        else:\n",
    "            plt.xticks([])\n",
    "            plt.gca().set_yticklabels([])\n",
    "\n",
    "        # Synapses\n",
    "        plt.subplot(gs[n, 1])\n",
    "        plt.plot(xrange, post[n], color='firebrick')\n",
    "        plt.xlim(np.min(xrange), np.max(xrange))\n",
    "        plt.ylim([-0.05, postmax])\n",
    "        if n < N-1:\n",
    "            plt.gca().set_xticklabels([])\n",
    "            plt.gca().set_yticklabels([])\n",
    "        else:\n",
    "            plt.xlabel('Synaptic strength', fontsize=fontsize)\n",
    "            plt.ylabel('Density', fontsize=fontsize)\n",
    "#         plt.xticks(np.arange(-20, 1, 10))\n",
    "#         plt.yticks([0, 0.4, 0.8])\n",
    "        \n",
    "    plt.show()\n"
   ]
  },
  {
   "cell_type": "code",
   "execution_count": null,
   "id": "842c3120-e21f-4134-86b9-cdbc7214f492",
   "metadata": {},
   "outputs": [],
   "source": []
  },
  {
   "cell_type": "code",
   "execution_count": null,
   "id": "b5c99fe1-0d46-415f-b143-c54f900665df",
   "metadata": {},
   "outputs": [],
   "source": [
    "model_ms.state['mu']"
   ]
  },
  {
   "cell_type": "code",
   "execution_count": null,
   "id": "8a1f11f0-4f5e-405b-84b8-23eb3f09dfb0",
   "metadata": {},
   "outputs": [],
   "source": []
  },
  {
   "cell_type": "code",
   "execution_count": null,
   "id": "5d617712-ed88-42a7-b5b1-9450c54d500e",
   "metadata": {},
   "outputs": [],
   "source": []
  },
  {
   "cell_type": "code",
   "execution_count": null,
   "id": "6de31c25-6479-4950-b6ef-dd0dbe6f083a",
   "metadata": {},
   "outputs": [],
   "source": [
    "plot_inferred_spikes_multi(y_psc_multi, stimulus_matrix_multi, model_ms)"
   ]
  },
  {
   "cell_type": "code",
   "execution_count": null,
   "id": "a15468a4-7c94-40db-bc2a-06c9d28943df",
   "metadata": {},
   "outputs": [],
   "source": []
  },
  {
   "cell_type": "code",
   "execution_count": null,
   "id": "08fb9657-f897-4589-a8b2-072cff317412",
   "metadata": {},
   "outputs": [],
   "source": [
    "plt.figure(figsize=(4, 4))\n",
    "plt.plot([-6, 1], [-6, 1], '--', color='gray')\n",
    "plt.scatter(model.state['mu'], model_ms.state['mu'], edgecolor='C1', facecolor='None', linewidth=3)\n",
    "plt.xlim([-6, 2])\n",
    "plt.ylim([-6, 2])\n",
    "plt.xticks(np.arange(-6, 2, 2))\n",
    "plt.yticks(np.arange(-6, 2, 2))\n",
    "plt.ylabel('Inferred multi-spot mapping', fontsize=fontsize)\n",
    "plt.xlabel('Inferred single-spot mapping', fontsize=fontsize)\n",
    "plt.grid(linestyle='dashed')\n",
    "plt.show()"
   ]
  },
  {
   "cell_type": "code",
   "execution_count": null,
   "id": "523609b2-5cfe-42d1-868a-8def514f2360",
   "metadata": {},
   "outputs": [],
   "source": [
    "np.corrcoef(model.state['mu'], model_ms.state['mu'])"
   ]
  },
  {
   "cell_type": "code",
   "execution_count": null,
   "id": "296598c7-4539-440f-aadd-230fb8a9ed41",
   "metadata": {},
   "outputs": [],
   "source": []
  },
  {
   "cell_type": "code",
   "execution_count": null,
   "id": "71b41d9d-30a1-4507-980a-d31720e29528",
   "metadata": {},
   "outputs": [],
   "source": []
  },
  {
   "cell_type": "markdown",
   "id": "de507381-9e05-4285-ab63-a631820934b0",
   "metadata": {},
   "source": [
    "# Simulate multiple multispot expts for comparison"
   ]
  },
  {
   "cell_type": "code",
   "execution_count": null,
   "id": "1f9d638b-315c-45a7-9a19-ecfb60bb4b5b",
   "metadata": {},
   "outputs": [],
   "source": [
    "powers = np.unique(stimulus_matrix[stimulus_matrix > 0])\n",
    "R = 2\n",
    "Kmulti = [K//4, K//2, K]\n",
    "nks = len(Kmulti)\n",
    "trial_len = y_psc.shape[1]\n",
    "y_psc_multi = [None for _ in range(nks)]\n",
    "stimulus_matrix_multi = [None for _ in range(nks)]\n",
    "y_multi = [None for _ in range(nks)]"
   ]
  },
  {
   "cell_type": "code",
   "execution_count": null,
   "id": "d5db7f05-c33e-48ad-8b57-415dd3f3f7a2",
   "metadata": {},
   "outputs": [],
   "source": [
    "for kindx, this_K in enumerate(Kmulti):\n",
    "    y_psc_multi[kindx] = np.zeros((this_K, trial_len))\n",
    "    stimulus_matrix_multi[kindx] = np.zeros((N, this_K))\n",
    "\n",
    "    for k in range(this_K):\n",
    "        tars = np.random.choice(N, R, replace=False)\n",
    "        power = np.random.choice(powers)\n",
    "        sampled_trials = [np.random.choice(np.where(stimulus_matrix[tar] == power)[0]) for tar in tars]\n",
    "        y_psc_multi[kindx][k] = np.sum(y_psc[sampled_trials], 0)\n",
    "        stimulus_matrix_multi[kindx][tars, k] = power\n",
    "\n",
    "    y_multi[kindx] = np.trapz(y_psc_multi[kindx], axis=1)"
   ]
  },
  {
   "cell_type": "code",
   "execution_count": null,
   "id": "c402d6e5-2b4a-4409-851d-9b792f1cce36",
   "metadata": {},
   "outputs": [],
   "source": []
  },
  {
   "cell_type": "code",
   "execution_count": null,
   "id": "f894fe20-3c91-40f5-88f9-4a624f139e2d",
   "metadata": {},
   "outputs": [],
   "source": [
    "# # configure priors\n",
    "# phi_prior = np.c_[0.1 * np.ones(N), 5 * np.ones(N)]\n",
    "# phi_cov_prior = np.array([np.array([[1e-1, 0], [0, 1e0]]) for _ in range(N)])\n",
    "# beta_prior = 3e0 * np.ones(N)\n",
    "# mu_prior = np.zeros(N)\n",
    "\n",
    "# priors = {\n",
    "#     'alpha': np.ones(N),\n",
    "#     'beta': beta_prior,\n",
    "#     'mu': mu_prior,\n",
    "#     'phi': phi_prior,\n",
    "#     'phi_cov': phi_cov_prior\n",
    "# }\n",
    "\n",
    "# fit_options = {\n",
    "#     'penalty': 5e-2,\n",
    "#     'iters': 100,\n",
    "#     'num_mc_samples': 50,\n",
    "#     'seed': 1,\n",
    "#     'learn_alpha': False\n",
    "# #     'lam_mask': \n",
    "# }\n",
    "\n",
    "models = [adaprobe.Model(np.zeros(N), priors=priors) for _ in range(nks)]"
   ]
  },
  {
   "cell_type": "code",
   "execution_count": null,
   "id": "083d7dbd-6b8d-4f08-946e-1b59e6c450c9",
   "metadata": {},
   "outputs": [],
   "source": [
    "for kindx in range(nks):\n",
    "    %time models[kindx].fit(y_multi[kindx], stimulus_matrix_multi[kindx], fit_options=fit_options, method='cavi_offline_spike_and_slab_NOTS_jax')"
   ]
  },
  {
   "cell_type": "code",
   "execution_count": null,
   "id": "0963b52a-ea8f-4fb4-9739-d1ac1a26fc13",
   "metadata": {},
   "outputs": [],
   "source": [
    "for kindx in range(nks):\n",
    "    plot_inferred_spikes_multi(y_psc_multi[kindx], stimulus_matrix_multi[kindx], models[kindx])"
   ]
  },
  {
   "cell_type": "code",
   "execution_count": null,
   "id": "bbd97aa2-8fce-41d2-953c-c6728a6a719b",
   "metadata": {},
   "outputs": [],
   "source": [
    "plt.plot(y_psc_multi[0][0])\n",
    "plt.plot(y_psc_multi[0][1])"
   ]
  },
  {
   "cell_type": "code",
   "execution_count": null,
   "id": "c9c64ecf-d4cd-423b-80d2-ca004ec3305d",
   "metadata": {},
   "outputs": [],
   "source": [
    "jnp.correlate(y_psc_multi[0][0], y_psc_multi[0][0])"
   ]
  },
  {
   "cell_type": "code",
   "execution_count": null,
   "id": "5fb49005-bbc5-4697-966f-ed71ebe5d319",
   "metadata": {},
   "outputs": [],
   "source": [
    "jnp.correlate(y_psc_multi[0][1], y_psc_multi[0][1])"
   ]
  },
  {
   "cell_type": "code",
   "execution_count": null,
   "id": "cdbc9f07-e0fe-4f7e-a2f8-55b47c76f3a5",
   "metadata": {},
   "outputs": [],
   "source": [
    "corrs = np.array([jnp.correlate(y_psc_multi[0][i], y_psc_multi[0][i]) for i in range(Kmulti[0])]).squeeze()"
   ]
  },
  {
   "cell_type": "code",
   "execution_count": null,
   "id": "4ae02230-c23c-4b27-b35d-55256712ae89",
   "metadata": {},
   "outputs": [],
   "source": [
    "plt.plot(np.sort(corrs)[::-1])"
   ]
  },
  {
   "cell_type": "code",
   "execution_count": null,
   "id": "3b150e7d-414c-4de1-98f2-05e1949be61e",
   "metadata": {},
   "outputs": [],
   "source": [
    "corrs"
   ]
  },
  {
   "cell_type": "code",
   "execution_count": null,
   "id": "094d7e52-0385-411d-a1c7-4b1139fc1baf",
   "metadata": {},
   "outputs": [],
   "source": []
  },
  {
   "cell_type": "code",
   "execution_count": null,
   "id": "ab1eab53-b4b9-4797-af58-58ce097e089e",
   "metadata": {},
   "outputs": [],
   "source": []
  },
  {
   "cell_type": "code",
   "execution_count": null,
   "id": "3135695a-24b6-4317-89bd-7c99dd4c7dba",
   "metadata": {},
   "outputs": [],
   "source": [
    "plt.hist(corrs, 20, cumulative=True)"
   ]
  },
  {
   "cell_type": "code",
   "execution_count": null,
   "id": "c7dda1ac-60ef-4d91-8b57-ae311688b6b7",
   "metadata": {},
   "outputs": [],
   "source": []
  },
  {
   "cell_type": "code",
   "execution_count": null,
   "id": "3bdc6f57-a9e0-4d52-bc4d-05da5f690f55",
   "metadata": {},
   "outputs": [],
   "source": []
  },
  {
   "cell_type": "code",
   "execution_count": null,
   "id": "d69e1857-9353-4566-b536-1342ffded204",
   "metadata": {},
   "outputs": [],
   "source": []
  },
  {
   "cell_type": "code",
   "execution_count": null,
   "id": "798e326f-f6d4-4c76-a988-9cbb050e64e7",
   "metadata": {},
   "outputs": [],
   "source": [
    "plt.figure(figsize=(5, 5))\n",
    "plt.plot([-6, 2], [-6, 2], '--', color='gray')\n",
    "for kindx in range(nks):\n",
    "    plt.scatter(model.state['mu'], models[kindx].state['mu'], edgecolor='C%i'%kindx, facecolor='None', linewidth=3, \\\n",
    "                label='K=%i, %i%% single-spot trials, $r^2$=%.2f'%(Kmulti[kindx], 100*Kmulti[kindx]/K, \\\n",
    "                np.square(np.corrcoef(model.state['mu'], models[kindx].state['mu'])[0, 1])))\n",
    "plt.xlim([-7, 3])\n",
    "plt.ylim([-7, 3])\n",
    "plt.xticks(np.arange(-6, 3, 2))\n",
    "plt.yticks(np.arange(-6, 3, 2))\n",
    "plt.ylabel('Inferred multi-spot mapping (R=%i)'%R, fontsize=fontsize)\n",
    "plt.xlabel('Inferred single-spot mapping', fontsize=fontsize)\n",
    "plt.grid(linestyle='dashed')\n",
    "plt.legend(loc='upper left', frameon=True)\n",
    "plt.show()"
   ]
  },
  {
   "cell_type": "code",
   "execution_count": null,
   "id": "bd0c54dc-5e0c-41fc-915c-9a27dff99ec3",
   "metadata": {},
   "outputs": [],
   "source": [
    "for kindx in range(nks):\n",
    "    print(np.corrcoef(model.state['mu'], models[kindx].state['mu'])[0, 1])"
   ]
  },
  {
   "cell_type": "code",
   "execution_count": null,
   "id": "95275012-73f2-43a3-a351-5a925299556a",
   "metadata": {},
   "outputs": [],
   "source": []
  },
  {
   "cell_type": "code",
   "execution_count": null,
   "id": "de65cdbd-a9f5-4769-bfc2-a4d1e93bc273",
   "metadata": {},
   "outputs": [],
   "source": []
  },
  {
   "cell_type": "code",
   "execution_count": null,
   "id": "2c97f60e-1892-4757-ace5-eddd6a308b89",
   "metadata": {},
   "outputs": [],
   "source": []
  },
  {
   "cell_type": "code",
   "execution_count": null,
   "id": "70b1ad8b-ecf5-4552-912c-b63e85a66a0d",
   "metadata": {},
   "outputs": [],
   "source": []
  },
  {
   "cell_type": "code",
   "execution_count": null,
   "id": "18767872-4e4a-4a53-8edc-e48936711875",
   "metadata": {},
   "outputs": [],
   "source": []
  }
 ],
 "metadata": {
  "kernelspec": {
   "display_name": "Python 3",
   "language": "python",
   "name": "python3"
  },
  "language_info": {
   "codemirror_mode": {
    "name": "ipython",
    "version": 3
   },
   "file_extension": ".py",
   "mimetype": "text/x-python",
   "name": "python",
   "nbconvert_exporter": "python",
   "pygments_lexer": "ipython3",
   "version": "3.9.4"
  }
 },
 "nbformat": 4,
 "nbformat_minor": 5
}
