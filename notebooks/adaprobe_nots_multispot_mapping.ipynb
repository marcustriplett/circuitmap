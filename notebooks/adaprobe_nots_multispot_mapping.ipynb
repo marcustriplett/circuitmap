{
 "cells": [
  {
   "cell_type": "code",
   "execution_count": 1,
   "metadata": {},
   "outputs": [],
   "source": [
    "import matplotlib.pyplot as plt\n",
    "import numpy as np\n",
    "\n",
    "import sklearn\n",
    "from sklearn.mixture import GaussianMixture\n",
    "\n",
    "import os\n",
    "os.environ['CUDA_VISIBLE_DEVICES'] = '3'\n",
    "\n",
    "import jax\n",
    "import jax.numpy as jnp\n",
    "from jax import jit, vmap\n",
    "from jax.nn import sigmoid\n",
    "\n",
    "import time"
   ]
  },
  {
   "cell_type": "code",
   "execution_count": 2,
   "metadata": {},
   "outputs": [],
   "source": [
    "# jax.devices()"
   ]
  },
  {
   "cell_type": "code",
   "execution_count": 3,
   "metadata": {},
   "outputs": [],
   "source": [
    "EPS = 1e-10\n",
    "fontsize=13"
   ]
  },
  {
   "cell_type": "code",
   "execution_count": 4,
   "metadata": {},
   "outputs": [],
   "source": [
    "import sys\n",
    "sys.path.append('../')\n",
    "import adaprobe"
   ]
  },
  {
   "cell_type": "markdown",
   "metadata": {},
   "source": [
    "# Vary number of stimuli"
   ]
  },
  {
   "cell_type": "code",
   "execution_count": 5,
   "metadata": {},
   "outputs": [],
   "source": [
    "test_Ns = [2, 4, 8, 16, 32, 64]\n",
    "test_num_targets = [1, 2, 4, 8, 16, 32, 64]\n",
    "test_Ks = [4000]\n",
    "test_sigmas = [1]\n",
    "# test_Ks = [500, 1000, 2000, 4000]\n",
    "# test_sigmas = [1, 3, 5]"
   ]
  },
  {
   "cell_type": "code",
   "execution_count": 6,
   "metadata": {},
   "outputs": [],
   "source": [
    "# fit_options = {\n",
    "#     'iters': 100,\n",
    "#     'num_mc_samples': 20,\n",
    "#     'seed': 1\n",
    "# }\n",
    "\n",
    "fit_options_wo_alpha = {\n",
    "    'iters': 100,\n",
    "    'num_mc_samples': 50,\n",
    "    'seed': 0,\n",
    "    'penalty': 1e-1,\n",
    "    'learn_alpha': False\n",
    "}"
   ]
  },
  {
   "cell_type": "code",
   "execution_count": 9,
   "metadata": {},
   "outputs": [
    {
     "name": "stdout",
     "output_type": "stream",
     "text": [
      "pop size: 64,  num_targets: 64,  run: 0\t\r"
     ]
    },
    {
     "name": "stderr",
     "output_type": "stream",
     "text": [
      "/home/mat2245/anaconda3/envs/jax/lib/python3.9/site-packages/sklearn/linear_model/_coordinate_descent.py:530: ConvergenceWarning: Objective did not converge. You might want to increase the number of iterations. Duality gap: 9055.565557518115, tolerance: 8426.738407141149\n",
      "  model = cd_fast.enet_coordinate_descent(\n",
      "/home/mat2245/anaconda3/envs/jax/lib/python3.9/site-packages/sklearn/linear_model/_coordinate_descent.py:530: ConvergenceWarning: Objective did not converge. You might want to increase the number of iterations. Duality gap: 23605.780520664644, tolerance: 8426.738407141149\n",
      "  model = cd_fast.enet_coordinate_descent(\n",
      "/home/mat2245/anaconda3/envs/jax/lib/python3.9/site-packages/sklearn/linear_model/_coordinate_descent.py:530: ConvergenceWarning: Objective did not converge. You might want to increase the number of iterations. Duality gap: 27733.34445201268, tolerance: 8426.738407141149\n",
      "  model = cd_fast.enet_coordinate_descent(\n",
      "/home/mat2245/anaconda3/envs/jax/lib/python3.9/site-packages/sklearn/linear_model/_coordinate_descent.py:530: ConvergenceWarning: Objective did not converge. You might want to increase the number of iterations. Duality gap: 69936.35616541572, tolerance: 8426.738407141149\n",
      "  model = cd_fast.enet_coordinate_descent(\n",
      "/home/mat2245/anaconda3/envs/jax/lib/python3.9/site-packages/sklearn/linear_model/_coordinate_descent.py:530: ConvergenceWarning: Objective did not converge. You might want to increase the number of iterations. Duality gap: 145648.24287683162, tolerance: 8426.738407141149\n",
      "  model = cd_fast.enet_coordinate_descent(\n",
      "/home/mat2245/anaconda3/envs/jax/lib/python3.9/site-packages/sklearn/linear_model/_coordinate_descent.py:530: ConvergenceWarning: Objective did not converge. You might want to increase the number of iterations. Duality gap: 61941.85408396553, tolerance: 8426.738407141149\n",
      "  model = cd_fast.enet_coordinate_descent(\n",
      "/home/mat2245/anaconda3/envs/jax/lib/python3.9/site-packages/sklearn/linear_model/_coordinate_descent.py:530: ConvergenceWarning: Objective did not converge. You might want to increase the number of iterations. Duality gap: 95111.92108960898, tolerance: 8426.738407141149\n",
      "  model = cd_fast.enet_coordinate_descent(\n",
      "/home/mat2245/anaconda3/envs/jax/lib/python3.9/site-packages/sklearn/linear_model/_coordinate_descent.py:530: ConvergenceWarning: Objective did not converge. You might want to increase the number of iterations. Duality gap: 59036.12851823121, tolerance: 8426.738407141149\n",
      "  model = cd_fast.enet_coordinate_descent(\n",
      "/home/mat2245/anaconda3/envs/jax/lib/python3.9/site-packages/sklearn/linear_model/_coordinate_descent.py:530: ConvergenceWarning: Objective did not converge. You might want to increase the number of iterations. Duality gap: 35849.50166411916, tolerance: 8426.738407141149\n",
      "  model = cd_fast.enet_coordinate_descent(\n",
      "/home/mat2245/anaconda3/envs/jax/lib/python3.9/site-packages/sklearn/linear_model/_coordinate_descent.py:530: ConvergenceWarning: Objective did not converge. You might want to increase the number of iterations. Duality gap: 15393.140808138065, tolerance: 8426.738407141149\n",
      "  model = cd_fast.enet_coordinate_descent(\n",
      "/home/mat2245/anaconda3/envs/jax/lib/python3.9/site-packages/sklearn/linear_model/_coordinate_descent.py:530: ConvergenceWarning: Objective did not converge. You might want to increase the number of iterations. Duality gap: 154628.64386864658, tolerance: 8426.738407141149\n",
      "  model = cd_fast.enet_coordinate_descent(\n",
      "/home/mat2245/anaconda3/envs/jax/lib/python3.9/site-packages/sklearn/linear_model/_coordinate_descent.py:530: ConvergenceWarning: Objective did not converge. You might want to increase the number of iterations. Duality gap: 11111.573528441135, tolerance: 8426.738407141149\n",
      "  model = cd_fast.enet_coordinate_descent(\n",
      "/home/mat2245/anaconda3/envs/jax/lib/python3.9/site-packages/sklearn/linear_model/_coordinate_descent.py:530: ConvergenceWarning: Objective did not converge. You might want to increase the number of iterations. Duality gap: 9522.67306664132, tolerance: 8426.738407141149\n",
      "  model = cd_fast.enet_coordinate_descent(\n",
      "/home/mat2245/anaconda3/envs/jax/lib/python3.9/site-packages/sklearn/linear_model/_coordinate_descent.py:530: ConvergenceWarning: Objective did not converge. You might want to increase the number of iterations. Duality gap: 48523.67906750424, tolerance: 8426.738407141149\n",
      "  model = cd_fast.enet_coordinate_descent(\n",
      "/home/mat2245/anaconda3/envs/jax/lib/python3.9/site-packages/sklearn/linear_model/_coordinate_descent.py:530: ConvergenceWarning: Objective did not converge. You might want to increase the number of iterations. Duality gap: 52705.01822999457, tolerance: 8426.738407141149\n",
      "  model = cd_fast.enet_coordinate_descent(\n",
      "/home/mat2245/anaconda3/envs/jax/lib/python3.9/site-packages/sklearn/linear_model/_coordinate_descent.py:530: ConvergenceWarning: Objective did not converge. You might want to increase the number of iterations. Duality gap: 22572.27378643502, tolerance: 8426.738407141149\n",
      "  model = cd_fast.enet_coordinate_descent(\n",
      "/home/mat2245/anaconda3/envs/jax/lib/python3.9/site-packages/sklearn/linear_model/_coordinate_descent.py:530: ConvergenceWarning: Objective did not converge. You might want to increase the number of iterations. Duality gap: 115930.68281952589, tolerance: 8426.738407141149\n",
      "  model = cd_fast.enet_coordinate_descent(\n",
      "/home/mat2245/anaconda3/envs/jax/lib/python3.9/site-packages/sklearn/linear_model/_coordinate_descent.py:530: ConvergenceWarning: Objective did not converge. You might want to increase the number of iterations. Duality gap: 225766.8850165229, tolerance: 8426.738407141149\n",
      "  model = cd_fast.enet_coordinate_descent(\n",
      "/home/mat2245/anaconda3/envs/jax/lib/python3.9/site-packages/sklearn/linear_model/_coordinate_descent.py:530: ConvergenceWarning: Objective did not converge. You might want to increase the number of iterations. Duality gap: 11080.791625554033, tolerance: 8426.738407141149\n",
      "  model = cd_fast.enet_coordinate_descent(\n",
      "/home/mat2245/anaconda3/envs/jax/lib/python3.9/site-packages/sklearn/linear_model/_coordinate_descent.py:530: ConvergenceWarning: Objective did not converge. You might want to increase the number of iterations. Duality gap: 9878.71558737877, tolerance: 8426.738407141149\n",
      "  model = cd_fast.enet_coordinate_descent(\n",
      "/home/mat2245/anaconda3/envs/jax/lib/python3.9/site-packages/sklearn/linear_model/_coordinate_descent.py:530: ConvergenceWarning: Objective did not converge. You might want to increase the number of iterations. Duality gap: 8633.704161884147, tolerance: 8426.738407141149\n",
      "  model = cd_fast.enet_coordinate_descent(\n",
      "/home/mat2245/anaconda3/envs/jax/lib/python3.9/site-packages/sklearn/linear_model/_coordinate_descent.py:530: ConvergenceWarning: Objective did not converge. You might want to increase the number of iterations. Duality gap: 69438.4037228786, tolerance: 8426.738407141149\n",
      "  model = cd_fast.enet_coordinate_descent(\n",
      "/home/mat2245/anaconda3/envs/jax/lib/python3.9/site-packages/sklearn/linear_model/_coordinate_descent.py:530: ConvergenceWarning: Objective did not converge. You might want to increase the number of iterations. Duality gap: 79251.26543622167, tolerance: 8426.738407141149\n",
      "  model = cd_fast.enet_coordinate_descent(\n",
      "/home/mat2245/anaconda3/envs/jax/lib/python3.9/site-packages/sklearn/linear_model/_coordinate_descent.py:530: ConvergenceWarning: Objective did not converge. You might want to increase the number of iterations. Duality gap: 85296.6719755833, tolerance: 8426.738407141149\n",
      "  model = cd_fast.enet_coordinate_descent(\n",
      "/home/mat2245/anaconda3/envs/jax/lib/python3.9/site-packages/sklearn/linear_model/_coordinate_descent.py:530: ConvergenceWarning: Objective did not converge. You might want to increase the number of iterations. Duality gap: 10579.20866291644, tolerance: 8426.738407141149\n",
      "  model = cd_fast.enet_coordinate_descent(\n",
      "/home/mat2245/anaconda3/envs/jax/lib/python3.9/site-packages/sklearn/linear_model/_coordinate_descent.py:530: ConvergenceWarning: Objective did not converge. You might want to increase the number of iterations. Duality gap: 11053.828665593872, tolerance: 8426.738407141149\n",
      "  model = cd_fast.enet_coordinate_descent(\n",
      "/home/mat2245/anaconda3/envs/jax/lib/python3.9/site-packages/sklearn/linear_model/_coordinate_descent.py:530: ConvergenceWarning: Objective did not converge. You might want to increase the number of iterations. Duality gap: 35204.951274428604, tolerance: 8426.738407141149\n",
      "  model = cd_fast.enet_coordinate_descent(\n",
      "/home/mat2245/anaconda3/envs/jax/lib/python3.9/site-packages/sklearn/linear_model/_coordinate_descent.py:530: ConvergenceWarning: Objective did not converge. You might want to increase the number of iterations. Duality gap: 54083.41194316163, tolerance: 8426.738407141149\n",
      "  model = cd_fast.enet_coordinate_descent(\n",
      "/home/mat2245/anaconda3/envs/jax/lib/python3.9/site-packages/sklearn/linear_model/_coordinate_descent.py:530: ConvergenceWarning: Objective did not converge. You might want to increase the number of iterations. Duality gap: 225348.67219601967, tolerance: 8426.738407141149\n",
      "  model = cd_fast.enet_coordinate_descent(\n",
      "/home/mat2245/anaconda3/envs/jax/lib/python3.9/site-packages/sklearn/linear_model/_coordinate_descent.py:530: ConvergenceWarning: Objective did not converge. You might want to increase the number of iterations. Duality gap: 15540.002422332997, tolerance: 8426.738407141149\n",
      "  model = cd_fast.enet_coordinate_descent(\n",
      "/home/mat2245/anaconda3/envs/jax/lib/python3.9/site-packages/sklearn/linear_model/_coordinate_descent.py:530: ConvergenceWarning: Objective did not converge. You might want to increase the number of iterations. Duality gap: 113512.2096278778, tolerance: 8426.738407141149\n",
      "  model = cd_fast.enet_coordinate_descent(\n",
      "/home/mat2245/anaconda3/envs/jax/lib/python3.9/site-packages/sklearn/linear_model/_coordinate_descent.py:530: ConvergenceWarning: Objective did not converge. You might want to increase the number of iterations. Duality gap: 149279.1801914131, tolerance: 8426.738407141149\n",
      "  model = cd_fast.enet_coordinate_descent(\n",
      "/home/mat2245/anaconda3/envs/jax/lib/python3.9/site-packages/sklearn/linear_model/_coordinate_descent.py:530: ConvergenceWarning: Objective did not converge. You might want to increase the number of iterations. Duality gap: 104582.8034909427, tolerance: 8426.738407141149\n",
      "  model = cd_fast.enet_coordinate_descent(\n",
      "/home/mat2245/anaconda3/envs/jax/lib/python3.9/site-packages/sklearn/linear_model/_coordinate_descent.py:530: ConvergenceWarning: Objective did not converge. You might want to increase the number of iterations. Duality gap: 54181.17697635159, tolerance: 8426.738407141149\n",
      "  model = cd_fast.enet_coordinate_descent(\n",
      "/home/mat2245/anaconda3/envs/jax/lib/python3.9/site-packages/sklearn/linear_model/_coordinate_descent.py:530: ConvergenceWarning: Objective did not converge. You might want to increase the number of iterations. Duality gap: 79165.57604592422, tolerance: 8426.738407141149\n",
      "  model = cd_fast.enet_coordinate_descent(\n",
      "/home/mat2245/anaconda3/envs/jax/lib/python3.9/site-packages/sklearn/linear_model/_coordinate_descent.py:530: ConvergenceWarning: Objective did not converge. You might want to increase the number of iterations. Duality gap: 73463.78484577089, tolerance: 8426.738407141149\n",
      "  model = cd_fast.enet_coordinate_descent(\n",
      "/home/mat2245/anaconda3/envs/jax/lib/python3.9/site-packages/sklearn/linear_model/_coordinate_descent.py:530: ConvergenceWarning: Objective did not converge. You might want to increase the number of iterations. Duality gap: 70236.52103314013, tolerance: 8426.738407141149\n",
      "  model = cd_fast.enet_coordinate_descent(\n",
      "/home/mat2245/anaconda3/envs/jax/lib/python3.9/site-packages/sklearn/linear_model/_coordinate_descent.py:530: ConvergenceWarning: Objective did not converge. You might want to increase the number of iterations. Duality gap: 9812.55553902348, tolerance: 8426.738407141149\n",
      "  model = cd_fast.enet_coordinate_descent(\n",
      "/home/mat2245/anaconda3/envs/jax/lib/python3.9/site-packages/sklearn/linear_model/_coordinate_descent.py:530: ConvergenceWarning: Objective did not converge. You might want to increase the number of iterations. Duality gap: 9678.910118025437, tolerance: 8426.738407141149\n",
      "  model = cd_fast.enet_coordinate_descent(\n",
      "/home/mat2245/anaconda3/envs/jax/lib/python3.9/site-packages/sklearn/linear_model/_coordinate_descent.py:530: ConvergenceWarning: Objective did not converge. You might want to increase the number of iterations. Duality gap: 15204.93468059483, tolerance: 8426.738407141149\n",
      "  model = cd_fast.enet_coordinate_descent(\n",
      "/home/mat2245/anaconda3/envs/jax/lib/python3.9/site-packages/sklearn/linear_model/_coordinate_descent.py:530: ConvergenceWarning: Objective did not converge. You might want to increase the number of iterations. Duality gap: 11968.248496714397, tolerance: 8426.738407141149\n",
      "  model = cd_fast.enet_coordinate_descent(\n"
     ]
    },
    {
     "name": "stdout",
     "output_type": "stream",
     "text": [
      "pop size: 64,  num_targets: 64,  run: 1\t\r"
     ]
    },
    {
     "name": "stderr",
     "output_type": "stream",
     "text": [
      "/home/mat2245/anaconda3/envs/jax/lib/python3.9/site-packages/sklearn/linear_model/_coordinate_descent.py:530: ConvergenceWarning: Objective did not converge. You might want to increase the number of iterations. Duality gap: 5285.661787947989, tolerance: 4052.2256020111317\n",
      "  model = cd_fast.enet_coordinate_descent(\n"
     ]
    },
    {
     "name": "stdout",
     "output_type": "stream",
     "text": [
      "pop size: 64,  num_targets: 64,  run: 2\t\r"
     ]
    },
    {
     "name": "stderr",
     "output_type": "stream",
     "text": [
      "/home/mat2245/anaconda3/envs/jax/lib/python3.9/site-packages/sklearn/linear_model/_coordinate_descent.py:530: ConvergenceWarning: Objective did not converge. You might want to increase the number of iterations. Duality gap: 4748.42623686319, tolerance: 4576.659751116276\n",
      "  model = cd_fast.enet_coordinate_descent(\n",
      "/home/mat2245/anaconda3/envs/jax/lib/python3.9/site-packages/sklearn/linear_model/_coordinate_descent.py:530: ConvergenceWarning: Objective did not converge. You might want to increase the number of iterations. Duality gap: 10384.28566464322, tolerance: 4576.659751116276\n",
      "  model = cd_fast.enet_coordinate_descent(\n",
      "/home/mat2245/anaconda3/envs/jax/lib/python3.9/site-packages/sklearn/linear_model/_coordinate_descent.py:530: ConvergenceWarning: Objective did not converge. You might want to increase the number of iterations. Duality gap: 17280.37627244211, tolerance: 4576.659751116276\n",
      "  model = cd_fast.enet_coordinate_descent(\n",
      "/home/mat2245/anaconda3/envs/jax/lib/python3.9/site-packages/sklearn/linear_model/_coordinate_descent.py:530: ConvergenceWarning: Objective did not converge. You might want to increase the number of iterations. Duality gap: 11483.45962050547, tolerance: 4576.659751116276\n",
      "  model = cd_fast.enet_coordinate_descent(\n",
      "/home/mat2245/anaconda3/envs/jax/lib/python3.9/site-packages/sklearn/linear_model/_coordinate_descent.py:530: ConvergenceWarning: Objective did not converge. You might want to increase the number of iterations. Duality gap: 8897.456974131346, tolerance: 4576.659751116276\n",
      "  model = cd_fast.enet_coordinate_descent(\n",
      "/home/mat2245/anaconda3/envs/jax/lib/python3.9/site-packages/sklearn/linear_model/_coordinate_descent.py:530: ConvergenceWarning: Objective did not converge. You might want to increase the number of iterations. Duality gap: 14396.245936983265, tolerance: 4576.659751116276\n",
      "  model = cd_fast.enet_coordinate_descent(\n",
      "/home/mat2245/anaconda3/envs/jax/lib/python3.9/site-packages/sklearn/linear_model/_coordinate_descent.py:530: ConvergenceWarning: Objective did not converge. You might want to increase the number of iterations. Duality gap: 17696.40807127836, tolerance: 4576.659751116276\n",
      "  model = cd_fast.enet_coordinate_descent(\n"
     ]
    },
    {
     "name": "stdout",
     "output_type": "stream",
     "text": [
      "pop size: 64,  num_targets: 64,  run: 3\t\r"
     ]
    },
    {
     "name": "stderr",
     "output_type": "stream",
     "text": [
      "/home/mat2245/anaconda3/envs/jax/lib/python3.9/site-packages/sklearn/linear_model/_coordinate_descent.py:530: ConvergenceWarning: Objective did not converge. You might want to increase the number of iterations. Duality gap: 3675.904241199605, tolerance: 2351.3230331152695\n",
      "  model = cd_fast.enet_coordinate_descent(\n",
      "/home/mat2245/anaconda3/envs/jax/lib/python3.9/site-packages/sklearn/linear_model/_coordinate_descent.py:530: ConvergenceWarning: Objective did not converge. You might want to increase the number of iterations. Duality gap: 3492.6687190892117, tolerance: 2351.3230331152695\n",
      "  model = cd_fast.enet_coordinate_descent(\n",
      "/home/mat2245/anaconda3/envs/jax/lib/python3.9/site-packages/sklearn/linear_model/_coordinate_descent.py:530: ConvergenceWarning: Objective did not converge. You might want to increase the number of iterations. Duality gap: 3630.661420789431, tolerance: 2351.3230331152695\n",
      "  model = cd_fast.enet_coordinate_descent(\n",
      "/home/mat2245/anaconda3/envs/jax/lib/python3.9/site-packages/sklearn/linear_model/_coordinate_descent.py:530: ConvergenceWarning: Objective did not converge. You might want to increase the number of iterations. Duality gap: 18994.358182763855, tolerance: 2351.3230331152695\n",
      "  model = cd_fast.enet_coordinate_descent(\n",
      "/home/mat2245/anaconda3/envs/jax/lib/python3.9/site-packages/sklearn/linear_model/_coordinate_descent.py:530: ConvergenceWarning: Objective did not converge. You might want to increase the number of iterations. Duality gap: 8082.675890760729, tolerance: 2351.3230331152695\n",
      "  model = cd_fast.enet_coordinate_descent(\n",
      "/home/mat2245/anaconda3/envs/jax/lib/python3.9/site-packages/sklearn/linear_model/_coordinate_descent.py:530: ConvergenceWarning: Objective did not converge. You might want to increase the number of iterations. Duality gap: 4970.2091791855055, tolerance: 2351.3230331152695\n",
      "  model = cd_fast.enet_coordinate_descent(\n",
      "/home/mat2245/anaconda3/envs/jax/lib/python3.9/site-packages/sklearn/linear_model/_coordinate_descent.py:530: ConvergenceWarning: Objective did not converge. You might want to increase the number of iterations. Duality gap: 2431.4150020605884, tolerance: 2351.3230331152695\n",
      "  model = cd_fast.enet_coordinate_descent(\n",
      "/home/mat2245/anaconda3/envs/jax/lib/python3.9/site-packages/sklearn/linear_model/_coordinate_descent.py:530: ConvergenceWarning: Objective did not converge. You might want to increase the number of iterations. Duality gap: 4698.99287284899, tolerance: 2351.3230331152695\n",
      "  model = cd_fast.enet_coordinate_descent(\n",
      "/home/mat2245/anaconda3/envs/jax/lib/python3.9/site-packages/sklearn/linear_model/_coordinate_descent.py:530: ConvergenceWarning: Objective did not converge. You might want to increase the number of iterations. Duality gap: 3118.2440925918054, tolerance: 2351.3230331152695\n",
      "  model = cd_fast.enet_coordinate_descent(\n"
     ]
    },
    {
     "name": "stdout",
     "output_type": "stream",
     "text": [
      "pop size: 64,  num_targets: 64,  run: 4\t\r"
     ]
    },
    {
     "name": "stderr",
     "output_type": "stream",
     "text": [
      "/home/mat2245/anaconda3/envs/jax/lib/python3.9/site-packages/sklearn/linear_model/_coordinate_descent.py:530: ConvergenceWarning: Objective did not converge. You might want to increase the number of iterations. Duality gap: 2183.294611847028, tolerance: 1914.0041525415347\n",
      "  model = cd_fast.enet_coordinate_descent(\n",
      "/home/mat2245/anaconda3/envs/jax/lib/python3.9/site-packages/sklearn/linear_model/_coordinate_descent.py:530: ConvergenceWarning: Objective did not converge. You might want to increase the number of iterations. Duality gap: 17202.024417357345, tolerance: 1914.0041525415347\n",
      "  model = cd_fast.enet_coordinate_descent(\n",
      "/home/mat2245/anaconda3/envs/jax/lib/python3.9/site-packages/sklearn/linear_model/_coordinate_descent.py:530: ConvergenceWarning: Objective did not converge. You might want to increase the number of iterations. Duality gap: 2271.202639437455, tolerance: 1914.0041525415347\n",
      "  model = cd_fast.enet_coordinate_descent(\n"
     ]
    },
    {
     "name": "stdout",
     "output_type": "stream",
     "text": [
      "\n",
      "Total elapsed time 21.49 min\n"
     ]
    }
   ],
   "source": [
    "# # sigma = 1\n",
    "# # K = 500\n",
    "powers = np.arange(10, 51, 10)\n",
    "a = 0.2\n",
    "num_repeats = 5\n",
    "\n",
    "\n",
    "for sigma in test_sigmas:\n",
    "    for K in test_Ks:\n",
    "\n",
    "        error_matrix = -1 * np.ones((len(test_Ns), len(test_num_targets), num_repeats))\n",
    "\n",
    "        tstart = time.time()\n",
    "        for idxn, N in enumerate(test_Ns):\n",
    "            for idxs, num_targets in enumerate(test_num_targets):\n",
    "                if num_targets > N:\n",
    "                    continue\n",
    "                for rep in range(num_repeats):\n",
    "                    print('pop size: %i,  num_targets: %i,  run: %i\\t'%(N, num_targets, rep), end='\\r')\n",
    "\n",
    "                    # generate simulation\n",
    "                    phi_1 = np.random.uniform(2.5, 5.5, N)\n",
    "                    sim = adaprobe.Simulation3d(N=N, phi_1=phi_1, a=a, sigma=sigma)\n",
    "                    sim.simulate_multistim(trials=K, num_targets=np.min([num_targets, N]), powers=powers)\n",
    "\n",
    "                    # configure priors\n",
    "                    phi_prior = np.c_[0.1 * np.ones(N), 5 * np.ones(N)]\n",
    "                    phi_cov_prior = np.array([np.array([[1e-1, 0], [0, 1e0]]) for _ in range(N)])\n",
    "#                     beta_prior = 7e0 * np.ones(N)\n",
    "#                     mu_prior = np.zeros(N)\n",
    "                    \n",
    "                    priors_without_alpha = {\n",
    "                        'alpha': np.ones(N), # 0.05\n",
    "                        'beta': 1e1 * np.ones(N),\n",
    "                        'mu': np.zeros(N),\n",
    "                        'phi': phi_prior,\n",
    "                        'phi_cov': phi_cov_prior\n",
    "                    }\n",
    "                    \n",
    "                    stimulus_matrix = np.zeros((N, K))\n",
    "                    for n in range(N):\n",
    "                        locs = np.where(sim.tars == n)[0]\n",
    "                        stimulus_matrix[n, locs] = sim.I[locs]\n",
    "\n",
    "                    model = adaprobe.Model(sim.cell_locs, priors=priors_without_alpha)\n",
    "                    model.fit(sim.y, stimulus_matrix, fit_options=fit_options_wo_alpha, method='cavi_offline_spike_and_slab_NOTS_jax')\n",
    "\n",
    "                    error_matrix[idxn, idxs, rep] = np.mean(np.abs(sim.w - model.state['mu'] * model.state['alpha']))\n",
    "        tend = time.time()\n",
    "#         np.save('multispot_mapping_error_matrix_K%i_sigma%.1f_spike_target_relaxed.npy'%(K, sigma), error_matrix)\n",
    "        print('\\nTotal elapsed time %.2f min'%((tend-tstart)/60))"
   ]
  },
  {
   "cell_type": "code",
   "execution_count": 10,
   "metadata": {},
   "outputs": [],
   "source": [
    "fontsize=13"
   ]
  },
  {
   "cell_type": "code",
   "execution_count": 11,
   "metadata": {},
   "outputs": [],
   "source": [
    "# for sigma in test_sigmas:\n",
    "#     for K in test_Ks:\n",
    "#         error_matrix = np.load('results/multispot_mapping_error_matrix_K%i_sigma%.1f.npy'%(K, sigma))\n",
    "#         means = np.mean(error_matrix, axis=-1)\n",
    "#         sdevs = np.std(error_matrix, axis=-1)\n",
    "        \n",
    "#         plt.figure(figsize=(12, 4))\n",
    "#         for N in range(len(test_Ns)):\n",
    "#             num_pts = len(np.where(means[N] > -1)[0])\n",
    "#             plt.plot(test_num_targets[:num_pts], means[N][:num_pts], 'o-', color='C%i'%N)\n",
    "#         #     plt.fill_between(num_targets_all[:num_pts], means[N][:num_pts] - sdevs[N][:num_pts], means[N][:num_pts] + sdevs[N][:num_pts], facecolor='C%i'%N, edgecolor='None', alpha=0.2)\n",
    "#         plt.xticks(test_num_targets)\n",
    "#         plt.legend(test_Ns, frameon=False, title='Population size', fontsize=fontsize, title_fontsize=fontsize)\n",
    "#         plt.ylabel('Mean absolute error\\n$|\\mathbb{E}[w_n] - w_n|$', fontsize=fontsize)\n",
    "#         plt.xlabel('Number of simultaneous holograms', fontsize=fontsize)\n",
    "#         plt.title('Noise: $\\sigma$=%.1f\\nNumber of trials: K=%i'%(sigma, K))\n",
    "#         plt.grid(linestyle='--', alpha=0.5)\n",
    "#         plt.xticks(fontsize=fontsize)\n",
    "#         plt.yticks(fontsize=fontsize)\n",
    "#         plt.ylim([-0.25, 10.75])\n",
    "\n",
    "#         plt.savefig('figs/multi_spot_mapping_offline_err_vs_nstim_sigma%.1f_K%i.png'%(sigma, K), format='png', bbox_inches='tight', dpi=200, facecolor='white')\n",
    "#         plt.show()\n",
    "        "
   ]
  },
  {
   "cell_type": "code",
   "execution_count": 12,
   "metadata": {},
   "outputs": [],
   "source": [
    "means = np.mean(error_matrix, axis=-1)\n",
    "sdevs = np.std(error_matrix, axis=-1)"
   ]
  },
  {
   "cell_type": "code",
   "execution_count": 15,
   "metadata": {},
   "outputs": [
    {
     "data": {
      "image/png": "[encoded data removed]",
      "text/plain": [
       "<Figure size 864x288 with 1 Axes>"
      ]
     },
     "metadata": {
      "needs_background": "light"
     },
     "output_type": "display_data"
    }
   ],
   "source": [
    "plt.figure(figsize=(12, 4))\n",
    "for N in range(len(test_Ns)):\n",
    "    num_pts = len(np.where(means[N] > -1)[0])\n",
    "    plt.plot(test_num_targets[:num_pts], means[N][:num_pts], 'o-', color='C%i'%N)\n",
    "#     plt.fill_between(num_targets_all[:num_pts], means[N][:num_pts] - sdevs[N][:num_pts], means[N][:num_pts] + sdevs[N][:num_pts], facecolor='C%i'%N, edgecolor='None', alpha=0.2)\n",
    "plt.xticks(test_num_targets)\n",
    "plt.legend(test_Ns, frameon=False, title='Population size', fontsize=fontsize, title_fontsize=fontsize)\n",
    "plt.ylabel('Mean absolute error\\n$|\\mathbb{E}[w_n] - w_n|$', fontsize=fontsize)\n",
    "plt.xlabel('Number of simultaneous holograms', fontsize=fontsize)\n",
    "plt.title('Noise: $\\sigma$=%.1f\\nNumber of trials: K=%i'%(sigma, K))\n",
    "plt.grid(linestyle='--', alpha=0.5)\n",
    "# for loc in ['top', 'right']:\n",
    "#     plt.gca().spines[loc].set_visible(False)\n",
    "plt.xticks(fontsize=fontsize)\n",
    "plt.yticks(fontsize=fontsize)\n",
    "plt.ylim([-0.25, 10.75])\n",
    "\n",
    "# plt.savefig('figs/model_based_cs/multi_spot_mapping_offline_err_vs_nstim_hybrid_mbcs_sigma%.1f_K%i.png'%(sigma, K), format='png', bbox_inches='tight', dpi=200, facecolor='white')\n",
    "plt.show()"
   ]
  },
  {
   "cell_type": "code",
   "execution_count": null,
   "metadata": {},
   "outputs": [],
   "source": []
  },
  {
   "cell_type": "code",
   "execution_count": null,
   "metadata": {},
   "outputs": [],
   "source": []
  },
  {
   "cell_type": "code",
   "execution_count": null,
   "metadata": {},
   "outputs": [],
   "source": []
  },
  {
   "cell_type": "code",
   "execution_count": null,
   "metadata": {},
   "outputs": [],
   "source": []
  }
 ],
 "metadata": {
  "kernelspec": {
   "display_name": "Python 3",
   "language": "python",
   "name": "python3"
  },
  "language_info": {
   "codemirror_mode": {
    "name": "ipython",
    "version": 3
   },
   "file_extension": ".py",
   "mimetype": "text/x-python",
   "name": "python",
   "nbconvert_exporter": "python",
   "pygments_lexer": "ipython3",
   "version": "3.9.4"
  }
 },
 "nbformat": 4,
 "nbformat_minor": 4
}
