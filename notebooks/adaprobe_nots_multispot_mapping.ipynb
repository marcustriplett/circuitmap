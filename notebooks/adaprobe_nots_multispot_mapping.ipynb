{
 "cells": [
  {
   "cell_type": "code",
   "execution_count": 1,
   "metadata": {},
   "outputs": [
    {
     "name": "stderr",
     "output_type": "stream",
     "text": [
      "In C:\\Users\\Marcus\\anaconda3\\lib\\site-packages\\matplotlib\\mpl-data\\stylelib\\_classic_test.mplstyle: \n",
      "The text.latex.preview rcparam was deprecated in Matplotlib 3.3 and will be removed two minor releases later.\n",
      "In C:\\Users\\Marcus\\anaconda3\\lib\\site-packages\\matplotlib\\mpl-data\\stylelib\\_classic_test.mplstyle: \n",
      "The mathtext.fallback_to_cm rcparam was deprecated in Matplotlib 3.3 and will be removed two minor releases later.\n",
      "In C:\\Users\\Marcus\\anaconda3\\lib\\site-packages\\matplotlib\\mpl-data\\stylelib\\_classic_test.mplstyle: Support for setting the 'mathtext.fallback_to_cm' rcParam is deprecated since 3.3 and will be removed two minor releases later; use 'mathtext.fallback : 'cm' instead.\n",
      "In C:\\Users\\Marcus\\anaconda3\\lib\\site-packages\\matplotlib\\mpl-data\\stylelib\\_classic_test.mplstyle: \n",
      "The validate_bool_maybe_none function was deprecated in Matplotlib 3.3 and will be removed two minor releases later.\n",
      "In C:\\Users\\Marcus\\anaconda3\\lib\\site-packages\\matplotlib\\mpl-data\\stylelib\\_classic_test.mplstyle: \n",
      "The savefig.jpeg_quality rcparam was deprecated in Matplotlib 3.3 and will be removed two minor releases later.\n",
      "In C:\\Users\\Marcus\\anaconda3\\lib\\site-packages\\matplotlib\\mpl-data\\stylelib\\_classic_test.mplstyle: \n",
      "The keymap.all_axes rcparam was deprecated in Matplotlib 3.3 and will be removed two minor releases later.\n",
      "In C:\\Users\\Marcus\\anaconda3\\lib\\site-packages\\matplotlib\\mpl-data\\stylelib\\_classic_test.mplstyle: \n",
      "The animation.avconv_path rcparam was deprecated in Matplotlib 3.3 and will be removed two minor releases later.\n",
      "In C:\\Users\\Marcus\\anaconda3\\lib\\site-packages\\matplotlib\\mpl-data\\stylelib\\_classic_test.mplstyle: \n",
      "The animation.avconv_args rcparam was deprecated in Matplotlib 3.3 and will be removed two minor releases later.\n"
     ]
    }
   ],
   "source": [
    "import matplotlib.pyplot as plt\n",
    "import numpy as np\n",
    "\n",
    "import sklearn\n",
    "from sklearn.mixture import GaussianMixture\n",
    "\n",
    "# import os\n",
    "# os.environ['CUDA_VISIBLE_DEVICES'] = '3'\n",
    "# \n",
    "# import jax\n",
    "# import jax.numpy as jnp\n",
    "# from jax import jit, vmap\n",
    "# from jax.nn import sigmoid\n",
    "\n",
    "import time"
   ]
  },
  {
   "cell_type": "code",
   "execution_count": 4,
   "metadata": {},
   "outputs": [],
   "source": [
    "# jax.devices()"
   ]
  },
  {
   "cell_type": "code",
   "execution_count": null,
   "metadata": {},
   "outputs": [],
   "source": [
    "EPS = 1e-10\n",
    "fontsize=13"
   ]
  },
  {
   "cell_type": "code",
   "execution_count": 3,
   "metadata": {},
   "outputs": [
    {
     "ename": "SyntaxError",
     "evalue": "invalid syntax (cavi_offline_spike_and_slab_NOTS_jax.py, line 67)",
     "output_type": "error",
     "traceback": [
      "Traceback \u001b[1;36m(most recent call last)\u001b[0m:\n",
      "  File \u001b[0;32m\"C:\\Users\\Marcus\\anaconda3\\lib\\site-packages\\IPython\\core\\interactiveshell.py\"\u001b[0m, line \u001b[0;32m3331\u001b[0m, in \u001b[0;35mrun_code\u001b[0m\n    exec(code_obj, self.user_global_ns, self.user_ns)\n",
      "  File \u001b[0;32m\"<ipython-input-3-ea26c76b0ddb>\"\u001b[0m, line \u001b[0;32m3\u001b[0m, in \u001b[0;35m<module>\u001b[0m\n    import adaprobe\n",
      "  File \u001b[0;32m\"..\\adaprobe\\__init__.py\"\u001b[0m, line \u001b[0;32m1\u001b[0m, in \u001b[0;35m<module>\u001b[0m\n    from .model import Model\n",
      "  File \u001b[0;32m\"..\\adaprobe\\model.py\"\u001b[0m, line \u001b[0;32m2\u001b[0m, in \u001b[0;35m<module>\u001b[0m\n    from adaprobe import optimise\n",
      "\u001b[1;36m  File \u001b[1;32m\"..\\adaprobe\\optimise\\__init__.py\"\u001b[1;36m, line \u001b[1;32m10\u001b[1;36m, in \u001b[1;35m<module>\u001b[1;36m\u001b[0m\n\u001b[1;33m    from .cavi_offline_spike_and_slab_NOTS_jax import cavi_offline_spike_and_slab_NOTS_jax\u001b[0m\n",
      "\u001b[1;36m  File \u001b[1;32m\"..\\adaprobe\\optimise\\cavi_offline_spike_and_slab_NOTS_jax.py\"\u001b[1;36m, line \u001b[1;32m67\u001b[0m\n\u001b[1;33m    return scope.mu, scope.beta, scope.alpha, scope.lam, scope.shape, scope.rate, scope.phi, scope.phi_cov, *scope.hist_arrs\u001b[0m\n\u001b[1;37m                                                                                                            ^\u001b[0m\n\u001b[1;31mSyntaxError\u001b[0m\u001b[1;31m:\u001b[0m invalid syntax\n"
     ]
    }
   ],
   "source": [
    "import sys\n",
    "sys.path.append('../')\n",
    "import adaprobe"
   ]
  },
  {
   "cell_type": "markdown",
   "metadata": {},
   "source": [
    "# Vary number of stimuli"
   ]
  },
  {
   "cell_type": "code",
   "execution_count": 5,
   "metadata": {},
   "outputs": [],
   "source": [
    "test_Ns = [2, 4, 8, 16, 32, 64]\n",
    "test_num_targets = [1, 2, 4, 8, 16, 32, 64]\n",
    "test_Ks = [500]\n",
    "test_sigmas = [1]\n",
    "# test_Ks = [500, 1000, 2000, 4000]\n",
    "# test_sigmas = [1, 3, 5]"
   ]
  },
  {
   "cell_type": "code",
   "execution_count": 8,
   "metadata": {},
   "outputs": [],
   "source": [
    "fit_options = {\n",
    "    'iters': 100,\n",
    "    'num_mc_samples': 20,\n",
    "    'seed': 1\n",
    "}"
   ]
  },
  {
   "cell_type": "code",
   "execution_count": 9,
   "metadata": {},
   "outputs": [
    {
     "name": "stdout",
     "output_type": "stream",
     "text": [
      "pop size: 64,  num_targets: 64,  run: 19\t\n",
      "Total elapsed time 14.72 min\n"
     ]
    }
   ],
   "source": [
    "# # # sigma = 1\n",
    "# # # K = 500\n",
    "# powers = np.arange(10, 51, 10)\n",
    "# a = 0.5\n",
    "# num_repeats = 20\n",
    "\n",
    "\n",
    "# for sigma in test_sigmas:\n",
    "#     for K in test_Ks:\n",
    "\n",
    "#         error_matrix = -1 * np.ones((len(test_Ns), len(test_num_targets), num_repeats))\n",
    "\n",
    "#         tstart = time.time()\n",
    "#         for idxn, N in enumerate(test_Ns):\n",
    "#             for idxs, num_targets in enumerate(test_num_targets):\n",
    "#                 if num_targets > N:\n",
    "#                     continue\n",
    "#                 for rep in range(num_repeats):\n",
    "#                     print('pop size: %i,  num_targets: %i,  run: %i\\t'%(N, num_targets, rep), end='\\r')\n",
    "\n",
    "#                     # generate simulation\n",
    "#                     phi_1 = np.random.uniform(2.5, 5.5, N)\n",
    "#                     sim = adaprobe.Simulation3d(N=N, phi_1=phi_1, a=a, sigma=sigma)\n",
    "#                     sim.simulate_multistim(trials=K, num_targets=np.min([num_targets, N]), powers=powers)\n",
    "\n",
    "#                     # configure priors\n",
    "#                     phi_prior = np.c_[0.1 * np.ones(N), 5 * np.ones(N)]\n",
    "#                     phi_cov_prior = np.array([np.array([[1e-1, 0], [0, 1e0]]) for _ in range(N)])\n",
    "#                     beta_prior = 7e0 * np.ones(N)\n",
    "#                     mu_prior = np.zeros(N)\n",
    "\n",
    "#                     priors = {\n",
    "#                         'beta': beta_prior,\n",
    "#                         'mu': mu_prior,\n",
    "#                         'phi': phi_prior,\n",
    "#                         'phi_cov': phi_cov_prior\n",
    "#                     }\n",
    "\n",
    "#                     stimulus_matrix = np.zeros((N, K))\n",
    "#                     for n in range(N):\n",
    "#                         locs = np.where(sim.tars == n)[0]\n",
    "#                         stimulus_matrix[n, locs] = sim.I[locs]\n",
    "\n",
    "#                     model = adaprobe.Model(sim.cell_locs, priors=priors)\n",
    "#                     model.fit(sim.y, stimulus_matrix, fit_options=fit_options, method='cavi_offline_spike_and_slab_NOTS_jax')\n",
    "\n",
    "#                     error_matrix[idxn, idxs, rep] = np.mean(np.abs(sim.w - model.state['mu'] * model.state['alpha']))\n",
    "#         tend = time.time()\n",
    "#         np.save('multispot_mapping_error_matrix_K%i_sigma%.1f_spike_target_relaxed.npy'%(K, sigma), error_matrix)\n",
    "#         print('\\nTotal elapsed time %.2f min'%((tend-tstart)/60))"
   ]
  },
  {
   "cell_type": "code",
   "execution_count": 10,
   "metadata": {},
   "outputs": [],
   "source": [
    "fontsize=13"
   ]
  },
  {
   "cell_type": "code",
   "execution_count": null,
   "metadata": {},
   "outputs": [],
   "source": [
    "# for sigma in test_sigmas:\n",
    "#     for K in test_Ks:\n",
    "#         error_matrix = np.load('results/multispot_mapping_error_matrix_K%i_sigma%.1f.npy'%(K, sigma))\n",
    "#         means = np.mean(error_matrix, axis=-1)\n",
    "#         sdevs = np.std(error_matrix, axis=-1)\n",
    "        \n",
    "#         plt.figure(figsize=(12, 4))\n",
    "#         for N in range(len(test_Ns)):\n",
    "#             num_pts = len(np.where(means[N] > -1)[0])\n",
    "#             plt.plot(test_num_targets[:num_pts], means[N][:num_pts], 'o-', color='C%i'%N)\n",
    "#         #     plt.fill_between(num_targets_all[:num_pts], means[N][:num_pts] - sdevs[N][:num_pts], means[N][:num_pts] + sdevs[N][:num_pts], facecolor='C%i'%N, edgecolor='None', alpha=0.2)\n",
    "#         plt.xticks(test_num_targets)\n",
    "#         plt.legend(test_Ns, frameon=False, title='Population size', fontsize=fontsize, title_fontsize=fontsize)\n",
    "#         plt.ylabel('Mean absolute error\\n$|\\mathbb{E}[w_n] - w_n|$', fontsize=fontsize)\n",
    "#         plt.xlabel('Number of simultaneous holograms', fontsize=fontsize)\n",
    "#         plt.title('Noise: $\\sigma$=%.1f\\nNumber of trials: K=%i'%(sigma, K))\n",
    "#         plt.grid(linestyle='--', alpha=0.5)\n",
    "#         plt.xticks(fontsize=fontsize)\n",
    "#         plt.yticks(fontsize=fontsize)\n",
    "#         plt.ylim([-0.25, 10.75])\n",
    "\n",
    "#         plt.savefig('figs/multi_spot_mapping_offline_err_vs_nstim_sigma%.1f_K%i.png'%(sigma, K), format='png', bbox_inches='tight', dpi=200, facecolor='white')\n",
    "#         plt.show()\n",
    "        "
   ]
  },
  {
   "cell_type": "code",
   "execution_count": 12,
   "metadata": {},
   "outputs": [],
   "source": [
    "means = np.mean(error_matrix, axis=-1)\n",
    "sdevs = np.std(error_matrix, axis=-1)"
   ]
  },
  {
   "cell_type": "code",
   "execution_count": 15,
   "metadata": {},
   "outputs": [
    {
     "data": {
      "image/png": "[encoded data removed]",
      "text/plain": [
       "<Figure size 864x288 with 1 Axes>"
      ]
     },
     "metadata": {
      "needs_background": "light"
     },
     "output_type": "display_data"
    }
   ],
   "source": [
    "plt.figure(figsize=(12, 4))\n",
    "for N in range(len(test_Ns)):\n",
    "    num_pts = len(np.where(means[N] > -1)[0])\n",
    "    plt.plot(test_num_targets[:num_pts], means[N][:num_pts], 'o-', color='C%i'%N)\n",
    "#     plt.fill_between(num_targets_all[:num_pts], means[N][:num_pts] - sdevs[N][:num_pts], means[N][:num_pts] + sdevs[N][:num_pts], facecolor='C%i'%N, edgecolor='None', alpha=0.2)\n",
    "plt.xticks(test_num_targets)\n",
    "plt.legend(test_Ns, frameon=False, title='Population size', fontsize=fontsize, title_fontsize=fontsize)\n",
    "plt.ylabel('Mean absolute error\\n$|\\mathbb{E}[w_n] - w_n|$', fontsize=fontsize)\n",
    "plt.xlabel('Number of simultaneous holograms', fontsize=fontsize)\n",
    "plt.title('Noise: $\\sigma$=%.1f\\nNumber of trials: K=%i'%(sigma, K))\n",
    "plt.grid(linestyle='--', alpha=0.5)\n",
    "# for loc in ['top', 'right']:\n",
    "#     plt.gca().spines[loc].set_visible(False)\n",
    "plt.xticks(fontsize=fontsize)\n",
    "plt.yticks(fontsize=fontsize)\n",
    "plt.ylim([-0.25, 10.75])\n",
    "\n",
    "# plt.savefig('figs/multi_spot_mapping_offline_err_vs_nstim_with_relaxed_spike_targeting_sigma%.1f_K%i.png'%(sigma, K), format='png', bbox_inches='tight', dpi=200, facecolor='white')\n",
    "plt.show()"
   ]
  },
  {
   "cell_type": "code",
   "execution_count": null,
   "metadata": {},
   "outputs": [],
   "source": []
  },
  {
   "cell_type": "code",
   "execution_count": null,
   "metadata": {},
   "outputs": [],
   "source": []
  },
  {
   "cell_type": "code",
   "execution_count": null,
   "metadata": {},
   "outputs": [],
   "source": []
  },
  {
   "cell_type": "code",
   "execution_count": null,
   "metadata": {},
   "outputs": [],
   "source": []
  }
 ],
 "metadata": {
  "kernelspec": {
   "display_name": "Python 3",
   "language": "python",
   "name": "python3"
  },
  "language_info": {
   "codemirror_mode": {
    "name": "ipython",
    "version": 3
   },
   "file_extension": ".py",
   "mimetype": "text/x-python",
   "name": "python",
   "nbconvert_exporter": "python",
   "pygments_lexer": "ipython3",
   "version": "3.7.6"
  }
 },
 "nbformat": 4,
 "nbformat_minor": 4
}
