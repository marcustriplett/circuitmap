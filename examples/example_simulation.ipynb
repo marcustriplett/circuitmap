{
 "cells": [
  {
   "cell_type": "code",
   "execution_count": 1,
   "id": "cec181d9-d9af-48f3-9bf9-d90b5c90bd2c",
   "metadata": {},
   "outputs": [],
   "source": [
    "import circuitmap as cm\n",
    "from circuitmap import NeuralDemixer"
   ]
  },
  {
   "cell_type": "code",
   "execution_count": 2,
   "id": "5580f9b6-ab14-47ba-9971-33010fb74fca",
   "metadata": {},
   "outputs": [],
   "source": [
    "import numpy as np\n",
    "import matplotlib.pyplot as plt"
   ]
  },
  {
   "cell_type": "code",
   "execution_count": 3,
   "id": "4f053ea7-1306-4c75-8fd9-52795057e1d7",
   "metadata": {},
   "outputs": [],
   "source": [
    "N = 300"
   ]
  },
  {
   "cell_type": "code",
   "execution_count": 4,
   "id": "344eeef0-6feb-42d7-beb4-882a8f890a7b",
   "metadata": {},
   "outputs": [
    {
     "name": "stdout",
     "output_type": "stream",
     "text": [
      "Creating simulation with specifications:\n",
      "N 300\n",
      "T 900\n",
      "H 20\n",
      "Trials 1500\n",
      "Hologram repetitions 1\n",
      "Connection density 0.1\n",
      "Spontaneous PSC probability 0.05\n",
      "Powers [45, 55, 65]\n",
      "Generating PSC traces...\n"
     ]
    },
    {
     "data": {
      "application/vnd.jupyter.widget-view+json": {
       "model_id": "20403f654452448ea7bce4132002937f",
       "version_major": 2,
       "version_minor": 0
      },
      "text/plain": [
       "  0%|          | 0/3 [00:00<?, ?it/s]"
      ]
     },
     "metadata": {},
     "output_type": "display_data"
    },
    {
     "name": "stdout",
     "output_type": "stream",
     "text": [
      "Generating spontaneous PSCs...\n",
      "Sampling correlated noise from Gaussian process...\n",
      "Complete.\n",
      "\n"
     ]
    }
   ],
   "source": [
    "sim = cm.simulation.simulate(N=N, trials=1500, H=20, nreps=1, design='blockwise', max_power_min_spike_rate=0.4, connection_prob=0.1)"
   ]
  },
  {
   "cell_type": "code",
   "execution_count": 5,
   "id": "3db8cf43-c680-4e29-b01f-62f00133f99c",
   "metadata": {},
   "outputs": [],
   "source": [
    "demix = NeuralDemixer(path='demixers/nwd_ie_ChroME2f.ckpt', device='cpu') "
   ]
  },
  {
   "cell_type": "code",
   "execution_count": 6,
   "id": "92950c8e-4839-46f7-a998-106443c4e2ef",
   "metadata": {},
   "outputs": [],
   "source": [
    "model = cm.Model(N)"
   ]
  },
  {
   "cell_type": "code",
   "execution_count": 7,
   "id": "be8c623d-ee19-4b2f-80f2-a7dd0ab24ec6",
   "metadata": {},
   "outputs": [
    {
     "name": "stdout",
     "output_type": "stream",
     "text": [
      "Demixing PSC traces... complete (elapsed time 1.06s).\n",
      "Running coordinate-ascent variational inference and isotonic regularisation (CAVIaR) algorithm.\n"
     ]
    },
    {
     "name": "stderr",
     "output_type": "stream",
     "text": [
      "100%|██████████| 40/40 [00:20<00:00,  1.98it/s]\n"
     ]
    },
    {
     "name": "stdout",
     "output_type": "stream",
     "text": [
      "Examining 282 cells for false negatives...\n",
      "Cell reconnection complete.\n"
     ]
    }
   ],
   "source": [
    "model.fit(demix(sim['psc']), sim['stim_matrix'], method='caviar', fit_options={'minimax_spk_prob': 0.4, 'iters': 40})"
   ]
  },
  {
   "cell_type": "code",
   "execution_count": 8,
   "id": "487c316e-eb91-441c-84e7-627ed6848a20",
   "metadata": {},
   "outputs": [
    {
     "data": {
      "image/png": "[encoded data removed]",
      "text/plain": [
       "<Figure size 1080x216 with 1 Axes>"
      ]
     },
     "metadata": {
      "needs_background": "light"
     },
     "output_type": "display_data"
    }
   ],
   "source": [
    "plt.figure(figsize=(15, 3))\n",
    "plt.stem(sim['weights'])\n",
    "plt.scatter(np.arange(N), model.state['mu'], color='firebrick', marker='x', zorder=100)\n",
    "plt.show()"
   ]
  },
  {
   "cell_type": "code",
   "execution_count": null,
   "id": "96e84e73-88df-458e-917f-e2f19f32f59e",
   "metadata": {},
   "outputs": [],
   "source": []
  }
 ],
 "metadata": {
  "kernelspec": {
   "display_name": "Python 3",
   "language": "python",
   "name": "python3"
  },
  "language_info": {
   "codemirror_mode": {
    "name": "ipython",
    "version": 3
   },
   "file_extension": ".py",
   "mimetype": "text/x-python",
   "name": "python",
   "nbconvert_exporter": "python",
   "pygments_lexer": "ipython3",
   "version": "3.9.7"
  }
 },
 "nbformat": 4,
 "nbformat_minor": 5
}
